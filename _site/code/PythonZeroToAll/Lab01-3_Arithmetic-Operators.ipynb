{
 "cells": [
  {
   "cell_type": "markdown",
   "metadata": {
    "collapsed": true
   },
   "source": [
    "# Lab01-3: Arithmetic Operators\n",
    "https://www.hackerrank.com/challenges/python-arithmetic-operators"
   ]
  },
  {
   "cell_type": "markdown",
   "metadata": {},
   "source": [
    "## 1. Description of Problem"
   ]
  },
  {
   "cell_type": "markdown",
   "metadata": {
    "collapsed": false
   },
   "source": [
    "If we want to do an operation, how do we say with Python?\n",
    "\n",
    "This problem is to read two integers from a person and print three results of operation.\n",
    "\n",
    ">Input: two integers (ex. 3, 7)\n",
    "\n",
    ">Output:\n",
    "1. Sum of the two numbers. (ex. 10)\n",
    "2. Difference of the two numbers (first - second). (ex. -4)\n",
    "3. Product of the two numbers. (ex. 21)"
   ]
  },
  {
   "cell_type": "markdown",
   "metadata": {},
   "source": [
    "## 2. Concept & Short Examples"
   ]
  },
  {
   "cell_type": "markdown",
   "metadata": {},
   "source": [
    "### Concept [1] Data Type: int, float, str"
   ]
  },
  {
   "cell_type": "markdown",
   "metadata": {},
   "source": [
    "There are many kinds of data, and the data requires space to be stored.\n",
    "\n",
    "The following three data types vary in size depending on the type.\n",
    "\n",
    "> int: variable whose number is to be an integer\n",
    "\n",
    "> float: variable whose number is to be a real number\n",
    "\n",
    "> str: variable that makes the data a string\n",
    "\n",
    "Ex1) We want to store your input into a int variable 'int_a' and then print it."
   ]
  },
  {
   "cell_type": "code",
   "execution_count": 1,
   "metadata": {
    "collapsed": false
   },
   "outputs": [
    {
     "name": "stdout",
     "output_type": "stream",
     "text": [
      "3\n",
      "3\n"
     ]
    }
   ],
   "source": [
    "int_a = int(input())\n",
    "print int_a"
   ]
  },
  {
   "cell_type": "markdown",
   "metadata": {},
   "source": [
    "Ex2) We want to store your input into a float variable 'float_b' and then print it."
   ]
  },
  {
   "cell_type": "code",
   "execution_count": 2,
   "metadata": {
    "collapsed": false
   },
   "outputs": [
    {
     "name": "stdout",
     "output_type": "stream",
     "text": [
      "3\n",
      "3.0\n"
     ]
    }
   ],
   "source": [
    "float_b = float(input())\n",
    "print float_b"
   ]
  },
  {
   "cell_type": "markdown",
   "metadata": {},
   "source": [
    "Ex3) We want to store your input into a string variable 'str_c' and then print it."
   ]
  },
  {
   "cell_type": "code",
   "execution_count": 3,
   "metadata": {
    "collapsed": false
   },
   "outputs": [
    {
     "name": "stdout",
     "output_type": "stream",
     "text": [
      "abc\n",
      "abc\n"
     ]
    }
   ],
   "source": [
    "str_c = str(raw_input())\n",
    "print str_c"
   ]
  },
  {
   "cell_type": "markdown",
   "metadata": {},
   "source": [
    "### Concept [2] Sum(+), Difference(-), Product(*), Exponent(**)"
   ]
  },
  {
   "cell_type": "markdown",
   "metadata": {},
   "source": [
    "You can use it as easily as a calculator.\n",
    "\n",
    "Ex4) We want to store two numbers into variables 'd', 'e' and print the output after calculation."
   ]
  },
  {
   "cell_type": "code",
   "execution_count": 1,
   "metadata": {
    "collapsed": false
   },
   "outputs": [
    {
     "name": "stdout",
     "output_type": "stream",
     "text": [
      "12.5\n",
      "7.5\n",
      "25.0\n",
      "316.227766017\n"
     ]
    }
   ],
   "source": [
    "d = 10\n",
    "e = 2.5\n",
    "print(d + e)\n",
    "print(d - e)\n",
    "print(d * e)\n",
    "print(d ** e)"
   ]
  },
  {
   "cell_type": "markdown",
   "metadata": {},
   "source": [
    "## 3. Practice Problem"
   ]
  },
  {
   "cell_type": "markdown",
   "metadata": {},
   "source": [
    "Read three integers from a person and print three results of operation.\n",
    "\n",
    ">Input: three integers (ex. 30, 20, 10)\n",
    "\n",
    ">Output:\n",
    "1. Sum of the three numbers. (ex. 60)\n",
    "2. Difference of the three numbers (first - second - third). (ex. 0)\n",
    "3. Product of the three numbers. (ex. 6000)"
   ]
  },
  {
   "cell_type": "code",
   "execution_count": 5,
   "metadata": {
    "collapsed": false
   },
   "outputs": [
    {
     "name": "stdout",
     "output_type": "stream",
     "text": [
      "30\n",
      "20\n",
      "10\n",
      "60\n",
      "0\n",
      "6000\n"
     ]
    }
   ],
   "source": [
    "a = int(input())\n",
    "b = int(input())\n",
    "c = int(input()) \n",
    "\n",
    "print a + b + c\n",
    "print a - b - c\n",
    "print a * b * c"
   ]
  },
  {
   "cell_type": "markdown",
   "metadata": {},
   "source": [
    "## 4. Are you ready? \n",
    "### DIY at https://www.hackerrank.com/challenges/python-arithmetic-operators"
   ]
  }
 ],
 "metadata": {
  "anaconda-cloud": {},
  "kernelspec": {
   "display_name": "Python [default]",
   "language": "python",
   "name": "python2"
  },
  "language_info": {
   "codemirror_mode": {
    "name": "ipython",
    "version": 2
   },
   "file_extension": ".py",
   "mimetype": "text/x-python",
   "name": "python",
   "nbconvert_exporter": "python",
   "pygments_lexer": "ipython2",
   "version": "2.7.12"
  }
 },
 "nbformat": 4,
 "nbformat_minor": 1
}
