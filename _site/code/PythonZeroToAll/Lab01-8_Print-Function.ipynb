{
 "cells": [
  {
   "cell_type": "markdown",
   "metadata": {},
   "source": [
    "# Lab01-8: Print Function\n",
    "https://www.hackerrank.com/challenges/python-print"
   ]
  },
  {
   "cell_type": "markdown",
   "metadata": {},
   "source": [
    "## 1. Description of Problem"
   ]
  },
  {
   "cell_type": "markdown",
   "metadata": {},
   "source": [
    "If we want to print something without using any string methods, how do we say in Python?\n",
    "\n",
    "This problem is to print the following using print function, for the input integer N.\n",
    "\n",
    ">Input: integer N\n",
    "\n",
    ">> (ex. 7)\n",
    "\n",
    ">Output: 123...N (\"...\" represents the values in between)\n",
    "\n",
    ">> (ex. 1234567)"
   ]
  },
  {
   "cell_type": "markdown",
   "metadata": {},
   "source": [
    "## 2. Concept & Short Examples"
   ]
  },
  {
   "cell_type": "markdown",
   "metadata": {},
   "source": [
    "### Concept [1] Types of Functions"
   ]
  },
  {
   "cell_type": "markdown",
   "metadata": {
    "collapsed": false
   },
   "source": [
    "Basically, we can divide functions into the following two types:\n",
    "\n",
    "> Built-in functions: functions that are built into Python.\n",
    "\n",
    "> User-defined functions: functions defined by the users themselves.\n",
    "\n",
    "Functions like print(), input(), eval() etc. that we have been using, are some examples of the built-in function.\n",
    "\n",
    "There are 68 built-in functions defined in Python 3.5.2.\n",
    "\n",
    "They are listed on the following site alphabetically along with a brief description.\n",
    "\n",
    "https://www.programiz.com/python-programming/built-in-function\n",
    "\n",
    "Ex1) Let's use a few built-in functions."
   ]
  },
  {
   "cell_type": "code",
   "execution_count": 80,
   "metadata": {
    "collapsed": false
   },
   "outputs": [
    {
     "data": {
      "text/plain": [
       "10"
      ]
     },
     "execution_count": 80,
     "metadata": {},
     "output_type": "execute_result"
    }
   ],
   "source": [
    "# abs(): Return the absolute value of a number.\n",
    "abs(-10)"
   ]
  },
  {
   "cell_type": "code",
   "execution_count": 81,
   "metadata": {
    "collapsed": false
   },
   "outputs": [
    {
     "data": {
      "text/plain": [
       "1000"
      ]
     },
     "execution_count": 81,
     "metadata": {},
     "output_type": "execute_result"
    }
   ],
   "source": [
    "# max(): Return the largest item in an iterable.\n",
    "max(0, -2, 4, 1000, -200)"
   ]
  },
  {
   "cell_type": "code",
   "execution_count": 82,
   "metadata": {
    "collapsed": false
   },
   "outputs": [
    {
     "data": {
      "text/plain": [
       "-200"
      ]
     },
     "execution_count": 82,
     "metadata": {},
     "output_type": "execute_result"
    }
   ],
   "source": [
    "# min(): Return the smallest item in an iterable.\n",
    "min(0, -2, 4, 1000, -200)"
   ]
  },
  {
   "cell_type": "code",
   "execution_count": 83,
   "metadata": {
    "collapsed": false
   },
   "outputs": [
    {
     "data": {
      "text/plain": [
       "int"
      ]
     },
     "execution_count": 83,
     "metadata": {},
     "output_type": "execute_result"
    }
   ],
   "source": [
    "# type(): Return the type of an object.\n",
    "type(-200)"
   ]
  },
  {
   "cell_type": "code",
   "execution_count": 84,
   "metadata": {
    "collapsed": false
   },
   "outputs": [
    {
     "data": {
      "text/plain": [
       "float"
      ]
     },
     "execution_count": 84,
     "metadata": {},
     "output_type": "execute_result"
    }
   ],
   "source": [
    "type(3.2)"
   ]
  },
  {
   "cell_type": "code",
   "execution_count": 85,
   "metadata": {
    "collapsed": false
   },
   "outputs": [
    {
     "data": {
      "text/plain": [
       "str"
      ]
     },
     "execution_count": 85,
     "metadata": {},
     "output_type": "execute_result"
    }
   ],
   "source": [
    "type(\"hello\")"
   ]
  },
  {
   "cell_type": "code",
   "execution_count": 86,
   "metadata": {
    "collapsed": false
   },
   "outputs": [
    {
     "data": {
      "text/plain": [
       "bool"
      ]
     },
     "execution_count": 86,
     "metadata": {},
     "output_type": "execute_result"
    }
   ],
   "source": [
    "type(False)"
   ]
  },
  {
   "cell_type": "markdown",
   "metadata": {},
   "source": [
    "### Concept [2] Function with inputs; how to set the number of inputs freely"
   ]
  },
  {
   "cell_type": "markdown",
   "metadata": {},
   "source": [
    "When we define function, we use * as below, if we want to set the number of inputs freely.\n",
    "\n",
    ">def function name(*input variable name):\n",
    "\n",
    ">     Commands\n",
    "\n",
    ">     return output variable name\n",
    "\n",
    "Ex2) We want to write function of sum from any number of inputs."
   ]
  },
  {
   "cell_type": "code",
   "execution_count": 87,
   "metadata": {
    "collapsed": false
   },
   "outputs": [
    {
     "name": "stdout",
     "output_type": "stream",
     "text": [
      "-63\n"
     ]
    }
   ],
   "source": [
    "def anysum(*x):\n",
    "    sum = 0\n",
    "    for num in x:\n",
    "        sum += num \n",
    "    return sum\n",
    "\n",
    "y = anysum(10, 20, 3, 4, -100)\n",
    "print(y)"
   ]
  },
  {
   "cell_type": "markdown",
   "metadata": {},
   "source": [
    "### Concept [3] print( ) function"
   ]
  },
  {
   "cell_type": "markdown",
   "metadata": {},
   "source": [
    "In Python 3, print is a function, not a statement.\n",
    "\n",
    "To make it easier to convert your programs to the new syntax, first use this import statement (introduced in Python 2.6): \n",
    "\n",
    "from __future__ import print_function\n",
    "\n",
    "Here is the interface to this function: \n",
    "\n",
    "> print(*args, sep=\" \", end=\"\\n\", file=None)\n",
    "\n",
    ">> args: One or more positional arguments whose values are to be printed.\n",
    "\n",
    ">> sep: By default, consecutive values are separated by one space. You may specify a different separator string using this keyword argument. (ex. if you want to use tab, (sep = \"\\t\"))\n",
    "\n",
    ">> end: By default, a newline (\"\\n\") is written after the last value in args. You may use this keywoard argument to specify a different line terminator, or no terminator at all. \n",
    "\n",
    ">> file: Output normally goes to the standard output stream (sys.stdout). To divert the output to another writeable file, use this keyword argument.\n",
    "\n",
    "reference: https://infohost.nmt.edu/tcc/help/pubs/python/web/print-as-function.html\n",
    "\n",
    "Ex3) Let's use print( ) function."
   ]
  },
  {
   "cell_type": "code",
   "execution_count": 88,
   "metadata": {
    "collapsed": false
   },
   "outputs": [
    {
     "name": "stdout",
     "output_type": "stream",
     "text": [
      "1 2 3\n",
      "1 2 3\n",
      " \n",
      "1\t2\t3\n",
      "123456789\n",
      "1   2   3   4   5   6   7   8   9\n",
      "1\t2\t3\t4\t5\t6\t7\t8\t9\n"
     ]
    }
   ],
   "source": [
    "from __future__ import print_function\n",
    "print(1,2,3)\n",
    "print(1,2,3, end=\"\\n \\n\")\n",
    "print(1,2,3, sep=\"\\t\")\n",
    "print(*range(1, 10), sep=\"\")\n",
    "print(*range(1, 10), sep=\"   \")\n",
    "print(*range(1, 10), sep=\"\\t\")"
   ]
  },
  {
   "cell_type": "markdown",
   "metadata": {},
   "source": [
    "## 3. Practice Problem"
   ]
  },
  {
   "cell_type": "markdown",
   "metadata": {},
   "source": [
    "print the following using print function, for the input integer N.\n",
    "\n",
    ">Input: integer N\n",
    "\n",
    ">> (ex. 7)\n",
    "\n",
    ">Output: 1 2 3 4 . . . 2*N (\". . .\" represents the values in between)\n",
    "\n",
    ">> (ex. 1 2 3 4 5 6 7 8 9 10 11 12 13 14)"
   ]
  },
  {
   "cell_type": "code",
   "execution_count": 89,
   "metadata": {
    "collapsed": false
   },
   "outputs": [
    {
     "name": "stdout",
     "output_type": "stream",
     "text": [
      "7\n",
      "1 2 3 4 5 6 7 8 9 10 11 12 13 14\n"
     ]
    }
   ],
   "source": [
    "# Python 2\n",
    "from __future__ import print_function\n",
    "print(*range(1, input()*2 +1 )) "
   ]
  },
  {
   "cell_type": "code",
   "execution_count": 90,
   "metadata": {
    "collapsed": false
   },
   "outputs": [
    {
     "name": "stdout",
     "output_type": "stream",
     "text": [
      "10\n",
      "1 2 3 4 5 6 7 8 9 10 11 12 13 14 15 16 17 18 19 20\n"
     ]
    }
   ],
   "source": [
    "# Python 3\n",
    "print(*range(1, int(input())*2 + 1))"
   ]
  },
  {
   "cell_type": "markdown",
   "metadata": {},
   "source": [
    "## 4. Are you ready? \n",
    "### DIY at https://www.hackerrank.com/challenges/python-print"
   ]
  }
 ],
 "metadata": {
  "anaconda-cloud": {},
  "kernelspec": {
   "display_name": "Python [default]",
   "language": "python",
   "name": "python2"
  },
  "language_info": {
   "codemirror_mode": {
    "name": "ipython",
    "version": 2
   },
   "file_extension": ".py",
   "mimetype": "text/x-python",
   "name": "python",
   "nbconvert_exporter": "python",
   "pygments_lexer": "ipython2",
   "version": "2.7.12"
  }
 },
 "nbformat": 4,
 "nbformat_minor": 1
}
