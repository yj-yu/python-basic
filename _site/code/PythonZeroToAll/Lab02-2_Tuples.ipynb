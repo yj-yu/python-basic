{
 "cells": [
  {
   "cell_type": "markdown",
   "metadata": {},
   "source": [
    "# Lab02-2: Tuples\n",
    "https://www.hackerrank.com/challenges/python-tuples"
   ]
  },
  {
   "cell_type": "markdown",
   "metadata": {},
   "source": [
    "## 1. Description of Problem"
   ]
  },
  {
   "cell_type": "markdown",
   "metadata": {},
   "source": [
    "If we want to store multiple values in a container-like data structure, how do we say in Python?\n",
    "\n",
    "The goal is to solve the problem using Tuple, similar datatype with List.\n",
    "\n",
    "> Task: \n",
    "\n",
    ">> Given an integer, n, and n space-separated integers as input, \n",
    "\n",
    ">> create a tuple, t, of those n integers. Then compute and print the result of hash(t).\n",
    "\n",
    "> Input:\n",
    "\n",
    ">> The first line contains an integer, n, denoting the number of elements in the tuple. \n",
    "\n",
    ">> The second line contains n space-separated integers describing the elements in tuple t.\n",
    "\n",
    "> Output:\n",
    "\n",
    ">> Print the result of hash(t)"
   ]
  },
  {
   "cell_type": "markdown",
   "metadata": {},
   "source": [
    "## 2. Concept & Short Examples"
   ]
  },
  {
   "cell_type": "markdown",
   "metadata": {},
   "source": [
    "### Concept [1] Creating a Tuple"
   ]
  },
  {
   "cell_type": "markdown",
   "metadata": {},
   "source": [
    "In Python programming, a tuple is similar to a list.\n",
    "\n",
    "The difference between the two is that we cannot change the elements of a tuple once it is assigned whereas in a list, elements can be changed.\n",
    "\n",
    "However, there are certain advantages of implementing a tuple over a list.\n",
    "\n",
    "> (1) Since tuple are immutable, iterating through tuple is faster than with list. So there is a slight performance boost.\n",
    "\n",
    "> (2) Tuples that contain immutable elements can be used as key for a dictionary. With list, this is not possible.\n",
    "\n",
    "A tuple is created by placing all the items (elements) inside a parentheses ( ), separated by comma.\n",
    "\n",
    "The parentheses are optional but is a good practice to write it.\n",
    "\n",
    "A tuple can have any number of items and they may be of different types (integer, float, list, string, etc.).\n",
    "\n",
    "Ex1) Let's create some tuples and print them."
   ]
  },
  {
   "cell_type": "code",
   "execution_count": 58,
   "metadata": {
    "collapsed": false
   },
   "outputs": [
    {
     "name": "stdout",
     "output_type": "stream",
     "text": [
      "()\n"
     ]
    }
   ],
   "source": [
    "# empty tuple\n",
    "tuple_a = ()\n",
    "print(tuple_a)"
   ]
  },
  {
   "cell_type": "code",
   "execution_count": 59,
   "metadata": {
    "collapsed": false
   },
   "outputs": [
    {
     "name": "stdout",
     "output_type": "stream",
     "text": [
      "(1, 3, 4)\n"
     ]
    }
   ],
   "source": [
    "# tuple having integers\n",
    "tuple_b = (1, 3, 4)\n",
    "print(tuple_b)"
   ]
  },
  {
   "cell_type": "code",
   "execution_count": 60,
   "metadata": {
    "collapsed": false
   },
   "outputs": [
    {
     "name": "stdout",
     "output_type": "stream",
     "text": [
      "(2, 3.7, 'piano')\n"
     ]
    }
   ],
   "source": [
    "# tuple with mixed datatypes\n",
    "tuple_c = (2, 3.7, \"piano\")\n",
    "print(tuple_c)"
   ]
  },
  {
   "cell_type": "code",
   "execution_count": 61,
   "metadata": {
    "collapsed": false
   },
   "outputs": [
    {
     "name": "stdout",
     "output_type": "stream",
     "text": [
      "('guitar', (2, 3), [5, 7, 0])\n"
     ]
    }
   ],
   "source": [
    "# nested tuple\n",
    "tuple_d = (\"guitar\", (2, 3), [5, 7, 0])\n",
    "print(tuple_d)"
   ]
  },
  {
   "cell_type": "code",
   "execution_count": 62,
   "metadata": {
    "collapsed": false
   },
   "outputs": [
    {
     "name": "stdout",
     "output_type": "stream",
     "text": [
      "(1, 2.7, 'music')\n",
      "1\n",
      "2.7\n",
      "music\n"
     ]
    }
   ],
   "source": [
    "# tuple can be created without parentheses\n",
    "# also called tuple packing\n",
    "tuple_e = 1, 2.7, \"music\"\n",
    "print(tuple_e)\n",
    "\n",
    "# tuple unpacking is also possible\n",
    "one, two, three = tuple_e\n",
    "print(one)\n",
    "print(two)\n",
    "print(three)"
   ]
  },
  {
   "cell_type": "markdown",
   "metadata": {},
   "source": [
    "### Concept [2] Accessing Elements in a Tuple"
   ]
  },
  {
   "cell_type": "markdown",
   "metadata": {},
   "source": [
    "We can use the index operator [ ] to access an item in a tuple where the index starts from 0.\n",
    "\n",
    "So, a tuple having 6 elements will have index from 0 to 5. \n",
    "\n",
    "Trying to access an element other that (6, 7,...) will raise an IndexError.\n",
    "\n",
    "The index must be an integer, so we cannot use float or other types. This will result into TypeError.\n",
    "\n",
    "Ex2) Let's access elements in a tuple using indexing."
   ]
  },
  {
   "cell_type": "code",
   "execution_count": 63,
   "metadata": {
    "collapsed": false
   },
   "outputs": [
    {
     "name": "stdout",
     "output_type": "stream",
     "text": [
      "red\n",
      "orange\n"
     ]
    }
   ],
   "source": [
    "tuple_color = (\"red\", \"yellow\", \"orange\", \"blue\", \"green\")\n",
    "print(tuple_color[0])\n",
    "print(tuple_color[2])"
   ]
  },
  {
   "cell_type": "markdown",
   "metadata": {},
   "source": [
    "Python allows negative indexing for its sequences.\n",
    "\n",
    "The index of -1 refers to the last item, -2 to the second last item and so on.\n",
    "\n",
    "Ex3) Let's access elements in a tuple using negative indexing."
   ]
  },
  {
   "cell_type": "code",
   "execution_count": 21,
   "metadata": {
    "collapsed": false
   },
   "outputs": [
    {
     "name": "stdout",
     "output_type": "stream",
     "text": [
      "green\n",
      "red\n"
     ]
    }
   ],
   "source": [
    "tuple_color = (\"red\", \"yellow\", \"orange\", \"blue\", \"green\")\n",
    "print(tuple_color[-1])\n",
    "print(tuple_color[-5])"
   ]
  },
  {
   "cell_type": "markdown",
   "metadata": {},
   "source": [
    "Ex4) We can access a range of items in a tuple by using the slicing operator, colon \":\"."
   ]
  },
  {
   "cell_type": "code",
   "execution_count": 64,
   "metadata": {
    "collapsed": false
   },
   "outputs": [
    {
     "name": "stdout",
     "output_type": "stream",
     "text": [
      "('yellow', 'orange', 'blue')\n",
      "('red', 'yellow', 'orange')\n",
      "('blue', 'green')\n",
      "('red', 'yellow', 'orange', 'blue', 'green')\n"
     ]
    }
   ],
   "source": [
    "tuple_color = (\"red\", \"yellow\", \"orange\", \"blue\", \"green\")\n",
    "print(tuple_color[1:4])\n",
    "print(tuple_color[:3])\n",
    "print(tuple_color[-2:])\n",
    "print(tuple_color[:])"
   ]
  },
  {
   "cell_type": "markdown",
   "metadata": {},
   "source": [
    "### Concept [3] Changing and Deleting a Tuple"
   ]
  },
  {
   "cell_type": "markdown",
   "metadata": {},
   "source": [
    "We can use + operator to combine two tuples. This is also called concatenation.\n",
    "\n",
    "We can also repeat the elements in a tuple for a given number of times using the * operator.\n",
    "\n",
    "Ex5) Both + and * operations result into a new tuple."
   ]
  },
  {
   "cell_type": "code",
   "execution_count": 65,
   "metadata": {
    "collapsed": false
   },
   "outputs": [
    {
     "name": "stdout",
     "output_type": "stream",
     "text": [
      "(2, 3, 4, 4, 5, 6)\n",
      "('again', 'again2', 'again', 'again2', 'again', 'again2')\n"
     ]
    }
   ],
   "source": [
    "# Concatenation\n",
    "print((2,3,4)+(4,5,6))\n",
    "# Repeat\n",
    "print((\"again\", \"again2\")*3)"
   ]
  },
  {
   "cell_type": "markdown",
   "metadata": {},
   "source": [
    "As discussed above, we cannot change the elements in a tuple. \n",
    "\n",
    "That also means we cannot delete or remove items from a tuple.\n",
    "\n",
    "But deleting a tuple entirely is possible using the keyword del.\n",
    "\n",
    "Ex6) Let's delete a tuple using the keyword del."
   ]
  },
  {
   "cell_type": "code",
   "execution_count": 66,
   "metadata": {
    "collapsed": false
   },
   "outputs": [
    {
     "name": "stdout",
     "output_type": "stream",
     "text": [
      "('w', 'a', 't', 'e', 'r')\n"
     ]
    },
    {
     "ename": "NameError",
     "evalue": "name 'tuple_f' is not defined",
     "output_type": "error",
     "traceback": [
      "\u001b[0;31m---------------------------------------------------------------------------\u001b[0m",
      "\u001b[0;31mNameError\u001b[0m                                 Traceback (most recent call last)",
      "\u001b[0;32m<ipython-input-66-0af0ecf931b9>\u001b[0m in \u001b[0;36m<module>\u001b[0;34m()\u001b[0m\n\u001b[1;32m      4\u001b[0m \u001b[1;32mdel\u001b[0m \u001b[0mtuple_f\u001b[0m\u001b[1;33m\u001b[0m\u001b[0m\n\u001b[1;32m      5\u001b[0m \u001b[1;31m# NameError: name 'tuple_f' is not defined\u001b[0m\u001b[1;33m\u001b[0m\u001b[1;33m\u001b[0m\u001b[0m\n\u001b[0;32m----> 6\u001b[0;31m \u001b[1;32mprint\u001b[0m\u001b[1;33m(\u001b[0m\u001b[0mtuple_f\u001b[0m\u001b[1;33m)\u001b[0m\u001b[1;33m\u001b[0m\u001b[0m\n\u001b[0m",
      "\u001b[0;31mNameError\u001b[0m: name 'tuple_f' is not defined"
     ]
    }
   ],
   "source": [
    "tuple_f = (\"w\", \"a\", \"t\", \"e\", \"r\")\n",
    "print(tuple_f)\n",
    "# can delete entire tuple\n",
    "del tuple_f\n",
    "# NameError: name 'tuple_f' is not defined\n",
    "print(tuple_f)"
   ]
  },
  {
   "cell_type": "markdown",
   "metadata": {},
   "source": [
    "### Concept [4] Python Tuple Methods"
   ]
  },
  {
   "cell_type": "markdown",
   "metadata": {},
   "source": [
    "Methods that add items or remove items are not available with tuple.\n",
    "\n",
    "Only the following two methods are available.\n",
    "\n",
    "> count(x): Return the number of items that is equal to x\n",
    "\n",
    "> index(x): Return index of first item that is equal to x\n",
    "\n",
    "Ex7) Let's use Python tuple methods."
   ]
  },
  {
   "cell_type": "code",
   "execution_count": 67,
   "metadata": {
    "collapsed": false
   },
   "outputs": [
    {
     "name": "stdout",
     "output_type": "stream",
     "text": [
      "3\n",
      "2\n",
      "1\n",
      "0\n",
      "1\n",
      "5\n"
     ]
    }
   ],
   "source": [
    "tuple_g = (\"p\",\"e\",\"p\",\"p\",\"e\",\"r\")\n",
    "print(tuple_g.count(\"p\"))\n",
    "print(tuple_g.count(\"e\"))\n",
    "print(tuple_g.count(\"r\"))\n",
    "print(tuple_g.index(\"p\"))\n",
    "print(tuple_g.index(\"e\"))\n",
    "print(tuple_g.index(\"r\"))"
   ]
  },
  {
   "cell_type": "markdown",
   "metadata": {},
   "source": [
    "### Concept [5] hash( )"
   ]
  },
  {
   "cell_type": "markdown",
   "metadata": {
    "collapsed": true
   },
   "source": [
    "#### Meaning of 'hashable'\n",
    "\n",
    "hash( ) is a method that takes an object(integer, string, float, etc) and returns an integer.\n",
    "\n",
    "The dictionary(datatype) uses this integer, called a hash value to store and retrieve key-value pairs.\n",
    "\n",
    "> hash value = hash(object)\n",
    "\n",
    "This system works well if the key can not be modified. \n",
    "\n",
    "But if the key, like a list, is correctable, something bad happens. \n",
    "\n",
    "For example, when you create a key-value pair, Python hashes the key and stores it in a location that corresponds to the value.\n",
    "\n",
    "If you modify the key and then hash it again, you will go to another location. \n",
    "\n",
    "In that case, you will have two items with the same key, or you will not be able to find the key.\n",
    "\n",
    "In both cases, the dictionary will not work correctly.\n",
    "\n",
    "This is why the key must be hashable, and modifiable datatypes such as lists are not hashable. \n",
    "\n",
    "The simplest way to avoid this limitation is to use a tuple.\n",
    "\n",
    "Ex8) Let's use hash()."
   ]
  },
  {
   "cell_type": "code",
   "execution_count": 68,
   "metadata": {
    "collapsed": false
   },
   "outputs": [
    {
     "name": "stdout",
     "output_type": "stream",
     "text": [
      "321\n",
      "0\n",
      "-728237282\n",
      "2126309038\n"
     ]
    }
   ],
   "source": [
    "# hash for integer unchanged\n",
    "print(hash(321))\n",
    "print(hash(0))\n",
    "# hash for float\n",
    "print(hash(120.42))\n",
    "# hash for string\n",
    "print(hash(\"ice\"))"
   ]
  },
  {
   "cell_type": "markdown",
   "metadata": {},
   "source": [
    "## 3. Practice Problem"
   ]
  },
  {
   "cell_type": "markdown",
   "metadata": {},
   "source": [
    "> Given an integer, n, and n space-separated integers as input => store them in variables.\n",
    "\n",
    "> Create a tuple, t, of those n integers. Then print the tuple t and the result of hash(t).\n",
    "\n",
    "> Input:\n",
    "\n",
    ">> The first line: input integer, n, denoting the number of elements in the tuple. \n",
    "\n",
    ">> The second line: n space-separated input integers describing the elements in tuple t.\n",
    "\n",
    "> Output:\n",
    "\n",
    ">> Print the tuple t and the result of hash(t)"
   ]
  },
  {
   "cell_type": "code",
   "execution_count": 70,
   "metadata": {
    "collapsed": false
   },
   "outputs": [
    {
     "name": "stdout",
     "output_type": "stream",
     "text": [
      "4\n",
      "1 3 0 -5\n",
      "(1, 3, 0, -5)\n",
      "1724495248\n"
     ]
    }
   ],
   "source": [
    "n = raw_input()\n",
    "x = raw_input().split()\n",
    "t = tuple([int(i) for i in x]) \n",
    "print(t)\n",
    "print(hash(t))"
   ]
  },
  {
   "cell_type": "markdown",
   "metadata": {},
   "source": [
    "## 4. Are you ready? \n",
    "### DIY at https://www.hackerrank.com/challenges/python-tuples"
   ]
  }
 ],
 "metadata": {
  "anaconda-cloud": {},
  "kernelspec": {
   "display_name": "Python [default]",
   "language": "python",
   "name": "python2"
  },
  "language_info": {
   "codemirror_mode": {
    "name": "ipython",
    "version": 2
   },
   "file_extension": ".py",
   "mimetype": "text/x-python",
   "name": "python",
   "nbconvert_exporter": "python",
   "pygments_lexer": "ipython2",
   "version": "2.7.12"
  }
 },
 "nbformat": 4,
 "nbformat_minor": 1
}
