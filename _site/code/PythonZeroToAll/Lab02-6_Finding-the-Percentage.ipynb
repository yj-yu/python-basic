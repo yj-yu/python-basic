{
 "cells": [
  {
   "cell_type": "markdown",
   "metadata": {},
   "source": [
    "# Lab02-6: Finding the percentage\n",
    "https://www.hackerrank.com/challenges/finding-the-percentage"
   ]
  },
  {
   "cell_type": "markdown",
   "metadata": {},
   "source": [
    "## 1. Description of Problem"
   ]
  },
  {
   "cell_type": "markdown",
   "metadata": {},
   "source": [
    "If we want to store values in pairs, how do we say in Python?\n",
    "\n",
    "This problem is to use a dictionary.\n",
    "\n",
    "*Task:\n",
    "\n",
    "> You have a record of N students. Each record contains the student's name, and their percent marks in Maths, Physics and Chemistry. The marks can be floating values.\n",
    "\n",
    "> The user enters some integer N followed by the names and marks for N students. You are required to save the record in a dictionary data type. The user then enters a student's name.\n",
    "\n",
    "> Output the average percentage marks obtained by that student, correct to two decimal places.\n",
    "\n",
    "*Input: ex.\n",
    "\n",
    "> 3\n",
    "\n",
    "> Tom 67 68 69\n",
    "\n",
    "> Joo 70 98 63\n",
    "\n",
    "> Andy 52 56 60\n",
    "\n",
    "> Andy\n",
    "\n",
    "*Output: ex.\n",
    "\n",
    "> 56.00"
   ]
  },
  {
   "cell_type": "markdown",
   "metadata": {},
   "source": [
    "## 2. Concept & Short Examples"
   ]
  },
  {
   "cell_type": "markdown",
   "metadata": {},
   "source": [
    "### Concept [1] How to create a dictionary?"
   ]
  },
  {
   "cell_type": "markdown",
   "metadata": {},
   "source": [
    "Python dictionary is an unordered collection of items.\n",
    "\n",
    "While other compound data types have only value as an element, a dictionary has a key: value pair.\n",
    "\n",
    "Dictionaries are optimized to retrieve values when the key is known.\n",
    "\n",
    "Creating a dictionary is as simple as placing items inside curly braces {} separated by comma.\n",
    "\n",
    "An item has a key and the corresponding value expressed as a pair, key: value.\n",
    "\n",
    "While values can be of any data type and can repeat, keys must be of immutable type (string, number or tuple with immutable elements) and must be unique.\n",
    "\n",
    "Ex1) Let's take a look at some examples of creating a dictionary."
   ]
  },
  {
   "cell_type": "code",
   "execution_count": 28,
   "metadata": {
    "collapsed": false
   },
   "outputs": [
    {
     "name": "stdout",
     "output_type": "stream",
     "text": [
      "{}\n",
      "{1: 'milk', 2: 'cow'}\n",
      "{1: [7, 3, 4], 'name': 'Peter'}\n",
      "{1: 'milk', 2: 'cow'}\n",
      "{1: 'milk', 2: 'cow'}\n"
     ]
    }
   ],
   "source": [
    "# empty dictionary\n",
    "my_d = {}\n",
    "print(my_d)\n",
    "\n",
    "# dictionary with integer keys\n",
    "my_d = {1: 'milk', 2: 'cow'}\n",
    "print(my_d)\n",
    "\n",
    "# dictionary with mixed keys\n",
    "my_d = {'name': 'Peter', 1: [7, 3, 4]}\n",
    "print(my_d)\n",
    "\n",
    "# using dict()\n",
    "my_d = dict({1:'milk', 2:'cow'})\n",
    "print(my_d)\n",
    "\n",
    "# from sequence having each item as a pair\n",
    "my_d = dict([(1,'milk'), (2,'cow')])\n",
    "print(my_d)"
   ]
  },
  {
   "cell_type": "markdown",
   "metadata": {},
   "source": [
    "### Concept [2] How to access elements from a dictionary?"
   ]
  },
  {
   "cell_type": "markdown",
   "metadata": {},
   "source": [
    "While indexing is used with other container types to access values, dictionary uses keys.\n",
    "\n",
    "Key can be used either inside square brackets or with the get() method.\n",
    "\n",
    "The difference while using get() is that it returns None instead of KeyError, if the key is not found.\n",
    "\n",
    "Ex2) Let's access elements from a dictionary."
   ]
  },
  {
   "cell_type": "code",
   "execution_count": 29,
   "metadata": {
    "collapsed": false
   },
   "outputs": [
    {
     "name": "stdout",
     "output_type": "stream",
     "text": [
      "EJ\n",
      "22\n"
     ]
    },
    {
     "ename": "KeyError",
     "evalue": "'address'",
     "output_type": "error",
     "traceback": [
      "\u001b[0;31m---------------------------------------------------------------------------\u001b[0m",
      "\u001b[0;31mKeyError\u001b[0m                                  Traceback (most recent call last)",
      "\u001b[0;32m<ipython-input-29-3003d1dc8954>\u001b[0m in \u001b[0;36m<module>\u001b[0;34m()\u001b[0m\n\u001b[1;32m     11\u001b[0m \u001b[1;33m\u001b[0m\u001b[0m\n\u001b[1;32m     12\u001b[0m \u001b[1;31m# Trying to access keys which doesn't exist throws Keyerror\u001b[0m\u001b[1;33m\u001b[0m\u001b[1;33m\u001b[0m\u001b[0m\n\u001b[0;32m---> 13\u001b[0;31m \u001b[0mmy_d\u001b[0m\u001b[1;33m[\u001b[0m\u001b[1;34m'address'\u001b[0m\u001b[1;33m]\u001b[0m\u001b[1;33m\u001b[0m\u001b[0m\n\u001b[0m",
      "\u001b[0;31mKeyError\u001b[0m: 'address'"
     ]
    }
   ],
   "source": [
    "my_d = {'name':'EJ', 'age': 22}\n",
    "\n",
    "# Output: EJ\n",
    "print(my_d['name'])\n",
    "\n",
    "# Output: 22\n",
    "print(my_d.get('age'))\n",
    "\n",
    "# using get(): returns None instead of KeyError\n",
    "my_d.get('address')\n",
    "\n",
    "# Trying to access keys which doesn't exist throws Keyerror\n",
    "my_d['address']"
   ]
  },
  {
   "cell_type": "markdown",
   "metadata": {},
   "source": [
    "### Concept [3] How to change or add elements in a dictionary?"
   ]
  },
  {
   "cell_type": "markdown",
   "metadata": {},
   "source": [
    "Dictionary are mutable. We can add new items or change the value of existing items using assignment operator.\n",
    "\n",
    "If the key is already present, value gets updated, else a new key: value pair is added to the dictionary.\n",
    "\n",
    "Ex3) Let's change or add elements in a dictionary."
   ]
  },
  {
   "cell_type": "code",
   "execution_count": 30,
   "metadata": {
    "collapsed": false
   },
   "outputs": [
    {
     "name": "stdout",
     "output_type": "stream",
     "text": [
      "{'age': 27, 'name': 'EJ'}\n",
      "{'age': 27, 'name': 'EJ', 'address': 'Central'}\n"
     ]
    }
   ],
   "source": [
    "my_d = {'name':'EJ', 'age': 22}\n",
    "\n",
    "# update value\n",
    "my_d['age'] = 27\n",
    "\n",
    "# Output: {'age': 27, 'name': 'EJ'}\n",
    "print(my_d)\n",
    "\n",
    "# add item\n",
    "my_d['address'] = 'Central'  \n",
    "\n",
    "# Output: {'age': 27, 'name': 'EJ', 'address': 'Central'}\n",
    "print(my_d)"
   ]
  },
  {
   "cell_type": "markdown",
   "metadata": {},
   "source": [
    "### Concept [4] How to delete or remove elements from a dictionary?"
   ]
  },
  {
   "cell_type": "markdown",
   "metadata": {},
   "source": [
    "We can remove a particular item in a dictionary by using the method pop(). This method removes as item with the provided key and returns the value.\n",
    "\n",
    "The method, popitem() can be used to remove and return an arbitrary item (key, value) from the dictionary. All the items can be removed at once using the clear() method.\n",
    "\n",
    "We can also use the del keyword to remove individual items or the entire dictionary itself.\n",
    "\n",
    "Ex4) Let's delete or remove elements from a dictionary."
   ]
  },
  {
   "cell_type": "code",
   "execution_count": 31,
   "metadata": {
    "collapsed": false
   },
   "outputs": [
    {
     "name": "stdout",
     "output_type": "stream",
     "text": [
      "16\n",
      "{1: 1, 2: 4, 3: 9, 5: 25}\n",
      "(1, 1)\n",
      "{2: 4, 3: 9, 5: 25}\n",
      "{2: 4, 3: 9}\n",
      "{}\n"
     ]
    },
    {
     "ename": "NameError",
     "evalue": "name 'squares' is not defined",
     "output_type": "error",
     "traceback": [
      "\u001b[0;31m---------------------------------------------------------------------------\u001b[0m",
      "\u001b[0;31mNameError\u001b[0m                                 Traceback (most recent call last)",
      "\u001b[0;32m<ipython-input-31-998d495a129d>\u001b[0m in \u001b[0;36m<module>\u001b[0;34m()\u001b[0m\n\u001b[1;32m     32\u001b[0m \u001b[1;33m\u001b[0m\u001b[0m\n\u001b[1;32m     33\u001b[0m \u001b[1;31m# Throws Error\u001b[0m\u001b[1;33m\u001b[0m\u001b[1;33m\u001b[0m\u001b[0m\n\u001b[0;32m---> 34\u001b[0;31m \u001b[1;32mprint\u001b[0m\u001b[1;33m(\u001b[0m\u001b[0msquares\u001b[0m\u001b[1;33m)\u001b[0m\u001b[1;33m\u001b[0m\u001b[0m\n\u001b[0m",
      "\u001b[0;31mNameError\u001b[0m: name 'squares' is not defined"
     ]
    }
   ],
   "source": [
    "# create a dictionary\n",
    "squares = {1:1, 2:4, 3:9, 4:16, 5:25}  \n",
    "\n",
    "# remove a particular item\n",
    "# Output: 16\n",
    "print(squares.pop(4))  \n",
    "\n",
    "# Output: {1: 1, 2: 4, 3: 9, 5: 25}\n",
    "print(squares)\n",
    "\n",
    "# remove an arbitrary item\n",
    "# Output: (1, 1)\n",
    "print(squares.popitem())\n",
    "\n",
    "# Output: {2: 4, 3: 9, 5: 25}\n",
    "print(squares)\n",
    "\n",
    "# delete a particular item\n",
    "del squares[5]  \n",
    "\n",
    "# Output: {2: 4, 3: 9}\n",
    "print(squares)\n",
    "\n",
    "# remove all items\n",
    "squares.clear()\n",
    "\n",
    "# Output: {}\n",
    "print(squares)\n",
    "\n",
    "# delete the dictionary itself\n",
    "del squares\n",
    "\n",
    "# Throws Error\n",
    "print(squares)"
   ]
  },
  {
   "cell_type": "markdown",
   "metadata": {},
   "source": [
    "## 3. Practice Problem"
   ]
  },
  {
   "cell_type": "markdown",
   "metadata": {},
   "source": [
    "You have a record of N students. Each record contains the student's name, and their percent marks in Maths and Physics. The marks can be floating values.\n",
    "\n",
    "The user enters some integer N followed by the names and marks for N students. You are required to save the record in a dictionary data type. The user then enters a student's name.\n",
    "\n",
    "Output the average percentage marks obtained by that student, correct to three decimal places.\n",
    "\n",
    "*Input: ex.\n",
    "\n",
    "> 3\n",
    "\n",
    "> Tom 67 68\n",
    "\n",
    "> Joo 70 98\n",
    "\n",
    "> Andy 52 56\n",
    "\n",
    "> Andy\n",
    "\n",
    "*Output: ex.\n",
    "\n",
    "> 54.000"
   ]
  },
  {
   "cell_type": "markdown",
   "metadata": {
    "collapsed": true
   },
   "source": [
    "*Hint 1. \"print\" treats the % as a special character you need to add. When you type \"f\", the number (result) that will be printed will be a floating point type. \".3\" tells your \"print\" to print only the first 3 digits after the point."
   ]
  },
  {
   "cell_type": "code",
   "execution_count": 32,
   "metadata": {
    "collapsed": false
   },
   "outputs": [
    {
     "name": "stdout",
     "output_type": "stream",
     "text": [
      "My height is 180.574 cm. Your height is 160.38 cm.\n"
     ]
    }
   ],
   "source": [
    "height_m = 180.573567\n",
    "height_y = 160.382034\n",
    "print('My height is %.3f cm. Your height is %.2f cm.' % (height_m, height_y))"
   ]
  },
  {
   "cell_type": "code",
   "execution_count": 27,
   "metadata": {
    "collapsed": false
   },
   "outputs": [
    {
     "name": "stdout",
     "output_type": "stream",
     "text": [
      "3\n",
      "Tom 67 68\n",
      "Joo 70 98\n",
      "Andy 52 56\n",
      "Andy\n",
      "54.000\n"
     ]
    }
   ],
   "source": [
    "d={}\n",
    "for i in range(int(raw_input())):\n",
    "\tline= raw_input().split()\n",
    "\td[line[0]] = sum(map(float,line[1:])) / 2\n",
    "\n",
    "print '%.3f' % d[raw_input()]"
   ]
  },
  {
   "cell_type": "markdown",
   "metadata": {},
   "source": [
    "## 4. Are you ready? \n",
    "### DIY at https://www.hackerrank.com/challenges/finding-the-percentage"
   ]
  }
 ],
 "metadata": {
  "anaconda-cloud": {},
  "kernelspec": {
   "display_name": "Python [default]",
   "language": "python",
   "name": "python2"
  },
  "language_info": {
   "codemirror_mode": {
    "name": "ipython",
    "version": 2
   },
   "file_extension": ".py",
   "mimetype": "text/x-python",
   "name": "python",
   "nbconvert_exporter": "python",
   "pygments_lexer": "ipython2",
   "version": "2.7.12"
  }
 },
 "nbformat": 4,
 "nbformat_minor": 1
}
