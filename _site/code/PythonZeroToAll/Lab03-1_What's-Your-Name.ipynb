{
 "cells": [
  {
   "cell_type": "markdown",
   "metadata": {
    "collapsed": true
   },
   "source": [
    "# Lab03-1: What's Your Name?\n",
    "https://www.hackerrank.com/challenges/whats-your-name"
   ]
  },
  {
   "cell_type": "markdown",
   "metadata": {},
   "source": [
    "## 1. Description of Problem"
   ]
  },
  {
   "cell_type": "markdown",
   "metadata": {},
   "source": [
    "If we want to print some of the contents differently depending on the input value and the rest of the output equally, how do we say in Python?\n",
    "\n",
    "This problem is formatting Strings.\n",
    "\n",
    "*Task: You are given the firstname and lastname of a person on two different lines. Your task is to read them and print the following.\n",
    "\n",
    "> Hello (firstname) (lastname)! You just delved into python.\n",
    "\n",
    "*Input: The first line contains the first name, and the second line contains the last name.\n",
    "\n",
    "> ex.\n",
    "\n",
    "> Top\n",
    "\n",
    "> Choi\n",
    "\n",
    "*Output: Print the output as mentioned above.\n",
    "\n",
    "> ex.\n",
    "\n",
    "> Hello Top Choi! You just delved into python."
   ]
  },
  {
   "cell_type": "markdown",
   "metadata": {},
   "source": [
    "## 2. Concept & Short Examples"
   ]
  },
  {
   "cell_type": "markdown",
   "metadata": {},
   "source": [
    "### Concept [1] The basics of String"
   ]
  },
  {
   "cell_type": "markdown",
   "metadata": {},
   "source": [
    "#### *How to create a string?\n",
    "Strings can be created by enclosing characters inside a single quote or double quotes. Even triple quotes can be used in Python but generally used to represent multiline strings and docstrings.\n",
    "\n",
    "Ex1) Let's create some strings."
   ]
  },
  {
   "cell_type": "code",
   "execution_count": 52,
   "metadata": {
    "collapsed": false
   },
   "outputs": [
    {
     "name": "stdout",
     "output_type": "stream",
     "text": [
      "Hello\n",
      "Hello\n",
      "Hello\n",
      "Hello, welcome to\n",
      "           the world of Python\n"
     ]
    }
   ],
   "source": [
    "# all of the following are equivalent\n",
    "my_str = 'Hello'\n",
    "print(my_str)\n",
    "\n",
    "my_str = \"Hello\"\n",
    "print(my_str)\n",
    "\n",
    "my_str = '''Hello'''\n",
    "print(my_str)\n",
    "\n",
    "# triple quotes string can extend multiple lines\n",
    "my_str = \"\"\"Hello, welcome to\n",
    "           the world of Python\"\"\"\n",
    "print(my_str)"
   ]
  },
  {
   "cell_type": "markdown",
   "metadata": {},
   "source": [
    "#### *How to access characters in a string?\n",
    "We can access individual characters using indexing and a range of characters using slicing. Index starts from 0. Trying to access a character out of index range will raise an IndexError. The index must be an integer. We can't use float or other types, this will result into TypeError.\n",
    "\n",
    "Python allows negative indexing for its sequences.\n",
    "\n",
    "The index of -1 refers to the last item, -2 to the second last item and so on. We can access a range of items in a string by using the slicing operator (colon).\n",
    "\n",
    "Ex2) Let's access characters in a string."
   ]
  },
  {
   "cell_type": "code",
   "execution_count": 53,
   "metadata": {
    "collapsed": false
   },
   "outputs": [
    {
     "name": "stdout",
     "output_type": "stream",
     "text": [
      "('str = ', 'chocolate')\n",
      "('str[0] = ', 'c')\n",
      "('str[-1] = ', 'e')\n",
      "('str[1:5] = ', 'hoco')\n",
      "('str[5:-2] = ', 'la')\n"
     ]
    }
   ],
   "source": [
    "str = \"chocolate\"\n",
    "print('str = ', str)\n",
    "\n",
    "#first character\n",
    "print('str[0] = ', str[0])\n",
    "\n",
    "#last character\n",
    "print('str[-1] = ', str[-1])\n",
    "\n",
    "#slicing 2nd to 5th character\n",
    "print('str[1:5] = ', str[1:5])\n",
    "\n",
    "#slicing 6th to 2nd last character\n",
    "print('str[5:-2] = ', str[5:-2])"
   ]
  },
  {
   "cell_type": "markdown",
   "metadata": {},
   "source": [
    "#### *How to change or delete a string?\n",
    "\n",
    "Strings are immutable. This means that elements of a string cannot be changed once it has been assigned. We can simply reassign different strings to the same name.\n",
    "\n",
    "We cannot delete or remove characters from a string. But deleting the string entirely is possible using the keyword del.\n",
    "\n",
    "Ex3) Let's change or delete a string."
   ]
  },
  {
   "cell_type": "code",
   "execution_count": 54,
   "metadata": {
    "collapsed": false
   },
   "outputs": [
    {
     "name": "stdout",
     "output_type": "stream",
     "text": [
      "airplane\n",
      "helicopter\n"
     ]
    },
    {
     "ename": "TypeError",
     "evalue": "'str' object does not support item assignment",
     "output_type": "error",
     "traceback": [
      "\u001b[0;31m---------------------------------------------------------------------------\u001b[0m",
      "\u001b[0;31mTypeError\u001b[0m                                 Traceback (most recent call last)",
      "\u001b[0;32m<ipython-input-54-98ba6b7d5cc5>\u001b[0m in \u001b[0;36m<module>\u001b[0;34m()\u001b[0m\n\u001b[1;32m      6\u001b[0m \u001b[1;33m\u001b[0m\u001b[0m\n\u001b[1;32m      7\u001b[0m \u001b[1;31m#TypeError: 'str' object does not support item assignment\u001b[0m\u001b[1;33m\u001b[0m\u001b[1;33m\u001b[0m\u001b[0m\n\u001b[0;32m----> 8\u001b[0;31m \u001b[0mmy_string\u001b[0m\u001b[1;33m[\u001b[0m\u001b[1;36m5\u001b[0m\u001b[1;33m]\u001b[0m \u001b[1;33m=\u001b[0m \u001b[1;34m'e'\u001b[0m\u001b[1;33m\u001b[0m\u001b[0m\n\u001b[0m",
      "\u001b[0;31mTypeError\u001b[0m: 'str' object does not support item assignment"
     ]
    }
   ],
   "source": [
    "my_string = 'airplane'\n",
    "print(my_string)\n",
    "\n",
    "my_string = 'helicopter'\n",
    "print(my_string)\n",
    "\n",
    "#TypeError: 'str' object does not support item assignment\n",
    "my_string[5] = 'e'"
   ]
  },
  {
   "cell_type": "markdown",
   "metadata": {},
   "source": [
    "### Concept [2] Concatenation of Two or More Strings"
   ]
  },
  {
   "cell_type": "markdown",
   "metadata": {},
   "source": [
    "Joining of two or more strings into a single one is called concatenation.\n",
    "\n",
    "The + operator does this in Python. Simply writing two string literals together also concatenates them.\n",
    "\n",
    "The * operator can be used to repeat the string for a given number of times.\n",
    "\n",
    "Ex4) Let's join two or more strings into a single one."
   ]
  },
  {
   "cell_type": "code",
   "execution_count": 55,
   "metadata": {
    "collapsed": false
   },
   "outputs": [
    {
     "name": "stdout",
     "output_type": "stream",
     "text": [
      "('str1 + str2 = ', 'Sunday')\n",
      "('str1 * 3 =', 'SunSunSun')\n"
     ]
    }
   ],
   "source": [
    "str1 = 'Sun'\n",
    "str2 ='day'\n",
    "\n",
    "# using +\n",
    "print('str1 + str2 = ', str1 + str2)\n",
    "\n",
    "# using *\n",
    "print('str1 * 3 =', str1 * 3)"
   ]
  },
  {
   "cell_type": "markdown",
   "metadata": {},
   "source": [
    "### Concept [3] format() Method for Formatting Strings"
   ]
  },
  {
   "cell_type": "markdown",
   "metadata": {},
   "source": [
    "The format() method that is available with the string object is very versatile and powerful in formatting strings. Format strings contains curly braces {} as placeholders or replacement fields which gets replaced.\n",
    "\n",
    "We can use positional arguments or keyword arguments to specify the order.\n",
    "\n",
    "Ex5) Let's use format()."
   ]
  },
  {
   "cell_type": "code",
   "execution_count": 56,
   "metadata": {
    "collapsed": false
   },
   "outputs": [
    {
     "name": "stdout",
     "output_type": "stream",
     "text": [
      " Default Order: \n",
      "One, Two and Three\n",
      "\n",
      " Positional Order: \n",
      "Two, One and Three\n",
      "\n",
      " Keyword Order: \n",
      "Three, Two and One\n"
     ]
    }
   ],
   "source": [
    "# default(implicit) order\n",
    "default_order = \"{}, {} and {}\".format('One','Two','Three')\n",
    "print(' Default Order: ')\n",
    "print(default_order)\n",
    "\n",
    "# order using positional argument\n",
    "positional_order = \"{1}, {0} and {2}\".format('One','Two','Three')\n",
    "print('\\n Positional Order: ')\n",
    "print(positional_order)\n",
    "\n",
    "# order using keyword argument\n",
    "keyword_order = \"{c}, {b} and {a}\".format(a='One',b='Two',c='Three')\n",
    "print('\\n Keyword Order: ')\n",
    "print(keyword_order)"
   ]
  },
  {
   "cell_type": "markdown",
   "metadata": {},
   "source": [
    "The format() method can have optional format specifications.\n",
    "\n",
    "They are separated from field name using colon. For example, we can left-justify <, right-justify > or center ^ a string in the given space. \n",
    "\n",
    "We can also format integers as binary, hexadecimal etc. and floats can be rounded or displayed in the exponent format.\n",
    "\n",
    "Ex6) Let's use optional format specifications."
   ]
  },
  {
   "cell_type": "code",
   "execution_count": 57,
   "metadata": {
    "collapsed": false
   },
   "outputs": [
    {
     "name": "stdout",
     "output_type": "stream",
     "text": [
      "Binary representation of 12 is 1100\n",
      "Exponent representation: 1.566345e+03\n",
      "One third is: 0.333\n",
      "|butter    |  bread   |       ham|\n"
     ]
    }
   ],
   "source": [
    "# formatting integers\n",
    "binary = \"Binary representation of {0} is {0:b}\".format(12)\n",
    "print(binary)\n",
    "\n",
    "# formatting floats\n",
    "exponent = \"Exponent representation: {0:e}\".format(1566.345)\n",
    "print(exponent)\n",
    "\n",
    "# round off\n",
    "round = \"One third is: {0:.3f}\".format(1.0/3)\n",
    "print(round)\n",
    "\n",
    "# string alignment\n",
    "alignment = \"|{:<10}|{:^10}|{:>10}|\".format('butter','bread','ham')\n",
    "print(alignment)"
   ]
  },
  {
   "cell_type": "markdown",
   "metadata": {},
   "source": [
    "### Concept [4] Old style formatting"
   ]
  },
  {
   "cell_type": "markdown",
   "metadata": {},
   "source": [
    "We can even format strings like the old sprintf() style used in C programming language. We use the % operator to accomplish this.\n",
    "\n",
    "Ex7) Let's use % operator for formatting."
   ]
  },
  {
   "cell_type": "code",
   "execution_count": 58,
   "metadata": {
    "collapsed": false
   },
   "outputs": [
    {
     "name": "stdout",
     "output_type": "stream",
     "text": [
      "The value of num is 12.35\n",
      "The value of num is 12.3457\n",
      "name: Vicky. age: 25. height: 170.143600cm.\n",
      "name: Vicky. age: 25. height: 170cm.\n",
      "name:  Vicky. age: 25.00. height: 170.144cm.\n"
     ]
    }
   ],
   "source": [
    "num = 12.3456789\n",
    "print('The value of num is %3.2f' %num)\n",
    "print('The value of num is %3.4f' %num)\n",
    "\n",
    "name = 'Vicky'\n",
    "age = 25\n",
    "height = 170.1436\n",
    "print('name: %s. age: %d. height: %fcm.' % (name, age, height))\n",
    "print('name: %s. age: %d. height: %dcm.' % (name, age, height))\n",
    "print('name: %6s. age: %.2f. height: %.3fcm.'% (name, age, height))"
   ]
  },
  {
   "cell_type": "markdown",
   "metadata": {},
   "source": [
    "## 3. Practice Problem"
   ]
  },
  {
   "cell_type": "markdown",
   "metadata": {},
   "source": [
    "You are given the firstname and hobby of a person on two different lines. Your task is to read them and print the following.\n",
    "\n",
    "> Hello, (firstname)! You like (hobby). Let's talk about it.\n",
    "\n",
    "*Input: The first line contains the first name, and the second line contains the hobby.\n",
    "\n",
    "> ex.\n",
    "\n",
    "> Vivian\n",
    "\n",
    "> painting\n",
    "\n",
    "*Output: Print the output as mentioned above.\n",
    "\n",
    "> ex.\n",
    "\n",
    "> Hello, Vivian! You like painting. Let's talk about it."
   ]
  },
  {
   "cell_type": "code",
   "execution_count": 49,
   "metadata": {
    "collapsed": false
   },
   "outputs": [
    {
     "name": "stdout",
     "output_type": "stream",
     "text": [
      "Vivian\n",
      "painting\n",
      "Hello, Vivian! You like painting. Let's talk about it.\n"
     ]
    }
   ],
   "source": [
    "a = raw_input()\n",
    "b = raw_input()\n",
    "print \"Hello, %s! You like %s. Let's talk about it.\" % (a, b)"
   ]
  },
  {
   "cell_type": "code",
   "execution_count": 50,
   "metadata": {
    "collapsed": false
   },
   "outputs": [
    {
     "name": "stdout",
     "output_type": "stream",
     "text": [
      "Doris\n",
      "walking\n",
      "Hello, Doris! You like walking. Let's talk about it.\n"
     ]
    }
   ],
   "source": [
    "a = raw_input()\n",
    "b = raw_input()\n",
    "print \"Hello, \" + a + \"! You like \" + b + \". Let's talk about it.\""
   ]
  },
  {
   "cell_type": "code",
   "execution_count": 51,
   "metadata": {
    "collapsed": false
   },
   "outputs": [
    {
     "name": "stdout",
     "output_type": "stream",
     "text": [
      "Aron\n",
      "cooking\n",
      "Hello, Aron! You like cooking. Let's talk about it.\n"
     ]
    }
   ],
   "source": [
    "a = raw_input()\n",
    "b = raw_input()\n",
    "print(\"Hello, {0}! You like {1}. Let's talk about it.\".format(a, b))"
   ]
  },
  {
   "cell_type": "markdown",
   "metadata": {},
   "source": [
    "## 4. Are you ready? \n",
    "### DIY at https://www.hackerrank.com/challenges/whats-your-name"
   ]
  }
 ],
 "metadata": {
  "anaconda-cloud": {},
  "kernelspec": {
   "display_name": "Python [default]",
   "language": "python",
   "name": "python2"
  },
  "language_info": {
   "codemirror_mode": {
    "name": "ipython",
    "version": 2
   },
   "file_extension": ".py",
   "mimetype": "text/x-python",
   "name": "python",
   "nbconvert_exporter": "python",
   "pygments_lexer": "ipython2",
   "version": "2.7.12"
  }
 },
 "nbformat": 4,
 "nbformat_minor": 1
}
