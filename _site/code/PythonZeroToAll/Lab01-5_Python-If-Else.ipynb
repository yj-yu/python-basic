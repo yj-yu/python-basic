{
 "cells": [
  {
   "cell_type": "markdown",
   "metadata": {
    "collapsed": true
   },
   "source": [
    "# Lab01-5: Python If-Else\n",
    "https://www.hackerrank.com/challenges/py-if-else"
   ]
  },
  {
   "cell_type": "markdown",
   "metadata": {},
   "source": [
    "## 1. Description of Problem"
   ]
  },
  {
   "cell_type": "markdown",
   "metadata": {},
   "source": [
    "If we want to print the different output according to the different input, how do we say with Python?\n",
    "\n",
    "This problem is to read input from a person and print the different result based on the input data.\n",
    "\n",
    ">Input: positive integer, n\n",
    "\n",
    ">Output: Print \"Weird\" if the number is weird; otherwise, print \"Not Weird\""
   ]
  },
  {
   "cell_type": "markdown",
   "metadata": {
    "collapsed": true
   },
   "source": [
    "## 2. Concept & Short Examples"
   ]
  },
  {
   "cell_type": "markdown",
   "metadata": {},
   "source": [
    "### Concept [1] Data Type: Boolean (True or False)"
   ]
  },
  {
   "cell_type": "markdown",
   "metadata": {},
   "source": [
    "A proposition is a sentence or expression that can clearly identify whether the content is true or false. \n",
    "\n",
    "All propositions are true or false.\n",
    "\n",
    "Boolean is a data type with True and False values.\n",
    "\n",
    "Ex1) We want to print whether the following proposition is true or false.\n",
    "\n",
    "> '3 is greater than 6'\n",
    "\n",
    "> '99 is less than 100'"
   ]
  },
  {
   "cell_type": "code",
   "execution_count": 1,
   "metadata": {
    "collapsed": false
   },
   "outputs": [
    {
     "name": "stdout",
     "output_type": "stream",
     "text": [
      "False\n",
      "True\n"
     ]
    }
   ],
   "source": [
    "print(3 > 6)\n",
    "print(99 < 100)"
   ]
  },
  {
   "cell_type": "markdown",
   "metadata": {},
   "source": [
    "### Concept [2] Relational Operators: ==, !=, >, <, >=, <="
   ]
  },
  {
   "cell_type": "code",
   "execution_count": 4,
   "metadata": {
    "collapsed": false
   },
   "outputs": [
    {
     "data": {
      "image/png": "[encoded data removed]",
      "text/plain": [
       "<IPython.core.display.Image object>"
      ]
     },
     "execution_count": 4,
     "metadata": {},
     "output_type": "execute_result"
    }
   ],
   "source": [
    "# Library for image output (Relational Operators) by WIKIPEDIA)\n",
    "from IPython.display import Image \n",
    "Image(filename=\"image/Lab01-5_1_RelationalOperator.png\")"
   ]
  },
  {
   "cell_type": "markdown",
   "metadata": {},
   "source": [
    "In computer science, a relational operator tests or defines some kind of relation between two entities. \n",
    "\n",
    "These include numerical equality (ex. 5 = 5) and inequalities (ex. 4 ≥ 3)."
   ]
  },
  {
   "cell_type": "markdown",
   "metadata": {},
   "source": [
    "### Difference between \"=\" and \"==\"\n",
    "\n",
    "\"=\" is an assignment operator which is used to assign value to the variable (ex. int a = 3).\n",
    "\n",
    "\"==\" is a relational operator which is used to find the relation between two operands \n",
    "\n",
    "and returns in boolen value either 'true' or 'false' (ex. 5 == 5).\n",
    "\n",
    "Ex2) ==, !=, >, <, >=, <= can be used to determine whether a given proposition is True or False."
   ]
  },
  {
   "cell_type": "code",
   "execution_count": 3,
   "metadata": {
    "collapsed": false
   },
   "outputs": [
    {
     "name": "stdout",
     "output_type": "stream",
     "text": [
      "False\n",
      "True\n",
      "False\n",
      "True\n",
      "False\n",
      "True\n"
     ]
    }
   ],
   "source": [
    "a = 1\n",
    "b = 2\n",
    "print (a == b)\n",
    "print (a != b)\n",
    "print (a > b)\n",
    "print (a < b)\n",
    "print (a >= b)\n",
    "print (a <= b)"
   ]
  },
  {
   "cell_type": "markdown",
   "metadata": {},
   "source": [
    "### Concept [3] Command: if ~ else"
   ]
  },
  {
   "cell_type": "code",
   "execution_count": 3,
   "metadata": {
    "collapsed": false
   },
   "outputs": [
    {
     "data": {
      "image/png": "[encoded data removed]",
      "text/plain": [
       "<IPython.core.display.Image object>"
      ]
     },
     "execution_count": 3,
     "metadata": {},
     "output_type": "execute_result"
    }
   ],
   "source": [
    "# Library for image output (If-Else-Diagram by WIKIMEDIA COMMONS)\n",
    "from IPython.display import Image \n",
    "Image(filename=\"image/Lab01-5_2_IfElseDiagram.png\")"
   ]
  },
  {
   "cell_type": "markdown",
   "metadata": {},
   "source": [
    "We can use the if~else command to execute different command depending on the condition.\n",
    "\n",
    "The if~else command should look something like this:\n",
    "\n",
    ">if condition(true or false):\n",
    "\n",
    ">     Commands to be executed when the condition is true\n",
    "\n",
    ">else:\n",
    "\n",
    ">     Commands to be executed when the condition is false\n",
    "\n",
    "Ex3) We want to print \"odd number\" if the input number is odd, and print \"even number\" if it is even.\n",
    "\n",
    "     (Hint: In order to know which number is even or odd, you can see the remainder by dividing by 2.\n",
    "\n",
    "     If the remainder divided by 2 is 0, it is even.)"
   ]
  },
  {
   "cell_type": "code",
   "execution_count": 5,
   "metadata": {
    "collapsed": false
   },
   "outputs": [
    {
     "name": "stdout",
     "output_type": "stream",
     "text": [
      "8\n",
      "even number\n"
     ]
    }
   ],
   "source": [
    "# Python 2 \n",
    "n = int(raw_input())\n",
    "if n % 2 == 0:\n",
    "    print \"even number\"\n",
    "else:\n",
    "    print \"odd number\""
   ]
  },
  {
   "cell_type": "code",
   "execution_count": 6,
   "metadata": {
    "collapsed": false
   },
   "outputs": [
    {
     "name": "stdout",
     "output_type": "stream",
     "text": [
      "9\n",
      "odd number\n"
     ]
    }
   ],
   "source": [
    "# Python 3\n",
    "n = int(input())\n",
    "if n % 2 == 0:\n",
    "    print \"even number\"\n",
    "else:\n",
    "    print \"odd number\""
   ]
  },
  {
   "cell_type": "markdown",
   "metadata": {},
   "source": [
    "### Concept [4] Command: if ~ elif ~ else"
   ]
  },
  {
   "cell_type": "markdown",
   "metadata": {},
   "source": [
    "If there are more than 2 cases to divide by condition, you can use if~elif~else command as follows.\n",
    "\n",
    ">if Condition (1):\n",
    "\n",
    ">     Command executed when condition (1) is true\n",
    "\n",
    ">elif condition (2):\n",
    "\n",
    ">     Command executed when condition (1) is false and condition (2) is true\n",
    "\n",
    ">elif condition (3):\n",
    "\n",
    ">     Command executed when condition (1) and condition (2) are false and condition (3) is true\n",
    "\n",
    ">...\n",
    "\n",
    ">else:\n",
    "\n",
    ">     Command executed if any of the preceding conditions are not true\n",
    "\n",
    "Ex4) We want to output different results according to the answer to the question, \n",
    "\n",
    "\"How many times a week do you exercise?\".\n",
    "> 0~2: Cheer up!\n",
    "\n",
    "> 3~4: Oh, you are doing well. \n",
    "\n",
    "> 5~7: Wow, you like exercise!\n",
    "\n",
    "> 8 or more: Hey, calm down~"
   ]
  },
  {
   "cell_type": "code",
   "execution_count": 7,
   "metadata": {
    "collapsed": false
   },
   "outputs": [
    {
     "name": "stdout",
     "output_type": "stream",
     "text": [
      "How many times a week do you exercise? 1\n",
      "Cheer up!\n"
     ]
    }
   ],
   "source": [
    "# Python 3\n",
    "n = int(input(\"How many times a week do you exercise? \"))\n",
    "if 0 <= n <= 2:\n",
    "    print(\"Cheer up!\")\n",
    "elif 3 <= n <= 4:\n",
    "    print(\"Oh, you are doing well.\")\n",
    "elif 5 <= n <= 7:\n",
    "    print(\"Wow, you like exercise!\")\n",
    "else:\n",
    "    print(\"Hey, calm down~\")"
   ]
  },
  {
   "cell_type": "markdown",
   "metadata": {},
   "source": [
    "## 3. Practice Problem"
   ]
  },
  {
   "cell_type": "markdown",
   "metadata": {},
   "source": [
    "Read input from a person and print the different result based on the input data.\n",
    "\n",
    ">Input: positive integer, n\n",
    "\n",
    ">Output: Print \"OK\" if the number is OK; otherwise, print \"Try again!\" \n",
    "\n",
    ">>1) If n is a multiple of 3, print \"OK\"\n",
    "\n",
    ">>2) If n is not a multiple of 3 and in the inclusive range of 1 to 10, print \"Try again!\"\n",
    "\n",
    ">>3) If n is not a multiple of 3 and in the inclusive range of 11 to 50, print \"OK\"\n",
    "\n",
    ">>4) else, print \"Try again!\""
   ]
  },
  {
   "cell_type": "code",
   "execution_count": 8,
   "metadata": {
    "collapsed": false
   },
   "outputs": [
    {
     "name": "stdout",
     "output_type": "stream",
     "text": [
      "10\n",
      "Try again!\n"
     ]
    }
   ],
   "source": [
    "# Python 2 \n",
    "n = int(raw_input())\n",
    "if n % 3 == 0:\n",
    "    print \"OK\"\n",
    "elif n % 3 != 0 and 1 <= n <= 10:\n",
    "    print \"Try again!\"\n",
    "elif n % 3 != 0 and 11 <= n <= 50:\n",
    "    print \"OK\"\n",
    "else:\n",
    "    print \"Try again!\""
   ]
  },
  {
   "cell_type": "code",
   "execution_count": 9,
   "metadata": {
    "collapsed": false
   },
   "outputs": [
    {
     "name": "stdout",
     "output_type": "stream",
     "text": [
      "66\n",
      "OK\n"
     ]
    }
   ],
   "source": [
    "# Python 3\n",
    "n = int(input())\n",
    "if n % 3 == 0:\n",
    "    print \"OK\"\n",
    "elif n % 3 != 0 and 1 <= n <= 10:\n",
    "    print \"Try again!\"\n",
    "elif n % 3 != 0 and 11 <= n <= 50:\n",
    "    print \"OK\"\n",
    "else:\n",
    "    print \"Try again!\""
   ]
  },
  {
   "cell_type": "markdown",
   "metadata": {},
   "source": [
    "## 4. Are you ready? \n",
    "### DIY at https://www.hackerrank.com/challenges/py-if-else"
   ]
  }
 ],
 "metadata": {
  "anaconda-cloud": {},
  "kernelspec": {
   "display_name": "Python [default]",
   "language": "python",
   "name": "python2"
  },
  "language_info": {
   "codemirror_mode": {
    "name": "ipython",
    "version": 2
   },
   "file_extension": ".py",
   "mimetype": "text/x-python",
   "name": "python",
   "nbconvert_exporter": "python",
   "pygments_lexer": "ipython2",
   "version": "2.7.12"
  }
 },
 "nbformat": 4,
 "nbformat_minor": 1
}
