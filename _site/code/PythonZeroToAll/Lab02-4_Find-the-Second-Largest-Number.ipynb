{
 "cells": [
  {
   "cell_type": "markdown",
   "metadata": {
    "collapsed": true
   },
   "source": [
    "# Lab02-4: Find the Second Largest Number\n",
    "https://www.hackerrank.com/challenges/find-second-maximum-number-in-a-list"
   ]
  },
  {
   "cell_type": "markdown",
   "metadata": {},
   "source": [
    "## 1. Description of Problem"
   ]
  },
  {
   "cell_type": "markdown",
   "metadata": {},
   "source": [
    "The Python built-in function includes a max() function and a min() function.\n",
    "\n",
    "Then, if we want to find the largest or smallest item among several numbers \n",
    "\n",
    "without using these max() and min() functions, how do we say in Python?\n",
    "\n",
    "This problem is to store N numbers in a list and find the second largest number.\n",
    "\n",
    ">Input: The first line contains N.\n",
    "\n",
    ">The second line contains N integers, each separated by a space.\n",
    "\n",
    ">> ex. \n",
    "\n",
    ">> 5\n",
    "\n",
    ">> 1 3 10 2 -2\n",
    "\n",
    ">Output: the value of the second largest number\n",
    "\n",
    ">> ex.\n",
    "\n",
    ">> 3"
   ]
  },
  {
   "cell_type": "markdown",
   "metadata": {},
   "source": [
    "## 2. Concept & Short Examples"
   ]
  },
  {
   "cell_type": "markdown",
   "metadata": {},
   "source": [
    "### Concept [1] find Max and Min with for-loop"
   ]
  },
  {
   "cell_type": "markdown",
   "metadata": {},
   "source": [
    "We can use the for-loop statement to find the maximum and minimum values in a list.\n",
    "\n",
    "Ex1) Let's find the largest number in a list using the for-loop statement. "
   ]
  },
  {
   "cell_type": "code",
   "execution_count": 20,
   "metadata": {
    "collapsed": false
   },
   "outputs": [
    {
     "name": "stdout",
     "output_type": "stream",
     "text": [
      "52\n"
     ]
    }
   ],
   "source": [
    "list_a = [1, 2, -10, 5, -3, 0, 52, 30, 45]\n",
    "max_a = -1000\n",
    "for i in list_a:\n",
    "    if (i > max_a):\n",
    "        max_a = i\n",
    "print (max_a)"
   ]
  },
  {
   "cell_type": "markdown",
   "metadata": {},
   "source": [
    "Ex2) Let's find the smallest number in a list using the for-loop statement."
   ]
  },
  {
   "cell_type": "code",
   "execution_count": 21,
   "metadata": {
    "collapsed": false
   },
   "outputs": [
    {
     "name": "stdout",
     "output_type": "stream",
     "text": [
      "-10\n"
     ]
    }
   ],
   "source": [
    "list_a = [1, 2, -10, 5, -3, 0, 52, 30, 45]\n",
    "min_a = 1000\n",
    "for i in list_a:\n",
    "    if (i < min_a):\n",
    "        min_a = i\n",
    "print (min_a)"
   ]
  },
  {
   "cell_type": "markdown",
   "metadata": {},
   "source": [
    "### Concept [2] map( )"
   ]
  },
  {
   "cell_type": "markdown",
   "metadata": {
    "collapsed": true
   },
   "source": [
    "The map() function applies a given function to each item of an iterable (list, tuple, etc.) and returns a list of the results.\n",
    "\n",
    "The syntax of map() is\n",
    "\n",
    "> map(function, iterable, ...)\n",
    "\n",
    ">>- function: map() passes each item of the iterable to this function.\n",
    "\n",
    ">>- iterable: iterable which is to be mapped.\n",
    "\n",
    "> You can pass more than one iterable to the map() function.\n",
    "\n",
    "The returned value from map() (map object) then can be passed to functions like list() (to create a list), set() (to create a set) and so on.\n",
    "\n",
    "Ex3) Create a function that returns a multiple of 3 for an integer n, \n",
    "\n",
    "and use map() to create and print a new list, list_3n of items \n",
    "\n",
    "from list_n that have passed through a multiple of 3 function."
   ]
  },
  {
   "cell_type": "code",
   "execution_count": 22,
   "metadata": {
    "collapsed": false
   },
   "outputs": [
    {
     "name": "stdout",
     "output_type": "stream",
     "text": [
      "[3, 6, 0, 12, 15]\n",
      "[3, 6, 0, 12, 15]\n"
     ]
    }
   ],
   "source": [
    "def multiple_three(n):\n",
    "  return 3*n\n",
    "\n",
    "list_n = [1, 2, 0, 4, 5]\n",
    "result = map(multiple_three, list_n)\n",
    "print(result)\n",
    "\n",
    "# converting map object to list\n",
    "list_3n = list(result)\n",
    "print(list_3n)"
   ]
  },
  {
   "cell_type": "markdown",
   "metadata": {},
   "source": [
    "### Concept [3] int( )"
   ]
  },
  {
   "cell_type": "markdown",
   "metadata": {},
   "source": [
    "The syntax of int() method is:\n",
    "\n",
    "> int(x=0, base=10)\n",
    "\n",
    "The int() method takes two arguments:\n",
    "\n",
    "> - x: Number or string to be converted to integer object. Default argument is zero.\n",
    "\n",
    "> - base: Base of the number in x. Can be 0 (code literal) or 2-36.\n",
    "\n",
    "The int() method returns\n",
    "\n",
    "> - an integer object from the given number or string, treats default base as 10\n",
    "\n",
    "> - (No parameters) returns 0\n",
    "\n",
    "> - (If base given) treats the string in the given base (0, 2, 8, 10, 16)\n",
    "\n",
    "Ex4) Let's use int( )."
   ]
  },
  {
   "cell_type": "code",
   "execution_count": 26,
   "metadata": {
    "collapsed": false
   },
   "outputs": [
    {
     "name": "stdout",
     "output_type": "stream",
     "text": [
      "123\n",
      "123\n",
      "123\n"
     ]
    }
   ],
   "source": [
    "# integer\n",
    "print(int(123))\n",
    "\n",
    "# float\n",
    "print(int(123.23))\n",
    "\n",
    "# string\n",
    "print(int('123'))"
   ]
  },
  {
   "cell_type": "markdown",
   "metadata": {
    "collapsed": true
   },
   "source": [
    "### Concept [4] list( )"
   ]
  },
  {
   "cell_type": "markdown",
   "metadata": {},
   "source": [
    "The list() constructor creates a list in Python.\n",
    "\n",
    "The syntax of list() constructor is:\n",
    "\n",
    "> list([iterable])\n",
    "\n",
    "list() constructor takes a single argument:\n",
    "\n",
    "> iterable(Optional): an object that could be a sequence (string, tuples) or collection (set, dictionary) or iterator object\n",
    "\n",
    "The list() constructor returns a mutable sequence list of elements.\n",
    "\n",
    "> - If no parameters are passed, it creates an empty list\n",
    "> - If iterable is passed as parameter, it creates a list of elements in the iterable\n",
    "\n",
    "Ex5) Let's use list( )."
   ]
  },
  {
   "cell_type": "code",
   "execution_count": 27,
   "metadata": {
    "collapsed": false
   },
   "outputs": [
    {
     "name": "stdout",
     "output_type": "stream",
     "text": [
      "[]\n",
      "['d', 'a', 'n', 'c', 'e']\n",
      "['d', 'a', 'n', 'c', 'e']\n",
      "['d', 'a', 'n', 'c', 'e']\n"
     ]
    }
   ],
   "source": [
    "# print empty list\n",
    "print(list())\n",
    "\n",
    "# create list from string\n",
    "string_a = 'dance'\n",
    "print(list(string_a))\n",
    "\n",
    "# create list from tuple\n",
    "tuple_a = ('d', 'a', 'n', 'c', 'e')\n",
    "print(list(tuple_a))\n",
    "\n",
    "# create list from list\n",
    "list_a = ['d', 'a', 'n', 'c', 'e']\n",
    "print(list(list_a))"
   ]
  },
  {
   "cell_type": "markdown",
   "metadata": {},
   "source": [
    "## 3. Practice Problem"
   ]
  },
  {
   "cell_type": "markdown",
   "metadata": {},
   "source": [
    "store N numbers in a list and find the second smallest number.\n",
    "\n",
    ">Input: The first line contains N.\n",
    "\n",
    ">The second line contains N integers, each separated by a space.\n",
    "\n",
    ">> ex. \n",
    "\n",
    ">> 5\n",
    "\n",
    ">> 1 3 10 2 -2\n",
    "\n",
    ">Output: the value of the second smallest number\n",
    "\n",
    ">> ex.\n",
    "\n",
    ">> 1"
   ]
  },
  {
   "cell_type": "code",
   "execution_count": 28,
   "metadata": {
    "collapsed": false
   },
   "outputs": [
    {
     "name": "stdout",
     "output_type": "stream",
     "text": [
      "5\n",
      "1 3 10 2 -2\n",
      "1\n"
     ]
    }
   ],
   "source": [
    "# solution\n",
    "n = int(raw_input())\n",
    "numb = raw_input()\n",
    "list_a = list(map(int, numb.split()))\n",
    "small_first, small_second = 1000, 1000\n",
    "for i in list_a:\n",
    "    if (i < small_first):\n",
    "        small_first, small_second = i, small_first\n",
    "    elif (i > small_first and i < small_second):\n",
    "        small_second = i\n",
    "print (small_second)"
   ]
  },
  {
   "cell_type": "markdown",
   "metadata": {},
   "source": [
    "## 4. Are you ready? \n",
    "### DIY at https://www.hackerrank.com/challenges/find-second-maximum-number-in-a-list"
   ]
  }
 ],
 "metadata": {
  "anaconda-cloud": {},
  "kernelspec": {
   "display_name": "Python [default]",
   "language": "python",
   "name": "python2"
  },
  "language_info": {
   "codemirror_mode": {
    "name": "ipython",
    "version": 2
   },
   "file_extension": ".py",
   "mimetype": "text/x-python",
   "name": "python",
   "nbconvert_exporter": "python",
   "pygments_lexer": "ipython2",
   "version": "2.7.12"
  }
 },
 "nbformat": 4,
 "nbformat_minor": 1
}
