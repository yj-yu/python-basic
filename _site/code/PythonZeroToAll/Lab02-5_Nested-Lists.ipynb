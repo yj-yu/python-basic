{
 "cells": [
  {
   "cell_type": "markdown",
   "metadata": {
    "collapsed": true
   },
   "source": [
    "# Lab02-5: Nested Lists\n",
    "https://www.hackerrank.com/challenges/nested-list"
   ]
  },
  {
   "cell_type": "markdown",
   "metadata": {},
   "source": [
    "## 1. Description of Problem"
   ]
  },
  {
   "cell_type": "markdown",
   "metadata": {},
   "source": [
    "If we want to put multiple items in each container \n",
    "\n",
    "and put multiple containers in another container, what should we say in Python?\n",
    "\n",
    "This problem is to use Nested List.\n",
    "\n",
    "*Task: \n",
    "\n",
    ">Given the names and grades for each student in a Physics class of N students,\n",
    "\n",
    ">store them in a nested list and print the name(s) of any student(s) \n",
    "\n",
    ">having the second lowest grade.\n",
    "\n",
    "*Input\n",
    "> ex.\n",
    "\n",
    "> 3\n",
    "\n",
    "> Harry\n",
    "\n",
    "> 37.21\n",
    "\n",
    "> Tina\n",
    "\n",
    "> 37.2\n",
    "\n",
    "> Harsh\n",
    "\n",
    "> 39\n",
    "\n",
    "*Output\n",
    "> ex.\n",
    "\n",
    "> Harry"
   ]
  },
  {
   "cell_type": "markdown",
   "metadata": {},
   "source": [
    "## 2. Concept & Short Examples"
   ]
  },
  {
   "cell_type": "markdown",
   "metadata": {},
   "source": [
    "### Concept [1] Nested List"
   ]
  },
  {
   "cell_type": "markdown",
   "metadata": {},
   "source": [
    "A nested list is a list that contains another list (i.e.: a list of lists).\n",
    "\n",
    "Nested list are accessed using nested indexing.\n",
    "\n",
    "Ex1) Let's implement a nested list!"
   ]
  },
  {
   "cell_type": "code",
   "execution_count": 4,
   "metadata": {
    "collapsed": false
   },
   "outputs": [
    {
     "name": "stdout",
     "output_type": "stream",
     "text": [
      "3\n",
      "['red', 'black']\n",
      "red\n",
      "a\n",
      "1.2\n"
     ]
    }
   ],
   "source": [
    "nested_list = [['blue', 'green'], ['red', 'black'], ['blue', 'white']]\n",
    "n_list = [\"happy\", [2, 0, 2.4, 1.2]]\n",
    "\n",
    "print len(nested_list)\n",
    "print nested_list[1]\n",
    "\n",
    "# Nested indexing\n",
    "print nested_list[1][0]\n",
    "print(n_list[0][1])\n",
    "print(n_list[1][3])"
   ]
  },
  {
   "cell_type": "markdown",
   "metadata": {},
   "source": [
    "Ex2) To go through every element in a list, use a nested for-loop."
   ]
  },
  {
   "cell_type": "code",
   "execution_count": 32,
   "metadata": {
    "collapsed": false
   },
   "outputs": [
    {
     "name": "stdout",
     "output_type": "stream",
     "text": [
      "s\n",
      "smile\n",
      "a\n",
      "amazing\n",
      "b\n",
      "baby\n"
     ]
    }
   ],
   "source": [
    "a = [[\"s\", \"smile\"], [\"a\", \"amazing\"], [\"b\", \"baby\"]]\n",
    "\n",
    "for x in range(3):\n",
    "    for y in range(2):\n",
    "        print(a[x][y])"
   ]
  },
  {
   "cell_type": "markdown",
   "metadata": {},
   "source": [
    "### Concept [2] Datatype: Set"
   ]
  },
  {
   "cell_type": "markdown",
   "metadata": {},
   "source": [
    "A set is an unordered collection of items. Every element is unique (no duplicates) and must be immutable (which cannot be changed).\n",
    "\n",
    "However, the set itself is mutable. We can add or remove items from it.\n",
    "\n",
    "A set is created by placing all the items (elements) inside curly braces {}, separated by comma or by using the built-in function set().\n",
    "\n",
    "We will learn more about Set in Lab4.\n",
    "\n",
    "Ex3) Let's try the following examples of Set."
   ]
  },
  {
   "cell_type": "code",
   "execution_count": 40,
   "metadata": {
    "collapsed": false
   },
   "outputs": [
    {
     "name": "stdout",
     "output_type": "stream",
     "text": [
      "set([1, 2, 3])\n",
      "set([1.0, 'Hello', (1, 2, 3)])\n",
      "set([1, 2, 3, 4])\n"
     ]
    }
   ],
   "source": [
    "# set of integers\n",
    "my_set = {1, 2, 3}\n",
    "print(my_set)\n",
    "\n",
    "# set of mixed datatypes\n",
    "my_set = {1.0, \"Hello\", (1, 2, 3)}\n",
    "print(my_set)\n",
    "\n",
    "# set do not have duplicates\n",
    "my_set = {1,2,3,4,3,2}\n",
    "print(my_set)"
   ]
  },
  {
   "cell_type": "markdown",
   "metadata": {},
   "source": [
    "Ex4) Let's try the following examples of set()."
   ]
  },
  {
   "cell_type": "code",
   "execution_count": 41,
   "metadata": {
    "collapsed": false
   },
   "outputs": [
    {
     "name": "stdout",
     "output_type": "stream",
     "text": [
      "set([])\n",
      "set(['a', 'i', 's', 'r', 't'])\n",
      "set(['e', 'g', 'i', 'n', 's', 'r'])\n",
      "set(['a', 'c', 'e', 'd', 'n', 'r'])\n",
      "set([0, 1, 2, 3, 4])\n"
     ]
    }
   ],
   "source": [
    "# empty set\n",
    "print(set())\n",
    "# from string\n",
    "print(set('artist'))\n",
    "# from tuple\n",
    "print(set(('s', 'i', 'n', 'g', 'e', 'r')))\n",
    "# from list\n",
    "print(set(['d', 'a', 'n', 'c', 'e', 'r']))\n",
    "# from range\n",
    "print(set(range(5)))"
   ]
  },
  {
   "cell_type": "markdown",
   "metadata": {},
   "source": [
    "### Concept [3] sorted( )"
   ]
  },
  {
   "cell_type": "markdown",
   "metadata": {},
   "source": [
    "The sorted() method sorts the elements of a given iterable in a specific order - Ascending or Descending.\n",
    "\n",
    "sorted() method returns a sorted list from the given iterable.\n",
    "\n",
    "The syntax of sorted() method is:\n",
    "\n",
    "> sorted(iterable[, key][, reverse])\n",
    "\n",
    "sorted() takes the following parameters:\n",
    "\n",
    "> - iterable - sequence (string, tuple, list) or collection (set, dictionary, frozen set) or any iterator \n",
    "> - reverse (Optional) - If true, the sorted list is reversed (or sorted in Descending order)\n",
    "> - key (Optional) - function that serves as a key for the sort comparison\n",
    "\n",
    "Ex5) Let's use sorted( ).\n"
   ]
  },
  {
   "cell_type": "code",
   "execution_count": 53,
   "metadata": {
    "collapsed": false
   },
   "outputs": [
    {
     "name": "stdout",
     "output_type": "stream",
     "text": [
      "['a', 'c', 'e', 'k']\n",
      "['C', 'a', 'e', 'k']\n",
      "['k', 'e', 'a', 'C']\n",
      "['k', 'e', 'c', 'a']\n"
     ]
    }
   ],
   "source": [
    "# list\n",
    "List_a = ['c', 'a', 'k', 'e']\n",
    "print(sorted(List_a))\n",
    "\n",
    "# string \n",
    "String_a = 'Cake'\n",
    "print(sorted(String_a, reverse=False))\n",
    "\n",
    "# tuple\n",
    "Tuple_a = ('C', 'a', 'k', 'e')\n",
    "print(sorted(Tuple_a, reverse=True))\n",
    "\n",
    "# set\n",
    "Set_a = {'c', 'a', 'k', 'e'}\n",
    "print(sorted(Set_a, reverse=True))"
   ]
  },
  {
   "cell_type": "markdown",
   "metadata": {},
   "source": [
    "## 3. Practice Problem"
   ]
  },
  {
   "cell_type": "markdown",
   "metadata": {},
   "source": [
    "*Task: \n",
    "\n",
    ">Given the names and grades for each student in a Physics class of N students,\n",
    "\n",
    ">store them in a nested list, L and print the name(s) of any student(s) \n",
    "\n",
    ">having the second highest grade.\n",
    "\n",
    ">And print the nested list, L.\n",
    "\n",
    "> (If there are multiple students with the same grade, \n",
    "\n",
    "> order their names alphabetically and print each name on a new line)\n",
    "\n",
    "*Input\n",
    "> ex.\n",
    "\n",
    "> 5\n",
    "\n",
    "> Tony\n",
    "\n",
    "> 30.5\n",
    "\n",
    "> Sam\n",
    "\n",
    "> 20.5\n",
    "\n",
    "> Bob\n",
    "\n",
    "> 20.5\n",
    "\n",
    "> Peter\n",
    "\n",
    "> 10\n",
    "\n",
    "> Doris\n",
    "\n",
    "> 5\n",
    "\n",
    "*Output\n",
    "> ex.\n",
    "\n",
    "> Bob\n",
    "\n",
    "> Sam"
   ]
  },
  {
   "cell_type": "code",
   "execution_count": 2,
   "metadata": {
    "collapsed": false
   },
   "outputs": [
    {
     "name": "stdout",
     "output_type": "stream",
     "text": [
      "5\n",
      "Tony\n",
      "30.5\n",
      "Sam\n",
      "20.5\n",
      "Bob\n",
      "20.5\n",
      "Peter\n",
      "10\n",
      "Doris\n",
      "5\n",
      "Bob\n",
      "Sam\n",
      "[['Tony', 30.5], ['Sam', 20.5], ['Bob', 20.5], ['Peter', 10.0], ['Doris', 5.0]]\n"
     ]
    }
   ],
   "source": [
    "L = [[raw_input(), float(raw_input())] for i in xrange(int(raw_input()))]\n",
    "s = sorted(set([x[1] for x in a]), reverse = True)\n",
    "for name in sorted(x[0] for x in a if x[1] == s[1]):\n",
    "    print name\n",
    "    \n",
    "print(L)"
   ]
  },
  {
   "cell_type": "markdown",
   "metadata": {},
   "source": [
    "## 4. Are you ready? \n",
    "### DIY at https://www.hackerrank.com/challenges/nested-list"
   ]
  }
 ],
 "metadata": {
  "anaconda-cloud": {},
  "kernelspec": {
   "display_name": "Python [default]",
   "language": "python",
   "name": "python2"
  },
  "language_info": {
   "codemirror_mode": {
    "name": "ipython",
    "version": 2
   },
   "file_extension": ".py",
   "mimetype": "text/x-python",
   "name": "python",
   "nbconvert_exporter": "python",
   "pygments_lexer": "ipython2",
   "version": "2.7.12"
  }
 },
 "nbformat": 4,
 "nbformat_minor": 1
}
