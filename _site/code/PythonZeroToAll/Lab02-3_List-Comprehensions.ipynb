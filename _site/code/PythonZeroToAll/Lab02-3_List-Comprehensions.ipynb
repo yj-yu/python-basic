{
 "cells": [
  {
   "cell_type": "markdown",
   "metadata": {
    "collapsed": true
   },
   "source": [
    "# Lab02-3: List Comprehensions\n",
    "https://www.hackerrank.com/challenges/list-comprehensions"
   ]
  },
  {
   "cell_type": "markdown",
   "metadata": {},
   "source": [
    "## 1. Description of Problem"
   ]
  },
  {
   "cell_type": "markdown",
   "metadata": {},
   "source": [
    "If we want to make a list without using different for-loops, how do we say in Python?\n",
    "\n",
    "This problem is to use list comprehension.\n",
    "\n",
    "You are given three integers X, Y, Z representing the dimensions of a cuboid along with an integer N. \n",
    "\n",
    "You have to print a list of all possible coordinates given by (i, j, k) on a 3D grid where the sum of i+j+k is not equal to N. Here, 0 ≤ i ≤ X, 0 ≤ j ≤ Y, 0 ≤ k ≤ Z\n",
    "\n",
    "> Input: Four integers; X, Y, Z, N each on four separate lines, respectively. \n",
    "\n",
    ">> ex. 2 2 2 4\n",
    "\n",
    "> Output: Print the list in lexicographic increasing order.\n",
    "\n",
    ">> ex. [[0, 0, 0], [0, 0, 1], [0, 0, 2], [0, 1, 0], [0, 1, 1], [0, 1, 2], [0, 2, 0], [0, 2, 1], [1, 0, 0], [1, 0, 1], [1, 0, 2], [1, 1, 0], [1, 1, 1], [1, 2, 0], [1, 2, 2], [2, 0, 0], [2, 0, 1], [2, 1, 0], [2, 1, 2], [2, 2, 1], [2, 2, 2]]"
   ]
  },
  {
   "cell_type": "markdown",
   "metadata": {},
   "source": [
    "## 2. Concept & Short Examples"
   ]
  },
  {
   "cell_type": "markdown",
   "metadata": {},
   "source": [
    "### Concept [1] List Comprehension"
   ]
  },
  {
   "cell_type": "markdown",
   "metadata": {},
   "source": [
    "List comprehension is an elegant and concise way to create new list from an existing list in Python.\n",
    "\n",
    "List comprehension consists of an expression followed by for-Loop statement inside square brackets.\n",
    "\n",
    "Ex1) Let's make a list using List Comprehension.\n",
    "\n",
    "We want to make a list with each item being increasing power of 2 in range(5)."
   ]
  },
  {
   "cell_type": "code",
   "execution_count": 20,
   "metadata": {
    "collapsed": false
   },
   "outputs": [
    {
     "name": "stdout",
     "output_type": "stream",
     "text": [
      "[1, 2, 4, 8, 16]\n"
     ]
    }
   ],
   "source": [
    "# using List Comprehension\n",
    "power2 = [2**x for x in range(5)]\n",
    "print(power2)"
   ]
  },
  {
   "cell_type": "code",
   "execution_count": 21,
   "metadata": {
    "collapsed": false
   },
   "outputs": [
    {
     "name": "stdout",
     "output_type": "stream",
     "text": [
      "[1, 2, 4, 8, 16]\n"
     ]
    }
   ],
   "source": [
    "# The above code is equivalent to\n",
    "power2 = []\n",
    "for x in range(5):\n",
    "    power2.append(2**x)\n",
    "print(power2)"
   ]
  },
  {
   "cell_type": "markdown",
   "metadata": {},
   "source": [
    "A list comprehension can optionally contain more for-statements or if-statements.\n",
    "\n",
    "An optional if-statement can filter out items for the new list.\n",
    "\n",
    "Ex2) We want to make a list with each item being increasing power of 2 in range(5), \n",
    "\n",
    "and the item must be greater than 1."
   ]
  },
  {
   "cell_type": "code",
   "execution_count": 22,
   "metadata": {
    "collapsed": false
   },
   "outputs": [
    {
     "name": "stdout",
     "output_type": "stream",
     "text": [
      "[4, 8, 16]\n"
     ]
    }
   ],
   "source": [
    "power2 = [2**x for x in range(5) if x>1]\n",
    "print(power2)"
   ]
  },
  {
   "cell_type": "markdown",
   "metadata": {},
   "source": [
    "Ex3) We want to create a list of odd numbers less than 10 for each item."
   ]
  },
  {
   "cell_type": "code",
   "execution_count": 23,
   "metadata": {
    "collapsed": false
   },
   "outputs": [
    {
     "name": "stdout",
     "output_type": "stream",
     "text": [
      "[1, 3, 5, 7, 9]\n"
     ]
    }
   ],
   "source": [
    "odd_n = [x for x in range(10) if x % 2 == 1]\n",
    "print(odd_n)"
   ]
  },
  {
   "cell_type": "markdown",
   "metadata": {},
   "source": [
    "Ex4) We want to make a list of combinations of words."
   ]
  },
  {
   "cell_type": "code",
   "execution_count": 24,
   "metadata": {
    "collapsed": false
   },
   "outputs": [
    {
     "name": "stdout",
     "output_type": "stream",
     "text": [
      "['cute dog', 'cute cat', 'smart dog', 'smart cat']\n"
     ]
    }
   ],
   "source": [
    "list_str = [a+b for a in [\"cute \", \"smart \"] for b in [\"dog\", \"cat\"]]\n",
    "print list_str"
   ]
  },
  {
   "cell_type": "markdown",
   "metadata": {},
   "source": [
    "## 3. Practice Problem"
   ]
  },
  {
   "cell_type": "markdown",
   "metadata": {},
   "source": [
    "You are given three integers X, Y, Z representing the dimensions of a cuboid along with an integer N. \n",
    "\n",
    "You have to print a list of all possible coordinates given by (i, j, k) on a 3D grid where the sum of i+j+k is equal to N. Here, 0 ≤ i ≤ X, 0 ≤ j ≤ Y, 0 ≤ k ≤ Z\n",
    "\n",
    "> Input: Four integers; X, Y, Z, N each on four separate lines, respectively. \n",
    "\n",
    ">> ex. 2 2 2 4\n",
    "\n",
    "> Output: Print the list in lexicographic increasing order.\n",
    "\n",
    ">> ex. [[0, 2, 2], [1, 1, 2], [1, 2, 1], [2, 0, 2], [2, 1, 1], [2, 2, 0]]"
   ]
  },
  {
   "cell_type": "code",
   "execution_count": 25,
   "metadata": {
    "collapsed": false
   },
   "outputs": [
    {
     "name": "stdout",
     "output_type": "stream",
     "text": [
      "2\n",
      "2\n",
      "2\n",
      "4\n",
      "[[0, 2, 2], [1, 1, 2], [1, 2, 1], [2, 0, 2], [2, 1, 1], [2, 2, 0]]\n"
     ]
    }
   ],
   "source": [
    "a, b, c, n = [int(raw_input()) for _ in xrange(4)]\n",
    "print [[x,y,z] for x in xrange(a + 1) for y in xrange(b + 1) for z in xrange(c + 1) if x + y + z == n]"
   ]
  },
  {
   "cell_type": "markdown",
   "metadata": {},
   "source": [
    "## 4. Are you ready? \n",
    "### DIY at https://www.hackerrank.com/challenges/list-comprehensions"
   ]
  }
 ],
 "metadata": {
  "anaconda-cloud": {},
  "kernelspec": {
   "display_name": "Python [default]",
   "language": "python",
   "name": "python2"
  },
  "language_info": {
   "codemirror_mode": {
    "name": "ipython",
    "version": 2
   },
   "file_extension": ".py",
   "mimetype": "text/x-python",
   "name": "python",
   "nbconvert_exporter": "python",
   "pygments_lexer": "ipython2",
   "version": "2.7.12"
  }
 },
 "nbformat": 4,
 "nbformat_minor": 1
}
