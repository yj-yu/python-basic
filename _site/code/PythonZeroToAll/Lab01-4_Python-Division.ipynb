{
 "cells": [
  {
   "cell_type": "markdown",
   "metadata": {},
   "source": [
    "# Lab01-4: Python: Division\n",
    "https://www.hackerrank.com/challenges/python-division"
   ]
  },
  {
   "cell_type": "markdown",
   "metadata": {},
   "source": [
    "## 1. Description of Problem"
   ]
  },
  {
   "cell_type": "markdown",
   "metadata": {},
   "source": [
    "If we want to do an operation of division, how do we say with Python?\n",
    "\n",
    "This problem is to read two integers from a person and print two results of division.\n",
    "\n",
    ">Input: two integers (ex. 23, 4)\n",
    "\n",
    ">Output:\n",
    "1. Quotient after integer division of the two integers. (ex. 5)\n",
    "2. Quotient after float division of the two integers. (ex. 5.75)"
   ]
  },
  {
   "cell_type": "markdown",
   "metadata": {
    "collapsed": true
   },
   "source": [
    "## 2. Concept & Short Examples"
   ]
  },
  {
   "cell_type": "markdown",
   "metadata": {},
   "source": [
    "### Concept [1] Quotient of integer division(//), Quotient of float division(/)"
   ]
  },
  {
   "cell_type": "markdown",
   "metadata": {},
   "source": [
    "Quotient can be integer or real number(float) after division of two integers.\n",
    "\n",
    "> integer division: we use '//' as an operator in Python.\n",
    "\n",
    "> float division: we use '/' as an operator in Python. \n",
    "\n",
    "But, syntax depends on the Python version. Unlike Python 3, you have to do the following in Python 2.\n",
    "\n",
    "In Python 2, we will import an attribute called 'division' from the module 'future'.\n",
    "\n",
    "> Python 2 syntax: should write 'from __future__ import division'\n",
    "\n",
    "> Python 3 syntax: just use '//', '/'\n",
    "\n",
    "Ex1) We want to print the quotients after integer division and float division of 5 and 3. (Python 2)"
   ]
  },
  {
   "cell_type": "code",
   "execution_count": 1,
   "metadata": {
    "collapsed": false
   },
   "outputs": [
    {
     "name": "stdout",
     "output_type": "stream",
     "text": [
      "1\n",
      "1.66666666667\n"
     ]
    }
   ],
   "source": [
    "# Python 2 syntax\n",
    "from __future__ import division\n",
    "\n",
    "# integer division  \n",
    "print (5 // 3)\n",
    "\n",
    "# float division\n",
    "print (5 / 3)"
   ]
  },
  {
   "cell_type": "markdown",
   "metadata": {},
   "source": [
    "Ex2) We want to print the quotients after integer division and float division of 5 and 3. (Python 3)"
   ]
  },
  {
   "cell_type": "code",
   "execution_count": 2,
   "metadata": {
    "collapsed": false
   },
   "outputs": [
    {
     "name": "stdout",
     "output_type": "stream",
     "text": [
      "1\n",
      "1.66666666667\n"
     ]
    }
   ],
   "source": [
    "# Python 3 syntax\n",
    "\n",
    "# integer division  \n",
    "print (5 // 3)\n",
    "\n",
    "# float division\n",
    "print (5 / 3)"
   ]
  },
  {
   "cell_type": "markdown",
   "metadata": {},
   "source": [
    "### Concept [2] Remainder of integer division(%)"
   ]
  },
  {
   "cell_type": "markdown",
   "metadata": {},
   "source": [
    "We use '%' as an operator of remainder after integer division in Python.\n",
    "\n",
    "Ex3) We want to print the remainder after integer division of 5 and 3. "
   ]
  },
  {
   "cell_type": "code",
   "execution_count": 3,
   "metadata": {
    "collapsed": false
   },
   "outputs": [
    {
     "name": "stdout",
     "output_type": "stream",
     "text": [
      "2\n"
     ]
    }
   ],
   "source": [
    "print (5 % 3)"
   ]
  },
  {
   "cell_type": "markdown",
   "metadata": {},
   "source": [
    "## 3. Practice Problem"
   ]
  },
  {
   "cell_type": "markdown",
   "metadata": {},
   "source": [
    "Read two integers from a person and print three results of division.\n",
    "\n",
    ">Input: two integers (ex. 21, 2)\n",
    "\n",
    ">Output:\n",
    "1. Quotient after integer division of the two integers. (ex. 10)\n",
    "2. Remainder after integer division of the two integers. (ex. 1)  \n",
    "3. Quotient after float division of the two integers. (ex. 10.5)"
   ]
  },
  {
   "cell_type": "code",
   "execution_count": 4,
   "metadata": {
    "collapsed": false
   },
   "outputs": [
    {
     "name": "stdout",
     "output_type": "stream",
     "text": [
      "23\n",
      "2\n",
      "11\n",
      "1\n",
      "11.5\n"
     ]
    }
   ],
   "source": [
    "# Python 2 \n",
    "from __future__ import division\n",
    "\n",
    "a = int(raw_input())\n",
    "b = int(raw_input())\n",
    "\n",
    "print(a // b)\n",
    "print(a % b)\n",
    "print(a / b)"
   ]
  },
  {
   "cell_type": "code",
   "execution_count": 5,
   "metadata": {
    "collapsed": false
   },
   "outputs": [
    {
     "name": "stdout",
     "output_type": "stream",
     "text": [
      "23\n",
      "2\n",
      "11\n",
      "1\n",
      "11.5\n"
     ]
    }
   ],
   "source": [
    "# Python 3\n",
    "\n",
    "a = int(input())\n",
    "b = int(input())\n",
    "\n",
    "print(a // b)\n",
    "print(a % b)\n",
    "print(a / b)"
   ]
  },
  {
   "cell_type": "markdown",
   "metadata": {},
   "source": [
    "## 4. Are you ready? \n",
    "### DIY at https://www.hackerrank.com/challenges/python-division"
   ]
  }
 ],
 "metadata": {
  "anaconda-cloud": {},
  "kernelspec": {
   "display_name": "Python [default]",
   "language": "python",
   "name": "python2"
  },
  "language_info": {
   "codemirror_mode": {
    "name": "ipython",
    "version": 2
   },
   "file_extension": ".py",
   "mimetype": "text/x-python",
   "name": "python",
   "nbconvert_exporter": "python",
   "pygments_lexer": "ipython2",
   "version": "2.7.12"
  }
 },
 "nbformat": 4,
 "nbformat_minor": 1
}
