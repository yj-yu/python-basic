{
 "cells": [
  {
   "cell_type": "markdown",
   "metadata": {},
   "source": [
    "# Lab03-2: sWAP cASE\n",
    "https://www.hackerrank.com/challenges/swap-case"
   ]
  },
  {
   "cell_type": "markdown",
   "metadata": {},
   "source": [
    "## 1. Description of Problem"
   ]
  },
  {
   "cell_type": "markdown",
   "metadata": {},
   "source": [
    "If we want to swap lower case letters to upper case letters and vice versa, how do we say in Python?\n",
    "\n",
    "This problem is to use the method string.swapcase.\n",
    "\n",
    "You are given a string S. Your task is to swap cases. In other words, convert all lowercase letters to uppercase letters and vice versa.\n",
    "\n",
    "*Input: A single line containing a string .\n",
    "\n",
    "> ex. HackerRank.com presents \"Pythonist 2\".\n",
    "\n",
    "*Output: Print the modified string S.\n",
    "\n",
    "> ex. hACKERrANK.COM PRESENTS \"pYTHONIST 2\"."
   ]
  },
  {
   "cell_type": "markdown",
   "metadata": {},
   "source": [
    "## 2. Concept & Short Examples"
   ]
  },
  {
   "cell_type": "markdown",
   "metadata": {},
   "source": [
    "### Concept [1] String swapcase( )"
   ]
  },
  {
   "cell_type": "markdown",
   "metadata": {},
   "source": [
    "The string swapcase() method converts all uppercase characters to lowercase and all lowercase characters to uppercase characters of the given string, and returns it.\n",
    "\n",
    "The format of swapcase() method is:\n",
    "\n",
    "> string.swapcase()\n",
    "\n",
    "String swapcase() Parameters():\n",
    "\n",
    "> The swapcase() method doesn't take any parameters.\n",
    "\n",
    "Return value from String swapcase():\n",
    "\n",
    "> The swapcase() method returns the string where all uppercase characters are converted to lowercase, and lowercase characters are converted to uppercase. \n",
    "\n",
    "Ex1) We want to swap lowercase to uppercase and vice versa using swapcase( )."
   ]
  },
  {
   "cell_type": "code",
   "execution_count": 5,
   "metadata": {
    "collapsed": false
   },
   "outputs": [
    {
     "name": "stdout",
     "output_type": "stream",
     "text": [
      "nothing is stronger than habit.\n",
      "NOTHING IS STRONGER THAN HABIT.\n",
      "nOtHiNg iS sTrOnGeR tHaN hAbIt.\n"
     ]
    }
   ],
   "source": [
    "str_a = \"NOTHING IS STRONGER THAN HABIT.\"\n",
    "print(str_a.swapcase())\n",
    "\n",
    "str_b = \"nothing is stronger than habit.\"\n",
    "print(str_b.swapcase())\n",
    "\n",
    "str_c = \"NoThInG Is StRoNgEr ThAn HaBiT.\"\n",
    "print(str_c.swapcase())"
   ]
  },
  {
   "cell_type": "markdown",
   "metadata": {},
   "source": [
    "Note: If you want to convert string to lowercase only, use lower(). Likewise, if you want to convert string to uppercase only, use upper().\n",
    "\n",
    "Ex2) Let's use lower(), upper()."
   ]
  },
  {
   "cell_type": "code",
   "execution_count": 6,
   "metadata": {
    "collapsed": false
   },
   "outputs": [
    {
     "name": "stdout",
     "output_type": "stream",
     "text": [
      "nothing is stronger than habit.\n",
      "nothing is stronger than habit.\n",
      "nothing is stronger than habit.\n",
      "NOTHING IS STRONGER THAN HABIT.\n",
      "NOTHING IS STRONGER THAN HABIT.\n",
      "NOTHING IS STRONGER THAN HABIT.\n"
     ]
    }
   ],
   "source": [
    "str_a = \"NOTHING IS STRONGER THAN HABIT.\"\n",
    "print(str_a.lower())\n",
    "str_b = \"nothing is stronger than habit.\"\n",
    "print(str_b.lower())\n",
    "str_c = \"NoThInG Is StRoNgEr ThAn HaBiT.\"\n",
    "print(str_c.lower())\n",
    "\n",
    "str_a = \"NOTHING IS STRONGER THAN HABIT.\"\n",
    "print(str_a.upper())\n",
    "str_b = \"nothing is stronger than habit.\"\n",
    "print(str_b.upper())\n",
    "str_c = \"NoThInG Is StRoNgEr ThAn HaBiT.\"\n",
    "print(str_c.upper())"
   ]
  },
  {
   "cell_type": "markdown",
   "metadata": {},
   "source": [
    "## 3. Practice Problem"
   ]
  },
  {
   "cell_type": "markdown",
   "metadata": {},
   "source": [
    "You are given a string S. Your task is to swap cases. In other words, convert all lowercase letters to uppercase letters and vice versa.\n",
    "\n",
    "*Input: A single line containing a string .\n",
    "\n",
    "> ex. Paradise is where I am.\n",
    "\n",
    "*Output: Print the modified string S.\n",
    "\n",
    "> ex. pARADISE IS WHERE i AM."
   ]
  },
  {
   "cell_type": "code",
   "execution_count": 4,
   "metadata": {
    "collapsed": false
   },
   "outputs": [
    {
     "name": "stdout",
     "output_type": "stream",
     "text": [
      "Paradise is where I am.\n",
      "pARADISE IS WHERE i AM.\n"
     ]
    }
   ],
   "source": [
    "import string\n",
    "print string.swapcase(raw_input())"
   ]
  },
  {
   "cell_type": "markdown",
   "metadata": {},
   "source": [
    "## 4. Are you ready? \n",
    "### DIY at https://www.hackerrank.com/challenges/swap-case"
   ]
  }
 ],
 "metadata": {
  "anaconda-cloud": {},
  "kernelspec": {
   "display_name": "Python [default]",
   "language": "python",
   "name": "python2"
  },
  "language_info": {
   "codemirror_mode": {
    "name": "ipython",
    "version": 2
   },
   "file_extension": ".py",
   "mimetype": "text/x-python",
   "name": "python",
   "nbconvert_exporter": "python",
   "pygments_lexer": "ipython2",
   "version": "2.7.12"
  }
 },
 "nbformat": 4,
 "nbformat_minor": 1
}
