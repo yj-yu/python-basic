{
 "cells": [
  {
   "cell_type": "markdown",
   "metadata": {},
   "source": [
    "# Lab01-7: Loops\n",
    "https://www.hackerrank.com/challenges/python-loops"
   ]
  },
  {
   "cell_type": "markdown",
   "metadata": {},
   "source": [
    "## 1. Description of Problem"
   ]
  },
  {
   "cell_type": "markdown",
   "metadata": {},
   "source": [
    "If we want to use certain code repeatedly, how do we say in Python?\n",
    "\n",
    "This problem is to print the square of all positive integers i less than N, for the input positive integer N.\n",
    "\n",
    ">Input: positive integer, N\n",
    ">>            (ex. 4)\n",
    "\n",
    ">Output: N lines, one corresponding to each i \n",
    ">>            (ex. 0\n",
    ">>                 1\n",
    ">>                 4\n",
    ">>                 9  )"
   ]
  },
  {
   "cell_type": "markdown",
   "metadata": {},
   "source": [
    "## 2. Concept & Short Examples"
   ]
  },
  {
   "cell_type": "markdown",
   "metadata": {},
   "source": [
    "### Concept [1] function: range( )"
   ]
  },
  {
   "cell_type": "markdown",
   "metadata": {},
   "source": [
    "Let's start with the range function before we know the for-loop.\n",
    "\n",
    "Since the range() function is a built-in function that is included in the Python program from the beginning, \n",
    "\n",
    "you do not have to give it any library name.\n",
    "\n",
    "range() is a function that returns a list of all integer values within a range.\n",
    "\n",
    "> range(min, max): return value is [min, min+1, min+2, ..., max-1]\n",
    "\n",
    "> range(max): return value is the same as the result of range(0, max); [0, 1, 2, ..., max-1]\n",
    "\n",
    "> range(a, b, increment): return value is [a, a+increment, a+(2*increment), ..., b-increment]\n",
    "\n",
    ">       where a = start, b = stop,     b-increment = a+{(b-a)/(increment)-1}*increment\n",
    "\n",
    "Ex1) Let's understand range( ) function with the following examples."
   ]
  },
  {
   "cell_type": "code",
   "execution_count": 7,
   "metadata": {
    "collapsed": false
   },
   "outputs": [
    {
     "data": {
      "text/plain": [
       "[0, 1, 2, 3, 4, 5, 6, 7, 8, 9]"
      ]
     },
     "execution_count": 7,
     "metadata": {},
     "output_type": "execute_result"
    }
   ],
   "source": [
    "range(0, 10)"
   ]
  },
  {
   "cell_type": "code",
   "execution_count": 8,
   "metadata": {
    "collapsed": false
   },
   "outputs": [
    {
     "data": {
      "text/plain": [
       "[0, 1, 2, 3, 4, 5, 6, 7, 8, 9]"
      ]
     },
     "execution_count": 8,
     "metadata": {},
     "output_type": "execute_result"
    }
   ],
   "source": [
    "range(10)"
   ]
  },
  {
   "cell_type": "code",
   "execution_count": 9,
   "metadata": {
    "collapsed": false
   },
   "outputs": [
    {
     "data": {
      "text/plain": [
       "[0, 1, 2, 3, 4, 5, 6, 7, 8, 9]"
      ]
     },
     "execution_count": 9,
     "metadata": {},
     "output_type": "execute_result"
    }
   ],
   "source": [
    "range(0, 10, 1)"
   ]
  },
  {
   "cell_type": "code",
   "execution_count": 10,
   "metadata": {
    "collapsed": false
   },
   "outputs": [
    {
     "data": {
      "text/plain": [
       "[1, 2, 3, 4, 5, 6, 7, 8, 9]"
      ]
     },
     "execution_count": 10,
     "metadata": {},
     "output_type": "execute_result"
    }
   ],
   "source": [
    "range(1, 10)"
   ]
  },
  {
   "cell_type": "code",
   "execution_count": 11,
   "metadata": {
    "collapsed": false
   },
   "outputs": [
    {
     "data": {
      "text/plain": [
       "[0, 1, 2, 3, 4, 5, 6, 7, 8]"
      ]
     },
     "execution_count": 11,
     "metadata": {},
     "output_type": "execute_result"
    }
   ],
   "source": [
    "range(9)"
   ]
  },
  {
   "cell_type": "code",
   "execution_count": 12,
   "metadata": {
    "collapsed": false
   },
   "outputs": [
    {
     "data": {
      "text/plain": [
       "[0, 2, 4, 6, 8, 10, 12, 14, 16, 18]"
      ]
     },
     "execution_count": 12,
     "metadata": {},
     "output_type": "execute_result"
    }
   ],
   "source": [
    "range(0, 20, 2)"
   ]
  },
  {
   "cell_type": "code",
   "execution_count": 13,
   "metadata": {
    "collapsed": false
   },
   "outputs": [
    {
     "data": {
      "text/plain": [
       "[30, 27, 24, 21, 18, 15, 12, 9, 6, 3]"
      ]
     },
     "execution_count": 13,
     "metadata": {},
     "output_type": "execute_result"
    }
   ],
   "source": [
    "range(30, 0, -3)"
   ]
  },
  {
   "cell_type": "markdown",
   "metadata": {},
   "source": [
    "### Concept [2] for-loop"
   ]
  },
  {
   "cell_type": "code",
   "execution_count": 1,
   "metadata": {
    "collapsed": false
   },
   "outputs": [
    {
     "data": {
      "image/png": "[encoded data removed]",
      "text/plain": [
       "<IPython.core.display.Image object>"
      ]
     },
     "execution_count": 1,
     "metadata": {},
     "output_type": "execute_result"
    }
   ],
   "source": [
    "# Library for image output (Lab01-7_1_ForLoopDiagram by WIKIPEDIA)\n",
    "from IPython.display import Image \n",
    "Image(filename=\"image/Lab01-7_1_ForLoopDiagram.png\")"
   ]
  },
  {
   "cell_type": "markdown",
   "metadata": {},
   "source": [
    "for-loop is the most widely used loop that allows certain parts of code to be executed repeatedly. \n",
    "\n",
    "In Python, for-loop is as follows.\n",
    "\n",
    "> for count variable in range(the number of iterations):\n",
    "\n",
    ">     Commands to be repeated\n",
    "\n",
    "The name of the count variable can be anything. (i or j are often used variable names.)\n",
    "\n",
    "The number of iterations must be a positive integer. \n",
    "\n",
    "Ex2) We want to print numbers 0 to 4 using for-loop."
   ]
  },
  {
   "cell_type": "code",
   "execution_count": 15,
   "metadata": {
    "collapsed": false
   },
   "outputs": [
    {
     "name": "stdout",
     "output_type": "stream",
     "text": [
      "0\n",
      "1\n",
      "2\n",
      "3\n",
      "4\n"
     ]
    }
   ],
   "source": [
    "for i in range(5):\n",
    "    print(i)"
   ]
  },
  {
   "cell_type": "markdown",
   "metadata": {},
   "source": [
    "Ex3) We want to print numbers -2 to 3 using for-loop."
   ]
  },
  {
   "cell_type": "code",
   "execution_count": 16,
   "metadata": {
    "collapsed": false
   },
   "outputs": [
    {
     "name": "stdout",
     "output_type": "stream",
     "text": [
      "-2\n",
      "-1\n",
      "0\n",
      "1\n",
      "2\n",
      "3\n"
     ]
    }
   ],
   "source": [
    "for i in range(-2,4):\n",
    "    print(i)"
   ]
  },
  {
   "cell_type": "markdown",
   "metadata": {},
   "source": [
    "Ex4) We want to print a countdown message from 10 to 1 using for-loop.\n",
    "\n",
    "    (Output: 10 sec. before launch, 9 sec. before launch, 8 sec. before launch, ..., 1 sec. before launch)\n",
    "    \n",
    "  In Python, we use str() function to convert a structure such as a number or a list to a string."
   ]
  },
  {
   "cell_type": "code",
   "execution_count": 17,
   "metadata": {
    "collapsed": false
   },
   "outputs": [
    {
     "name": "stdout",
     "output_type": "stream",
     "text": [
      "10 sec. before launch\n",
      "9 sec. before launch\n",
      "8 sec. before launch\n",
      "7 sec. before launch\n",
      "6 sec. before launch\n",
      "5 sec. before launch\n",
      "4 sec. before launch\n",
      "3 sec. before launch\n",
      "2 sec. before launch\n",
      "1 sec. before launch\n"
     ]
    }
   ],
   "source": [
    "for i in range (10,0,-1):\n",
    "    print(str(i)+\" sec. before launch\")"
   ]
  },
  {
   "cell_type": "markdown",
   "metadata": {},
   "source": [
    "### Concept [3] while-loop"
   ]
  },
  {
   "cell_type": "code",
   "execution_count": 2,
   "metadata": {
    "collapsed": false
   },
   "outputs": [
    {
     "data": {
      "image/png": "[encoded data removed]",
      "text/plain": [
       "<IPython.core.display.Image object>"
      ]
     },
     "execution_count": 2,
     "metadata": {},
     "output_type": "execute_result"
    }
   ],
   "source": [
    "# Library for image output (Lab01-7_2_WhileLoopDiagram by WIKIPEDIA)\n",
    "from IPython.display import Image \n",
    "Image(filename=\"image/Lab01-7_2_WhileLoopDiagram.png\")"
   ]
  },
  {
   "cell_type": "markdown",
   "metadata": {},
   "source": [
    "while-loop is a type of loop that allows certain parts of code to be executed repeatedly. \n",
    "\n",
    "In Python, while-loop is as follows.\n",
    "\n",
    "> count variable = initial value\n",
    "\n",
    "> while condition:\n",
    "\n",
    ">        Commands to be repeated \n",
    ">        (including statement of increase or decrease of count variable)\n",
    "\n",
    "If the condition is true, the code in the while-loop is executed.\n",
    "\n",
    "This operation is repeated until the condition is false.\n",
    "\n",
    "Ex5) We want to print numbers -2 to 3 using while-loop."
   ]
  },
  {
   "cell_type": "code",
   "execution_count": 19,
   "metadata": {
    "collapsed": false
   },
   "outputs": [
    {
     "name": "stdout",
     "output_type": "stream",
     "text": [
      "-2\n",
      "-1\n",
      "0\n",
      "1\n",
      "2\n",
      "3\n"
     ]
    }
   ],
   "source": [
    "i = -2\n",
    "while i < 4:\n",
    "    print(i)\n",
    "    i += 1"
   ]
  },
  {
   "cell_type": "markdown",
   "metadata": {},
   "source": [
    "##### Note: i + = 1 is equal to i = i + 1. See the table below."
   ]
  },
  {
   "cell_type": "code",
   "execution_count": 3,
   "metadata": {
    "collapsed": false
   },
   "outputs": [
    {
     "data": {
      "image/png": "[encoded data removed]",
      "text/plain": [
       "<IPython.core.display.Image object>"
      ]
     },
     "execution_count": 3,
     "metadata": {},
     "output_type": "execute_result"
    }
   ],
   "source": [
    "# Library for image output (Lab01-7_3_AssignmentOperator by programiz.com)\n",
    "from IPython.display import Image \n",
    "Image(filename=\"image/Lab01-7_3_AssignmentOperator.png\")"
   ]
  },
  {
   "cell_type": "markdown",
   "metadata": {},
   "source": [
    "## 3. Practice Problem"
   ]
  },
  {
   "cell_type": "markdown",
   "metadata": {},
   "source": [
    "Print the multiple of 5 of all positive integers i less than N, for the input positive integer N.\n",
    "\n",
    ">Input: positive integer, N\n",
    ">>            (ex. 4)\n",
    "\n",
    ">Output: N lines, one corresponding to each i \n",
    ">>            (ex. 0\n",
    ">>                 5\n",
    ">>                 10\n",
    ">>                 15  )"
   ]
  },
  {
   "cell_type": "code",
   "execution_count": 21,
   "metadata": {
    "collapsed": false
   },
   "outputs": [
    {
     "name": "stdout",
     "output_type": "stream",
     "text": [
      "6\n",
      "0\n",
      "5\n",
      "10\n",
      "15\n",
      "20\n",
      "25\n"
     ]
    }
   ],
   "source": [
    "for i in range(int(raw_input())):\n",
    "    print i*5"
   ]
  },
  {
   "cell_type": "code",
   "execution_count": 22,
   "metadata": {
    "collapsed": false
   },
   "outputs": [
    {
     "name": "stdout",
     "output_type": "stream",
     "text": [
      "3\n",
      "0\n",
      "5\n",
      "10\n"
     ]
    }
   ],
   "source": [
    "i = 0\n",
    "a = int(raw_input())\n",
    "while i < a:\n",
    "    print(i*5)\n",
    "    i += 1"
   ]
  },
  {
   "cell_type": "markdown",
   "metadata": {},
   "source": [
    "## 4. Are you ready? \n",
    "### DIY at https://www.hackerrank.com/challenges/python-loops"
   ]
  }
 ],
 "metadata": {
  "anaconda-cloud": {},
  "kernelspec": {
   "display_name": "Python [default]",
   "language": "python",
   "name": "python2"
  },
  "language_info": {
   "codemirror_mode": {
    "name": "ipython",
    "version": 2
   },
   "file_extension": ".py",
   "mimetype": "text/x-python",
   "name": "python",
   "nbconvert_exporter": "python",
   "pygments_lexer": "ipython2",
   "version": "2.7.12"
  }
 },
 "nbformat": 4,
 "nbformat_minor": 1
}
