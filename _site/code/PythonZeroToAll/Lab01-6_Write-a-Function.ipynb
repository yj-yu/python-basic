{
 "cells": [
  {
   "cell_type": "markdown",
   "metadata": {},
   "source": [
    "# Lab01-6: Write a function\n",
    "https://www.hackerrank.com/challenges/write-a-function"
   ]
  },
  {
   "cell_type": "markdown",
   "metadata": {},
   "source": [
    "## 1. Description of Problem"
   ]
  },
  {
   "cell_type": "markdown",
   "metadata": {},
   "source": [
    "If we want to write a function, how do we say with Python?\n",
    "\n",
    "This problem is to write a function to check if the given year is leap or not.\n",
    "\n",
    ">Input: year (1900 ≤ year ≤ 100000)\n",
    "\n",
    ">Output: boolean value (True / False)"
   ]
  },
  {
   "cell_type": "markdown",
   "metadata": {},
   "source": [
    "## 2. Concept & Short Examples"
   ]
  },
  {
   "cell_type": "markdown",
   "metadata": {},
   "source": [
    "### Concept [1] Function"
   ]
  },
  {
   "cell_type": "code",
   "execution_count": 8,
   "metadata": {
    "collapsed": false
   },
   "outputs": [
    {
     "data": {
      "image/png": "[encoded data removed]",
      "text/plain": [
       "<IPython.core.display.Image object>"
      ]
     },
     "execution_count": 8,
     "metadata": {},
     "output_type": "execute_result"
    }
   ],
   "source": [
    "# Library for image output (Lab01-6_1_Function by WIKIPEDIA)\n",
    "from IPython.display import Image \n",
    "Image(filename=\"image/Lab01-6_1_Function.png\")"
   ]
  },
  {
   "cell_type": "markdown",
   "metadata": {},
   "source": [
    "![image](https://cloud.githubusercontent.com/assets/26020722/24488780/44312eb4-1554-11e7-92fc-fdc12c820a96.png)\n",
    "\n",
    "In mathematics, a function is a relation between a set of inputs and a set of permissible outputs with the property that each input is related to exactly one output.\n",
    "\n",
    "> #### Example: Function that relates each real number x to its square x*x. \n",
    "\n",
    "> The output of a function f corresponding to an input x is denoted by f(x) (read \"f of x\").\n",
    "\n",
    "> If the input is −3, then the output is 9, and we may write f(−3) = 9. \n",
    "\n",
    "> Likewise, if the input is 3, then the output is also 9, and we may write f(3) = 9. \n",
    "\n",
    "> (The same output may be produced by more than one input, but each input gives only one output.) \n",
    "\n",
    "In Python, you can use the keyword \"def\" to write a function like this:\n",
    "\n",
    "(The keyword \"def\" was created from \"define\".)\n",
    "\n",
    ">def function name(input variable name):\n",
    "\n",
    ">     Commands\n",
    "\n",
    ">     return output variable name\n",
    "\n",
    "Ex1) We want to write the square function of the example above."
   ]
  },
  {
   "cell_type": "code",
   "execution_count": 9,
   "metadata": {
    "collapsed": true
   },
   "outputs": [],
   "source": [
    "def square(x):\n",
    "    y = x * x\n",
    "    return y"
   ]
  },
  {
   "cell_type": "markdown",
   "metadata": {},
   "source": [
    "Ex2) To use this square function, we put the function name followed by the input value in parentheses."
   ]
  },
  {
   "cell_type": "code",
   "execution_count": 10,
   "metadata": {
    "collapsed": false
   },
   "outputs": [
    {
     "name": "stdout",
     "output_type": "stream",
     "text": [
      "9\n"
     ]
    }
   ],
   "source": [
    "print(square(-3))"
   ]
  },
  {
   "cell_type": "code",
   "execution_count": 11,
   "metadata": {
    "collapsed": false
   },
   "outputs": [
    {
     "name": "stdout",
     "output_type": "stream",
     "text": [
      "9\n"
     ]
    }
   ],
   "source": [
    "print(square(3))"
   ]
  },
  {
   "cell_type": "markdown",
   "metadata": {},
   "source": [
    "Function does not need to have input or output, as follows.\n",
    "\n",
    ">def function name( ):\n",
    "\n",
    ">     Commands\n",
    "\n",
    "Ex3) We want to write a function that prints \"Nice to meet you.\" with no input."
   ]
  },
  {
   "cell_type": "code",
   "execution_count": 26,
   "metadata": {
    "collapsed": false
   },
   "outputs": [
    {
     "name": "stdout",
     "output_type": "stream",
     "text": [
      "Nice to meet you.\n"
     ]
    }
   ],
   "source": [
    "# no input\n",
    "def message_1():\n",
    "    return(\"Nice to meet you.\")\n",
    "m = message_1()\n",
    "print(m)"
   ]
  },
  {
   "cell_type": "code",
   "execution_count": 27,
   "metadata": {
    "collapsed": false
   },
   "outputs": [
    {
     "name": "stdout",
     "output_type": "stream",
     "text": [
      "Nice to meet you.\n"
     ]
    }
   ],
   "source": [
    "# no input, no output\n",
    "def message_2():\n",
    "    print(\"Nice to meet you.\")\n",
    "message_2()"
   ]
  },
  {
   "cell_type": "markdown",
   "metadata": {},
   "source": [
    "### Concept [2] Function with multiple inputs"
   ]
  },
  {
   "cell_type": "markdown",
   "metadata": {},
   "source": [
    "Input of function may be multiple, not just one.\n",
    "\n",
    "If there are multiple input variables, we can define the function using comma like this.\n",
    "\n",
    ">def function name(input variable name 1, input variable name 2, input variable name 3, ...):\n",
    "\n",
    ">     Commands\n",
    "\n",
    ">     return output variable name\n",
    "\n",
    "We can make inputs as many as we want.\n",
    "\n",
    "Ex4) We want to write function of sum from two inputs and three inputs."
   ]
  },
  {
   "cell_type": "code",
   "execution_count": 12,
   "metadata": {
    "collapsed": false
   },
   "outputs": [
    {
     "name": "stdout",
     "output_type": "stream",
     "text": [
      "7\n"
     ]
    }
   ],
   "source": [
    "def sum(x, y):\n",
    "    result = x + y \n",
    "    return result\n",
    "print(sum(3, 4))"
   ]
  },
  {
   "cell_type": "code",
   "execution_count": 13,
   "metadata": {
    "collapsed": false
   },
   "outputs": [
    {
     "name": "stdout",
     "output_type": "stream",
     "text": [
      "12\n"
     ]
    }
   ],
   "source": [
    "def sum(x, y, z):\n",
    "    result = x + y + z \n",
    "    return result\n",
    "print(sum(3, 4, 5))"
   ]
  },
  {
   "cell_type": "markdown",
   "metadata": {},
   "source": [
    "## 3. Practice Problem"
   ]
  },
  {
   "cell_type": "markdown",
   "metadata": {},
   "source": [
    "Write a function to check whether the given number is a multiple of 2 or 3 or 5.\n",
    "\n",
    ">Input: positve integer, n\n",
    "\n",
    ">Output: boolean value (True / False)\n",
    "\n",
    ">>True: the number is a multiple of 2 or a multiple of 3 or a multiple of 5\n",
    "\n",
    ">>False: else "
   ]
  },
  {
   "cell_type": "code",
   "execution_count": 14,
   "metadata": {
    "collapsed": false
   },
   "outputs": [
    {
     "name": "stdout",
     "output_type": "stream",
     "text": [
      "29\n",
      "False\n"
     ]
    }
   ],
   "source": [
    "def multiple(n):\n",
    "    if n % 2 == 0:\n",
    "        return True\n",
    "    if n % 3 == 0:\n",
    "        return True\n",
    "    if n % 5 == 0:\n",
    "        return True\n",
    "    return False\n",
    "\n",
    "print multiple(input())"
   ]
  },
  {
   "cell_type": "code",
   "execution_count": 15,
   "metadata": {
    "collapsed": false
   },
   "outputs": [
    {
     "name": "stdout",
     "output_type": "stream",
     "text": [
      "10\n",
      "True\n"
     ]
    }
   ],
   "source": [
    "def multiple(n):\n",
    "    result = False\n",
    "    if n % 2 == 0:\n",
    "        result = True\n",
    "    if n % 3 == 0:\n",
    "        result = True\n",
    "    if n % 5 == 0:\n",
    "        result = True\n",
    "    return result\n",
    "\n",
    "print multiple(input())"
   ]
  },
  {
   "cell_type": "markdown",
   "metadata": {},
   "source": [
    "## 4. Are you ready? \n",
    "### DIY at https://www.hackerrank.com/challenges/write-a-function"
   ]
  }
 ],
 "metadata": {
  "anaconda-cloud": {},
  "kernelspec": {
   "display_name": "Python [default]",
   "language": "python",
   "name": "python2"
  },
  "language_info": {
   "codemirror_mode": {
    "name": "ipython",
    "version": 2
   },
   "file_extension": ".py",
   "mimetype": "text/x-python",
   "name": "python",
   "nbconvert_exporter": "python",
   "pygments_lexer": "ipython2",
   "version": "2.7.12"
  }
 },
 "nbformat": 4,
 "nbformat_minor": 1
}
