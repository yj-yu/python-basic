{
 "cells": [
  {
   "cell_type": "markdown",
   "metadata": {},
   "source": [
    "# Lab02-1: Lists\n",
    "https://www.hackerrank.com/challenges/python-lists"
   ]
  },
  {
   "cell_type": "markdown",
   "metadata": {},
   "source": [
    "## 1. Description of Problem"
   ]
  },
  {
   "cell_type": "markdown",
   "metadata": {},
   "source": [
    "If we want to store multiple values in a container-like data structure, how do we say in Python?\n",
    "\n",
    "The goal is to solve a problem using list methods and conditionals.\n",
    "\n",
    ">Input: Integer n, denoting the number of commands.\n",
    "\n",
    ">       Each line  of the  subsequent lines contains one of the commands described below.\n",
    "\n",
    ">> Consider a list (list = [ ]). You can perform the following commands: \n",
    "\n",
    ">> (1) insert i e: Insert integer  at position.\n",
    "\n",
    ">> (2) print: Print the list.\n",
    "\n",
    ">> (3) remove e: Delete the first occurrence of integer.\n",
    "\n",
    ">> (4) append e: Insert integer  at the end of the list. \n",
    "\n",
    ">> (5) sort: Sort the list.\n",
    "\n",
    ">> (6) pop: Pop the last element from the list.\n",
    "\n",
    ">> (7) reverse: Reverse the list.\n",
    "\n",
    ">Output: For each command of type print, print the list on a new line."
   ]
  },
  {
   "cell_type": "markdown",
   "metadata": {},
   "source": [
    "## 2. Concept & Short Examples"
   ]
  },
  {
   "cell_type": "markdown",
   "metadata": {},
   "source": [
    "### Concept [1] How to create a list?"
   ]
  },
  {
   "cell_type": "markdown",
   "metadata": {},
   "source": [
    "In Python programming, a list is created by placing all the items (elements) inside a square bracket [ ], separated by commas.\n",
    "\n",
    "It can have any number of items and they may be of different types (integer, float, string, etc.).\n",
    "\n",
    "Ex1) Let's make a list and print it."
   ]
  },
  {
   "cell_type": "code",
   "execution_count": 32,
   "metadata": {
    "collapsed": false
   },
   "outputs": [
    {
     "name": "stdout",
     "output_type": "stream",
     "text": [
      "[]\n"
     ]
    }
   ],
   "source": [
    "# empty list\n",
    "my_list = []\n",
    "print my_list"
   ]
  },
  {
   "cell_type": "code",
   "execution_count": 16,
   "metadata": {
    "collapsed": false
   },
   "outputs": [
    {
     "name": "stdout",
     "output_type": "stream",
     "text": [
      "[1, 2, 3]\n"
     ]
    }
   ],
   "source": [
    "# list of integers\n",
    "my_list = [1, 2, 3]\n",
    "print my_list"
   ]
  },
  {
   "cell_type": "code",
   "execution_count": 17,
   "metadata": {
    "collapsed": false
   },
   "outputs": [
    {
     "name": "stdout",
     "output_type": "stream",
     "text": [
      "[1, 'Hello', 3.4]\n"
     ]
    }
   ],
   "source": [
    "# list with mixed datatypes\n",
    "my_list = [1, \"Hello\", 3.4]\n",
    "print my_list"
   ]
  },
  {
   "cell_type": "markdown",
   "metadata": {},
   "source": [
    "Also, a list can even have another list as an item. \n",
    "\n",
    "This is called nested list. (We deal with this concept in Lab-02-5.)\n",
    "\n",
    "Ex2) Let's make a nested list and print it."
   ]
  },
  {
   "cell_type": "code",
   "execution_count": 21,
   "metadata": {
    "collapsed": false
   },
   "outputs": [
    {
     "name": "stdout",
     "output_type": "stream",
     "text": [
      "['your list', [1, 2, 3.5], ['b', [2, 'a']]]\n"
     ]
    }
   ],
   "source": [
    "# nested list\n",
    "my_list = [\"your list\", [1, 2, 3.5], [\"b\", [2, \"a\"]]]\n",
    "print my_list"
   ]
  },
  {
   "cell_type": "markdown",
   "metadata": {},
   "source": [
    "### Concept [2] How to access elements from a list?"
   ]
  },
  {
   "cell_type": "markdown",
   "metadata": {},
   "source": [
    "We can use the index operator [ ] to access an item in a list. \n",
    "\n",
    "Index starts from 0. So, a list having 5 elements will have index from 0 to 4.\n",
    "\n",
    "Trying to access an element other that this will raise an IndexError.\n",
    "\n",
    "The index must be an integer. We can't use float or other types, this will result into TypeError.\n",
    "\n",
    "Ex3) We want to access elements from a list using indexing."
   ]
  },
  {
   "cell_type": "code",
   "execution_count": 34,
   "metadata": {
    "collapsed": false
   },
   "outputs": [
    {
     "name": "stdout",
     "output_type": "stream",
     "text": [
      "b\n",
      "2\n",
      "apple\n",
      "z\n"
     ]
    }
   ],
   "source": [
    "list_a = [\"b\", 2, \"apple\", \"z\"]\n",
    "\n",
    "# Output: b\n",
    "print(list_a[0])\n",
    "# Output: 2\n",
    "print(list_a[1])\n",
    "# Output: apple\n",
    "print(list_a[2])\n",
    "# Output: z\n",
    "print(list_a[3])"
   ]
  },
  {
   "cell_type": "code",
   "execution_count": 35,
   "metadata": {
    "collapsed": false
   },
   "outputs": [
    {
     "ename": "IndexError",
     "evalue": "list index out of range",
     "output_type": "error",
     "traceback": [
      "\u001b[0;31m---------------------------------------------------------------------------\u001b[0m",
      "\u001b[0;31mIndexError\u001b[0m                                Traceback (most recent call last)",
      "\u001b[0;32m<ipython-input-35-cd7cdece3e1b>\u001b[0m in \u001b[0;36m<module>\u001b[0;34m()\u001b[0m\n\u001b[1;32m      1\u001b[0m \u001b[1;31m# Index Error\u001b[0m\u001b[1;33m\u001b[0m\u001b[1;33m\u001b[0m\u001b[0m\n\u001b[0;32m----> 2\u001b[0;31m \u001b[1;32mprint\u001b[0m\u001b[1;33m(\u001b[0m\u001b[0mlist_a\u001b[0m\u001b[1;33m[\u001b[0m\u001b[1;36m4\u001b[0m\u001b[1;33m]\u001b[0m\u001b[1;33m)\u001b[0m\u001b[1;33m\u001b[0m\u001b[0m\n\u001b[0m",
      "\u001b[0;31mIndexError\u001b[0m: list index out of range"
     ]
    }
   ],
   "source": [
    "# Index Error\n",
    "print(list_a[4])"
   ]
  },
  {
   "cell_type": "code",
   "execution_count": 36,
   "metadata": {
    "collapsed": false
   },
   "outputs": [
    {
     "ename": "TypeError",
     "evalue": "list indices must be integers, not float",
     "output_type": "error",
     "traceback": [
      "\u001b[0;31m---------------------------------------------------------------------------\u001b[0m",
      "\u001b[0;31mTypeError\u001b[0m                                 Traceback (most recent call last)",
      "\u001b[0;32m<ipython-input-36-23f119224236>\u001b[0m in \u001b[0;36m<module>\u001b[0;34m()\u001b[0m\n\u001b[1;32m      1\u001b[0m \u001b[1;31m# Type Error\u001b[0m\u001b[1;33m\u001b[0m\u001b[1;33m\u001b[0m\u001b[0m\n\u001b[0;32m----> 2\u001b[0;31m \u001b[1;32mprint\u001b[0m\u001b[1;33m(\u001b[0m\u001b[0mlist_a\u001b[0m\u001b[1;33m[\u001b[0m\u001b[1;36m3.0\u001b[0m\u001b[1;33m]\u001b[0m\u001b[1;33m)\u001b[0m\u001b[1;33m\u001b[0m\u001b[0m\n\u001b[0m",
      "\u001b[0;31mTypeError\u001b[0m: list indices must be integers, not float"
     ]
    }
   ],
   "source": [
    "# Type Error\n",
    "print(list_a[3.0])"
   ]
  },
  {
   "cell_type": "markdown",
   "metadata": {},
   "source": [
    "Python allows negative indexing for its sequences.\n",
    "\n",
    "The index of -1 refers to the last item, -2 to the second last item and so on.\n",
    "\n",
    "Ex4) We want to access elements from a list using negative indexing."
   ]
  },
  {
   "cell_type": "code",
   "execution_count": 45,
   "metadata": {
    "collapsed": false
   },
   "outputs": [
    {
     "name": "stdout",
     "output_type": "stream",
     "text": [
      "l\n",
      "f\n",
      "b\n"
     ]
    }
   ],
   "source": [
    "list_b = [\"b\", \"e\", \"a\", \"u\", \"t\", \"i\", \"f\", \"u\", \"l\"]\n",
    "\n",
    "# Output: l\n",
    "print(list_b[-1])\n",
    "# Output: f\n",
    "print(list_b[-3])\n",
    "# Output: b\n",
    "print(list_b[-9])"
   ]
  },
  {
   "cell_type": "markdown",
   "metadata": {},
   "source": [
    "Ex5) We can access a range of items in a list by using the slicing operator (colon)."
   ]
  },
  {
   "cell_type": "code",
   "execution_count": 46,
   "metadata": {
    "collapsed": false
   },
   "outputs": [
    {
     "name": "stdout",
     "output_type": "stream",
     "text": [
      "['a', 'u', 't']\n",
      "['b', 'e', 'a', 'u']\n",
      "['i', 'f', 'u', 'l']\n",
      "['b', 'e', 'a', 'u', 't', 'i', 'f', 'u', 'l']\n"
     ]
    }
   ],
   "source": [
    "list_b = [\"b\", \"e\", \"a\", \"u\", \"t\", \"i\", \"f\", \"u\", \"l\"]\n",
    "\n",
    "# elements 3rd to 5th\n",
    "print(list_b[2:5])\n",
    "# elements beginning to 4th\n",
    "print(list_b[:-5])\n",
    "# elements 6th to end\n",
    "print(list_b[5:])\n",
    "# elements beginning to end\n",
    "print(list_b[:])"
   ]
  },
  {
   "cell_type": "markdown",
   "metadata": {},
   "source": [
    "### Concept [3] Python List Methods"
   ]
  },
  {
   "cell_type": "markdown",
   "metadata": {},
   "source": [
    "Methods are available with list object in Python programming.\n",
    "\n",
    "They are accessed as list.method().\n",
    "\n",
    "Ex6) Let's look at some of the methods we can use on list."
   ]
  },
  {
   "cell_type": "code",
   "execution_count": 47,
   "metadata": {
    "collapsed": false
   },
   "outputs": [
    {
     "name": "stdout",
     "output_type": "stream",
     "text": [
      "[1, 2, 3, 9]\n"
     ]
    }
   ],
   "source": [
    "# append(x): Adds a single element x to the end of a list.\n",
    "arr = [1, 2, 3]\n",
    "arr.append(9)   \n",
    "print arr  \n",
    "# prints [1, 2, 3, 9]"
   ]
  },
  {
   "cell_type": "code",
   "execution_count": 48,
   "metadata": {
    "collapsed": false
   },
   "outputs": [
    {
     "name": "stdout",
     "output_type": "stream",
     "text": [
      "[1, 2, 3, 10, 11]\n"
     ]
    }
   ],
   "source": [
    "# extend(L): Merges another list L to the end.\n",
    "arr = [1, 2, 3]\n",
    "arr.extend([10,11])\n",
    "print arr\n",
    "# prints [1, 2, 3, 10, 11]"
   ]
  },
  {
   "cell_type": "code",
   "execution_count": 50,
   "metadata": {
    "collapsed": false
   },
   "outputs": [
    {
     "name": "stdout",
     "output_type": "stream",
     "text": [
      "[1, 2, 7, 3]\n"
     ]
    }
   ],
   "source": [
    "# insert(i, x): Inserts element x at position i.\n",
    "arr = [1, 2, 3]\n",
    "arr.insert(2,7)\n",
    "print arr\n",
    "# prints [1, 2, 7, 3]"
   ]
  },
  {
   "cell_type": "code",
   "execution_count": 56,
   "metadata": {
    "collapsed": false
   },
   "outputs": [
    {
     "name": "stdout",
     "output_type": "stream",
     "text": [
      "[2, 3]\n"
     ]
    }
   ],
   "source": [
    "# remove(x): Removes the first occurrence of element x.\n",
    "arr = [1, 2, 3]\n",
    "arr.remove(1)\n",
    "print arr\n",
    "# prints [2, 3]"
   ]
  },
  {
   "cell_type": "code",
   "execution_count": 58,
   "metadata": {
    "collapsed": false
   },
   "outputs": [
    {
     "name": "stdout",
     "output_type": "stream",
     "text": [
      "[1, 2]\n"
     ]
    }
   ],
   "source": [
    "# pop(): Removes the last element of a list.\n",
    "# If an argument is passed, that index item is popped out. \n",
    "arr = [1, 2, 3]\n",
    "arr.pop()\n",
    "print arr\n",
    "# prints [1, 2]"
   ]
  },
  {
   "cell_type": "code",
   "execution_count": 69,
   "metadata": {
    "collapsed": false
   },
   "outputs": [
    {
     "name": "stdout",
     "output_type": "stream",
     "text": [
      "0\n"
     ]
    }
   ],
   "source": [
    "# index(x): Returns the first index of a value in the list. \n",
    "# Throws an error if it's not found. \n",
    "arr = [1, 2, 3]\n",
    "index_of_item = arr.index(1)\n",
    "print index_of_item \n",
    "# prints 0"
   ]
  },
  {
   "cell_type": "code",
   "execution_count": 72,
   "metadata": {
    "collapsed": false
   },
   "outputs": [
    {
     "name": "stdout",
     "output_type": "stream",
     "text": [
      "4\n"
     ]
    }
   ],
   "source": [
    "# count(x): Counts the number of occurrences of an element x.\n",
    "arr = [1, 2, 3, 1, 1, 1]\n",
    "cnt_of_item = arr.count(1)\n",
    "print cnt_of_item \n",
    "# prints 4"
   ]
  },
  {
   "cell_type": "code",
   "execution_count": 74,
   "metadata": {
    "collapsed": false
   },
   "outputs": [
    {
     "name": "stdout",
     "output_type": "stream",
     "text": [
      "[1, 1, 1, 1, 2, 3]\n"
     ]
    }
   ],
   "source": [
    "# sort(): Sorts the list.\n",
    "arr = [1, 2, 3, 1, 1, 1]\n",
    "arr.sort()\n",
    "print arr \n",
    "# prints [1, 1, 1, 1, 2, 3]"
   ]
  },
  {
   "cell_type": "code",
   "execution_count": 76,
   "metadata": {
    "collapsed": false
   },
   "outputs": [
    {
     "name": "stdout",
     "output_type": "stream",
     "text": [
      "[1, 1, 1, 3, 2, 1]\n"
     ]
    }
   ],
   "source": [
    "# reverse(): Reverses the list.\n",
    "arr = [1, 2, 3, 1, 1, 1]\n",
    "arr.reverse()\n",
    "print arr \n",
    "# prints [1, 1, 1, 3, 2, 1]"
   ]
  },
  {
   "cell_type": "markdown",
   "metadata": {},
   "source": [
    "## 3. Practice Problem"
   ]
  },
  {
   "cell_type": "markdown",
   "metadata": {},
   "source": [
    "Let's solve a problem using list methods and conditionals.\n",
    "\n",
    ">Input: Integer n, denoting the number of commands.\n",
    "\n",
    ">       Each line  of the  subsequent lines contains one of the commands described below.\n",
    "\n",
    ">> Consider a list (list = [ ]). You can perform the following commands: \n",
    "\n",
    ">> (1) insert i e: Insert integer e  at position i.\n",
    "\n",
    ">> (2) print: Print the list.\n",
    "\n",
    ">> (3) append e: Insert integer e at the end of the list.\n",
    "\n",
    ">> (4) index e: Returns the first index of a value e in the list.\n",
    "\n",
    ">Output: For each command of type print, print the list on a new line."
   ]
  },
  {
   "cell_type": "markdown",
   "metadata": {},
   "source": [
    "*Hint 1. The len() function returns the number of items of an object."
   ]
  },
  {
   "cell_type": "code",
   "execution_count": 2,
   "metadata": {
    "collapsed": false
   },
   "outputs": [
    {
     "name": "stdout",
     "output_type": "stream",
     "text": [
      "5\n",
      "6\n",
      "3\n"
     ]
    }
   ],
   "source": [
    "print(len(\"apple\"))\n",
    "print(len([1,3,2,4,2,3]))\n",
    "print(len(range(6,9)))"
   ]
  },
  {
   "cell_type": "markdown",
   "metadata": {},
   "source": [
    "*Hint 2. The split() breaks the string at the separator and returns a list of strings."
   ]
  },
  {
   "cell_type": "code",
   "execution_count": 21,
   "metadata": {
    "collapsed": false
   },
   "outputs": [
    {
     "name": "stdout",
     "output_type": "stream",
     "text": [
      "['Start', 'where', 'you', 'are']\n",
      "['one', 'two', 'three']\n"
     ]
    }
   ],
   "source": [
    "text = \"Start where you are\"\n",
    "# splits at space\n",
    "print(text.split())\n",
    "\n",
    "number = \"one, two, three\"\n",
    "# splits at ','\n",
    "print(number.split(\", \"))"
   ]
  },
  {
   "cell_type": "code",
   "execution_count": 1,
   "metadata": {
    "collapsed": false
   },
   "outputs": [
    {
     "name": "stdout",
     "output_type": "stream",
     "text": [
      "10\n",
      "insert 0 4\n",
      "print\n",
      "[4]\n",
      "append 7\n",
      "print\n",
      "[4, 7]\n",
      "index 4\n",
      "0\n",
      "index 7\n",
      "1\n",
      "insert 1 8\n",
      "print\n",
      "[4, 8, 7]\n",
      "insert 0 3\n",
      "print\n",
      "[3, 4, 8, 7]\n"
     ]
    }
   ],
   "source": [
    "# solution\n",
    "arr = []\n",
    "for i in range(int(raw_input())):\n",
    "    s = raw_input().split()\n",
    "    for i in range(1,len(s)):\n",
    "        s[i] = int(s[i])\n",
    "    if s[0] == \"insert\":\n",
    "        arr.insert(s[1],s[2])\n",
    "    elif s[0] == \"print\":\n",
    "        print arr\n",
    "    elif s[0] == \"append\":\n",
    "        arr.append(s[1])\n",
    "    elif s[0] == \"index\":\n",
    "        print arr.index(s[1])"
   ]
  },
  {
   "cell_type": "markdown",
   "metadata": {},
   "source": [
    "## 4. Are you ready? \n",
    "### DIY at https://www.hackerrank.com/challenges/python-lists"
   ]
  }
 ],
 "metadata": {
  "anaconda-cloud": {},
  "kernelspec": {
   "display_name": "Python [default]",
   "language": "python",
   "name": "python2"
  },
  "language_info": {
   "codemirror_mode": {
    "name": "ipython",
    "version": 2
   },
   "file_extension": ".py",
   "mimetype": "text/x-python",
   "name": "python",
   "nbconvert_exporter": "python",
   "pygments_lexer": "ipython2",
   "version": "2.7.12"
  }
 },
 "nbformat": 4,
 "nbformat_minor": 1
}
