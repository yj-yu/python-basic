{
 "cells": [
  {
   "cell_type": "markdown",
   "metadata": {},
   "source": [
    "# 07 파이썬 정규표현식과 XML"
   ]
  },
  {
   "cell_type": "markdown",
   "metadata": {},
   "source": [
    "## 07-1 Regular Expressions 정규표현식(정규식) 살펴보기\n",
    "복잡한 문자열을 처리할 때 사용하는 기법. Python만의 고유 문법이 아니라 문자열을 처리하는 모든 곳에서 사용됨.\n",
    "\n",
    "(ref: https://docs.python.org/3.4/howto/regex.html)\n"
   ]
  },
  {
   "cell_type": "markdown",
   "metadata": {},
   "source": [
    "### 정규식 왜 필요?\n",
    "문제:\n",
    "\n",
    "주민등록번호를 포함하고 있는 텍스트가 있는데, \n",
    "이 텍스트에 포함한 모든 주민등록번호의 뒷자리를 \\* 문자로 변경\n",
    "1. 전체 텍스트를 공백 문자로 나눔(split)\n",
    "2. 나누어진 단어들이 주민번호 형식인지 조사\n",
    "3. 단어가 주민번호 형식이면 뒷자리 \\*로 변환\n",
    "4. 나누어진 단어 재조립"
   ]
  },
  {
   "cell_type": "code",
   "execution_count": 2,
   "metadata": {},
   "outputs": [
    {
     "name": "stdout",
     "output_type": "stream",
     "text": [
      "\n",
      "park 800905-*******\n",
      "kim  700905-*******\n",
      "\n"
     ]
    }
   ],
   "source": [
    "data = \"\"\"\n",
    "park 800905-1049118\n",
    "kim  700905-1059119\n",
    "\"\"\"\n",
    "\n",
    "result = []\n",
    "for line in data.split('\\n'):\n",
    "    word_result = []\n",
    "    for word in line.split(' '):\n",
    "        if len(word) == 14 and word[:6].isdigit() and word[7:].isdigit():\n",
    "            word = word[:6] + '-' '*******'\n",
    "            \n",
    "        word_result.append(word)\n",
    "    result.append(' '.join(word_result))   # 요소 사이에 ' '추가하여 합침.\n",
    "print('\\n'.join(result))   # 요소 사이에 '\\n'추가하여 합침."
   ]
  },
  {
   "cell_type": "markdown",
   "metadata": {},
   "source": [
    "정규식을 사용하면 훨씬 간편하고 직관적인 코드가 된다."
   ]
  },
  {
   "cell_type": "code",
   "execution_count": 3,
   "metadata": {},
   "outputs": [
    {
     "name": "stdout",
     "output_type": "stream",
     "text": [
      "\n",
      "park 800905-*******\n",
      "kim  700905-*******\n",
      "\n"
     ]
    }
   ],
   "source": [
    "import re\n",
    "\n",
    "data = \"\"\"\n",
    "park 800905-1049118\n",
    "kim  700905-1059119\n",
    "\"\"\"\n",
    "\n",
    "pat = re.compile(\"(\\d{6})[-]\\d{7}\")  # 숫자 6개 + \"-\" 1개 + 숫자 7개\n",
    "print(pat.sub(\"\\g<1>-*******\", data))"
   ]
  },
  {
   "cell_type": "markdown",
   "metadata": {},
   "source": [
    "## 07-2 정규 표현식 시작하기"
   ]
  },
  {
   "cell_type": "markdown",
   "metadata": {},
   "source": [
    "### 정규 표현식의 기초, 메타 문자 (meta characters)"
   ]
  },
  {
   "cell_type": "markdown",
   "metadata": {},
   "source": [
    "```\n",
    ". ^ * + ? { } [ ] \\ | ( )\n",
    "```"
   ]
  },
  {
   "cell_type": "markdown",
   "metadata": {},
   "source": [
    "**문자 클래스, character class []**\n",
    "\n",
    "문자 클래스로 만들어진 정규식은 \"\\[ 와 \\] 사이의 문자들과 매치\"의 의미\n",
    "\n",
    "ex) [abc]: \"a, b, c 중 한 개의 문자와 매치\n",
    "* \"a\": 일치하는 부분이 있으므로 매치\n",
    "* \"before\": 일치하는 부분이 있으므로 매치\n",
    "* \"dude\": 어느 하나도 포함하고 있지 않으므로 매치되지 않음"
   ]
  },
  {
   "cell_type": "markdown",
   "metadata": {},
   "source": [
    "[form - to]\n",
    "\n",
    "\\[a-c\\]: a 부터 c 사이 = [abc]\n",
    "\n",
    "\\[0-5\\]: a 부터 c 사이 = [012345]"
   ]
  },
  {
   "cell_type": "markdown",
   "metadata": {},
   "source": [
    "ex)\n",
    "* [a-zA-Z]: 알파벳 모두\n",
    "* [0-9]: 숫자"
   ]
  },
  {
   "cell_type": "markdown",
   "metadata": {},
   "source": [
    "^ : 반대(not)의 의미\n",
    "* [^0-9]: 숫자가 아닌 모든 문자"
   ]
  },
  {
   "cell_type": "markdown",
   "metadata": {},
   "source": [
    "자주 사용하는 문자 클래스\n",
    "* [0-9] & [a-zA-Z]\n",
    "* \\d : 숫자와 매치 = [0-9]\n",
    "* \\D : 숫자가 아닌것 과 매치 = [^0-9]\n",
    "* \\s : whitespace 문자와 매치 = [ \\t\\n\\r\\f\\v] 맨 앞의 빈칸은 공백문자(space) 의미\n",
    "* \\S : whitespace 문자가 아닌 것과 매치 = [^ \\t\\n\\r\\f\\v]\n",
    "* \\w : 문자와 숫자(alphanumeric)와 매치 = [a-zA-Z0-9]\n",
    "* \\W : 문자와 숫자가 아닌 문자와 매치 = [^a-zA-Z0-9]"
   ]
  },
  {
   "cell_type": "markdown",
   "metadata": {},
   "source": [
    "#### Dot(.)\n",
    "줄바꿈 문자인 \\n 을 제외한 모든 문자와 매치\n",
    "\n",
    "(re.DOTALL: \\n 문자와도 매치)"
   ]
  },
  {
   "cell_type": "markdown",
   "metadata": {},
   "source": [
    "```\n",
    "a.b\n",
    "```\n",
    "\"a + 모든문자 + b\": a와 b라는 문자 사이에 어떤 문자가 들어가도 모두 매치\n",
    "ex)\n",
    "* \"aab\": 매치\n",
    "* \"a0b\": 매치\n",
    "* \"abc\": 비매치"
   ]
  },
  {
   "cell_type": "markdown",
   "metadata": {},
   "source": [
    "주의: 문자 클래스 [ ] 내에 Dot(.) 메타 문자가 사용된다면 문자 \".\" 그대로를 의미\n",
    "```\n",
    "a[.]b\n",
    "```\n",
    "* \"a.b\": 매치\n",
    "* \"a0b\": 비매치"
   ]
  },
  {
   "cell_type": "markdown",
   "metadata": {},
   "source": [
    "#### 반복 (*)\n",
    "반복을 의미하는 * 메타문자. \n",
    "```\n",
    "ca*t\n",
    "```\n",
    "문자 a 가 0 부터 무한대로 반복될 수 있다는 의미\n",
    "* \"ct\": 매치\n",
    "* \"cat\": 매치\n",
    "* \"caaat\": 매치"
   ]
  },
  {
   "cell_type": "markdown",
   "metadata": {},
   "source": [
    "#### 반복 (+)\n",
    "반복을 나타내는 또다른 문자 +\n",
    "문자가 최소1번 이상 반복될 때 매치\n",
    "```\n",
    "ca+t\n",
    "```\n",
    "* \"ct\": 비매치\n",
    "* \"cat\": 매치\n",
    "* \"caaat\": 매치"
   ]
  },
  {
   "cell_type": "markdown",
   "metadata": {},
   "source": [
    "#### 반복 ({m,n}, ?)\n",
    "반복 횟수를 고정. {m, n} : 반복 횟수가 m부터 n까지인 것을 매치\n",
    "\n",
    "{1,} = +\n",
    "\n",
    "{0,} = *"
   ]
  },
  {
   "cell_type": "markdown",
   "metadata": {},
   "source": [
    "**{m}**\n",
    "```\n",
    "ca{2}t\n",
    "```\n",
    "* cat: NO\n",
    "* caat: YES\n"
   ]
  },
  {
   "cell_type": "markdown",
   "metadata": {},
   "source": [
    "**{m, n}**\n",
    "```\n",
    "ca{2,5}t\n",
    "```\n",
    "* cat: NO\n",
    "* caat: YES\n",
    "* caaaaat: YES\n"
   ]
  },
  {
   "cell_type": "markdown",
   "metadata": {},
   "source": [
    "**?**\n",
    "\n",
    "{0,1}과 동일\n",
    "```\n",
    "ab?c\n",
    "```\n",
    "* abc: YES\n",
    "* ac: YES"
   ]
  },
  {
   "cell_type": "markdown",
   "metadata": {},
   "source": [
    "#### re 모듈, 파이썬에서 정규 표현식을 지원\n",
    "\n",
    "re(regular expression)"
   ]
  },
  {
   "cell_type": "code",
   "execution_count": 9,
   "metadata": {
    "collapsed": true
   },
   "outputs": [],
   "source": [
    "import re\n",
    "p = re.compile('ab*')"
   ]
  },
  {
   "cell_type": "markdown",
   "metadata": {},
   "source": [
    "re.compile 을 이용하여 정규표현식을 컴파일\n",
    "\n",
    "컴파일된 패턴객체(re.compile의 결과로 리턴되는 객체, p)를 이용하여 그 이후의 작업 수행 가능\n",
    "\n",
    "* 패턴 = 정규식을 컴파일한 결과"
   ]
  },
  {
   "cell_type": "markdown",
   "metadata": {},
   "source": [
    "#### 정규식을 이용한 문자열 검색\n",
    "컴파일 된 패턴 객체는 4가지 메쏘드를 제공\n",
    "* match(): 문자열의 처음부터 정규식과 매치되는지 조사\n",
    "* search(): 문자열 전체를 검색하여 정규식과 매치되는지 조사\n",
    "* findall(): 정규식과 매치되는 문자열(substring)을 리스트로 리턴\n",
    "* finditer(): 정규식과 매치되는 문자열을 iterator 객체로 리턴\n",
    "\n",
    "match, search는 정규식과 매치될 때에는 match 객체를 리턴, 매치되지 않는 경우 None 리턴"
   ]
  },
  {
   "cell_type": "code",
   "execution_count": 11,
   "metadata": {
    "collapsed": true
   },
   "outputs": [],
   "source": [
    "import re\n",
    "p = re.compile('[a-z]+')  # 패턴 객체 생성: 영어소문자 1개 이상 반복"
   ]
  },
  {
   "cell_type": "markdown",
   "metadata": {},
   "source": [
    "**match**\n",
    "\n",
    "문자열의 처음부터 정규식과 매치되는지 조사\n"
   ]
  },
  {
   "cell_type": "code",
   "execution_count": 14,
   "metadata": {},
   "outputs": [
    {
     "name": "stdout",
     "output_type": "stream",
     "text": [
      "<_sre.SRE_Match object; span=(0, 6), match='python'>\n"
     ]
    }
   ],
   "source": [
    "m = p.match(\"python\")\n",
    "print(m)  # 정규식 [a-z+]에 부합되므로 match 객체가 리턴"
   ]
  },
  {
   "cell_type": "code",
   "execution_count": 15,
   "metadata": {},
   "outputs": [
    {
     "name": "stdout",
     "output_type": "stream",
     "text": [
      "None\n"
     ]
    }
   ],
   "source": [
    "m = p.match(\"3 python\") \n",
    "print(m) # 처음부터 검색할 시 부합하지 않으므로 None 리턴"
   ]
  },
  {
   "cell_type": "code",
   "execution_count": 17,
   "metadata": {},
   "outputs": [
    {
     "name": "stdout",
     "output_type": "stream",
     "text": [
      "Match found: string goes here\n"
     ]
    }
   ],
   "source": [
    "p = re.compile('\\D+') # 숫자가 아닌 모든 문자 1번 이상 반복\n",
    "m = p.match('string goes here')\n",
    "if m:\n",
    "    print('Match found:', m.group())\n",
    "else:\n",
    "    print('No match')"
   ]
  },
  {
   "cell_type": "markdown",
   "metadata": {},
   "source": [
    "**search**\n",
    "\n",
    "문자열 전체를 검색하여 정규식과 매치되는지 조사. "
   ]
  },
  {
   "cell_type": "code",
   "execution_count": 22,
   "metadata": {},
   "outputs": [
    {
     "name": "stdout",
     "output_type": "stream",
     "text": [
      "<_sre.SRE_Match object; span=(0, 6), match='python'>\n"
     ]
    }
   ],
   "source": [
    "import re\n",
    "p = re.compile('[a-z]+')  # 패턴 객체 생성: 영어소문자 1개 이상 반복\n",
    "m = p.search(\"python\")\n",
    "print(m)  # 정규식 [a-z+]에 부합되므로 match 객체가 리턴"
   ]
  },
  {
   "cell_type": "code",
   "execution_count": 23,
   "metadata": {},
   "outputs": [
    {
     "name": "stdout",
     "output_type": "stream",
     "text": [
      "<_sre.SRE_Match object; span=(2, 8), match='python'>\n"
     ]
    }
   ],
   "source": [
    "m = p.search(\"3 python\") \n",
    "print(m) # 두번 쨰 문자열은 부합하므로 match 객체 리턴"
   ]
  },
  {
   "cell_type": "markdown",
   "metadata": {},
   "source": [
    "**findall**\n",
    "\n",
    "정규식과 매치되는 문자열(substring)을 리스트로 리턴"
   ]
  },
  {
   "cell_type": "code",
   "execution_count": 25,
   "metadata": {},
   "outputs": [
    {
     "name": "stdout",
     "output_type": "stream",
     "text": [
      "['life', 'is', 'too', 'short']\n"
     ]
    }
   ],
   "source": [
    "result = p.findall(\"life is too short\")\n",
    "print(result)"
   ]
  },
  {
   "cell_type": "markdown",
   "metadata": {},
   "source": [
    "**finditer**\n",
    "\n",
    " 정규식과 매치되는 문자열을 iterator 객체로 리턴"
   ]
  },
  {
   "cell_type": "code",
   "execution_count": 27,
   "metadata": {},
   "outputs": [
    {
     "name": "stdout",
     "output_type": "stream",
     "text": [
      "<callable_iterator object at 0x1022e5588>\n"
     ]
    }
   ],
   "source": [
    "result = p.finditer(\"life is too short\")\n",
    "print(result)"
   ]
  },
  {
   "cell_type": "code",
   "execution_count": 28,
   "metadata": {},
   "outputs": [
    {
     "name": "stdout",
     "output_type": "stream",
     "text": [
      "<_sre.SRE_Match object; span=(0, 4), match='life'>\n",
      "<_sre.SRE_Match object; span=(5, 7), match='is'>\n",
      "<_sre.SRE_Match object; span=(8, 11), match='too'>\n",
      "<_sre.SRE_Match object; span=(12, 17), match='short'>\n"
     ]
    }
   ],
   "source": [
    "for r in result: print(r)"
   ]
  },
  {
   "cell_type": "markdown",
   "metadata": {},
   "source": [
    "#### match 객체의 메서드\n",
    "* 어떤 문자열이 매치되었는가?\n",
    "* 매치된 문자열의 인덱스는 어디서부터 어디까지인가?"
   ]
  },
  {
   "cell_type": "markdown",
   "metadata": {},
   "source": [
    "종류\n",
    "* group(): 매치된 문자열을 리턴\n",
    "* start(): 매치된 문자열의 시작 위치를 리턴\n",
    "* end(): 매치된 문자열의 끝 위치를 리턴\n",
    "* span(): 매치된 문자열의 (시작, 끝)에 해당하는 tuple 리턴"
   ]
  },
  {
   "cell_type": "code",
   "execution_count": 29,
   "metadata": {},
   "outputs": [
    {
     "data": {
      "text/plain": [
       "'python'"
      ]
     },
     "execution_count": 29,
     "metadata": {},
     "output_type": "execute_result"
    }
   ],
   "source": [
    "m = p.match(\"python\")\n",
    "m.group()"
   ]
  },
  {
   "cell_type": "code",
   "execution_count": 34,
   "metadata": {},
   "outputs": [
    {
     "data": {
      "text/plain": [
       "0"
      ]
     },
     "execution_count": 34,
     "metadata": {},
     "output_type": "execute_result"
    }
   ],
   "source": [
    "m.start()  # match는 문자열 처음부터 검색하므로 항상 0"
   ]
  },
  {
   "cell_type": "code",
   "execution_count": 32,
   "metadata": {},
   "outputs": [
    {
     "data": {
      "text/plain": [
       "6"
      ]
     },
     "execution_count": 32,
     "metadata": {},
     "output_type": "execute_result"
    }
   ],
   "source": [
    "m.end()"
   ]
  },
  {
   "cell_type": "code",
   "execution_count": 33,
   "metadata": {},
   "outputs": [
    {
     "data": {
      "text/plain": [
       "(0, 6)"
      ]
     },
     "execution_count": 33,
     "metadata": {},
     "output_type": "execute_result"
    }
   ],
   "source": [
    "m.span()"
   ]
  },
  {
   "cell_type": "code",
   "execution_count": 35,
   "metadata": {},
   "outputs": [
    {
     "data": {
      "text/plain": [
       "'python'"
      ]
     },
     "execution_count": 35,
     "metadata": {},
     "output_type": "execute_result"
    }
   ],
   "source": [
    "m = p.search(\"3 python\")\n",
    "m.group()"
   ]
  },
  {
   "cell_type": "code",
   "execution_count": 36,
   "metadata": {},
   "outputs": [
    {
     "data": {
      "text/plain": [
       "2"
      ]
     },
     "execution_count": 36,
     "metadata": {},
     "output_type": "execute_result"
    }
   ],
   "source": [
    "m.start()"
   ]
  },
  {
   "cell_type": "code",
   "execution_count": 37,
   "metadata": {},
   "outputs": [
    {
     "data": {
      "text/plain": [
       "8"
      ]
     },
     "execution_count": 37,
     "metadata": {},
     "output_type": "execute_result"
    }
   ],
   "source": [
    "m.end()"
   ]
  },
  {
   "cell_type": "code",
   "execution_count": 38,
   "metadata": {},
   "outputs": [
    {
     "data": {
      "text/plain": [
       "(2, 8)"
      ]
     },
     "execution_count": 38,
     "metadata": {},
     "output_type": "execute_result"
    }
   ],
   "source": [
    "m.span()"
   ]
  },
  {
   "cell_type": "markdown",
   "metadata": {},
   "source": [
    "#### 모듈 단위로 수행하기"
   ]
  },
  {
   "cell_type": "code",
   "execution_count": 40,
   "metadata": {
    "collapsed": true
   },
   "outputs": [],
   "source": [
    "m = re.match('[a-z]+', 'python')"
   ]
  },
  {
   "cell_type": "markdown",
   "metadata": {},
   "source": [
    "### 컴파일 옵션\n",
    "* DOTALL(S) - Dot(.)이 줄바꿈 문자를 포함하여 문자와 매치할 수 있도록\n",
    "* IGNORECASE(I) - 대소문자에 관계없이 매치할 수 있도록\n",
    "* MULTILINE(M) - 여러줄과 매치할 수 있도록 (^, $ 메타문자 사용과 관계가 있음)\n",
    "* VERBOSE(X) - verbose 모드를 사용할 수 있도록 (정규식을 보기 편하게 만들 수 있고, 주석등을 가능하게 함)"
   ]
  },
  {
   "cell_type": "markdown",
   "metadata": {},
   "source": [
    "#### DOTALL, S\n",
    ". 메타 문자는 줄바꿈문자(\\n)를 제외한 모든 문자와 매치되는 규칙\n",
    "\n",
    "\\n 문자도 포함하여 매치하고 싶다면 re.DOTALL 또는 re.S 옵션 사용\n",
    "\n",
    "여러줄로 이루어진 문자열에서 \\n 에 상관없이 검색하고자 할 경우 사용됨"
   ]
  },
  {
   "cell_type": "code",
   "execution_count": 49,
   "metadata": {},
   "outputs": [
    {
     "name": "stdout",
     "output_type": "stream",
     "text": [
      "None\n"
     ]
    }
   ],
   "source": [
    "import re\n",
    "p = re.compile('a.b')\n",
    "m = p.match('a\\nb')\n",
    "print(m)"
   ]
  },
  {
   "cell_type": "code",
   "execution_count": 44,
   "metadata": {},
   "outputs": [
    {
     "name": "stdout",
     "output_type": "stream",
     "text": [
      "<_sre.SRE_Match object; span=(0, 3), match='a\\nb'>\n"
     ]
    }
   ],
   "source": [
    "p = re.compile('a.b', re.DOTALL)\n",
    "m = p.match('a\\nb')\n",
    "print(m)"
   ]
  },
  {
   "cell_type": "markdown",
   "metadata": {},
   "source": [
    "#### IGNORECASE, I\n",
    "대소문자 구분없이 매치를 수행하도록"
   ]
  },
  {
   "cell_type": "code",
   "execution_count": 52,
   "metadata": {},
   "outputs": [
    {
     "data": {
      "text/plain": [
       "<_sre.SRE_Match object; span=(0, 1), match='p'>"
      ]
     },
     "execution_count": 52,
     "metadata": {},
     "output_type": "execute_result"
    }
   ],
   "source": [
    "p = re.compile('[a-z]', re.I)\n",
    "p.match('python')"
   ]
  },
  {
   "cell_type": "code",
   "execution_count": 53,
   "metadata": {},
   "outputs": [
    {
     "data": {
      "text/plain": [
       "<_sre.SRE_Match object; span=(0, 1), match='P'>"
      ]
     },
     "execution_count": 53,
     "metadata": {},
     "output_type": "execute_result"
    }
   ],
   "source": [
    "p.match('Python')"
   ]
  },
  {
   "cell_type": "code",
   "execution_count": 54,
   "metadata": {},
   "outputs": [
    {
     "data": {
      "text/plain": [
       "<_sre.SRE_Match object; span=(0, 1), match='P'>"
      ]
     },
     "execution_count": 54,
     "metadata": {},
     "output_type": "execute_result"
    }
   ],
   "source": [
    "p.match('PYTHON')"
   ]
  },
  {
   "cell_type": "markdown",
   "metadata": {},
   "source": [
    "#### MULTILINE, M\n",
    "여러줄과 매치할 수 있도록 \n",
    "\n",
    "* ^: 문자열의 처음을 의미\n",
    "* $: 문자열의 마지막\n",
    "\n",
    "ex) \n",
    "\n",
    "^python : 문자열의 처음은 항상 python으로 시작해야 매치됨.\n",
    "\n",
    "python$ : 문자열의 마지막은 항상 python으로 끝나야 매치됨."
   ]
  },
  {
   "cell_type": "code",
   "execution_count": 55,
   "metadata": {},
   "outputs": [
    {
     "name": "stdout",
     "output_type": "stream",
     "text": [
      "['python one']\n"
     ]
    }
   ],
   "source": [
    "import re\n",
    "p = re.compile(\"^python\\s\\w+\") # python으로 시작하고 그 후에 whitespace, 그 후에 단어가 와야함\n",
    "\n",
    "data = \"\"\"python one\n",
    "life is too short\n",
    "python two\n",
    "you need python\n",
    "python tree\"\"\"\n",
    "\n",
    "print(p.findall(data)) # python 이라는 문자열이 사용된 첫번쨰 라인만 매치가 됨."
   ]
  },
  {
   "cell_type": "code",
   "execution_count": 56,
   "metadata": {},
   "outputs": [
    {
     "name": "stdout",
     "output_type": "stream",
     "text": [
      "['python one', 'python two', 'python tree']\n"
     ]
    }
   ],
   "source": [
    "import re\n",
    "p = re.compile(\"^python\\s\\w+\", re.MULTILINE)\n",
    "\n",
    "data = \"\"\"python one\n",
    "life is too short\n",
    "python two\n",
    "you need python\n",
    "python tree\"\"\"\n",
    "\n",
    "print(p.findall(data)) "
   ]
  },
  {
   "cell_type": "markdown",
   "metadata": {},
   "source": [
    "#### VERBOSE, X \n",
    "여려운 정규식을 주석 또는 라인 단위로 구분하고 첨삭 달 수 있게함."
   ]
  },
  {
   "cell_type": "code",
   "execution_count": 57,
   "metadata": {
    "collapsed": true
   },
   "outputs": [],
   "source": [
    "charref = re.compile(r'&[#](0[0-7]+|[0-9]+|x[0-9a-fA-F]+);')"
   ]
  },
  {
   "cell_type": "code",
   "execution_count": 58,
   "metadata": {
    "collapsed": true
   },
   "outputs": [],
   "source": [
    "charref = re.compile(r\"\"\"\n",
    " &[#]                # Start of a numeric entity reference\n",
    " (\n",
    "     0[0-7]+         # Octal form\n",
    "   | [0-9]+          # Decimal form\n",
    "   | x[0-9a-fA-F]+   # Hexadecimal form\n",
    " )\n",
    " ;                   # Trailing semicolon\n",
    "\"\"\", re.VERBOSE)"
   ]
  },
  {
   "cell_type": "markdown",
   "metadata": {},
   "source": [
    "### 백슬래시(\\) 문제\n",
    "정규표현식을 파이썬에서 사용하려 할때 혼란을 줄 수 있다. \n",
    "\n",
    "ex) LaTex파일에서 \\section이라는 문자열을 찾기 위한 정규식을 만든다고 가정할때\n",
    "```\n",
    "\\section\n",
    "```\n",
    "\\s 가 whtiespace 로 해석되어 의도한대로 매치가 안됨.\n",
    "\n",
    "```\n",
    "[ \\t\\n\\r\\f\\v]eection\n",
    "```\n",
    "과 동일한 의미"
   ]
  },
  {
   "cell_type": "markdown",
   "metadata": {},
   "source": [
    "```\n",
    "\\\\section\n",
    "```\n",
    "의로 변경해야 함.\n",
    "\n",
    "하지만, 이 또한 다른 문제 발견. 파이썬 문자열 리터럴 규칙에 의하여 \\\\ 이 \\ 로 변경되어 \\section이 전달됨 (파이썬만의 문제)\n",
    "\n",
    "결국, 정규식 엔진에 \\\\문자를 전달하려면 파이썬은 \\\\\\\\, 백슬래시 4개가 필요"
   ]
  },
  {
   "cell_type": "code",
   "execution_count": 60,
   "metadata": {
    "collapsed": true
   },
   "outputs": [],
   "source": [
    "p = re.compile('\\\\\\\\section')"
   ]
  },
  {
   "cell_type": "markdown",
   "metadata": {},
   "source": [
    "파이썬 정규식에 Raw String이 생겨남"
   ]
  },
  {
   "cell_type": "code",
   "execution_count": 62,
   "metadata": {
    "collapsed": true
   },
   "outputs": [],
   "source": [
    "p = re.compile(r'\\\\section') # r 문자를 선행하면, 정규식은 Raw String 규칙에 따름. "
   ]
  },
  {
   "cell_type": "markdown",
   "metadata": {},
   "source": [
    "## 07-3 강력한 정규 표현식의 세계로\n",
    "다른 메타 문자, Group을 만드는 법, 전방 탐색 등을 배운다. "
   ]
  },
  {
   "cell_type": "markdown",
   "metadata": {},
   "source": [
    "### 메타분자\n",
    "+, *, [], {} 매치가 진행될때 현재 매치되고 있는 문자열의 위치가 변경된다. \n",
    "\n",
    "문자열을 소모시키지 않는 (zero-width assertions) 메타 문자 에 대하여"
   ]
  },
  {
   "cell_type": "markdown",
   "metadata": {},
   "source": [
    "#### |\n",
    "\"or\"의 의미와 동일. A|B는 A 또는 B"
   ]
  },
  {
   "cell_type": "code",
   "execution_count": 64,
   "metadata": {},
   "outputs": [
    {
     "name": "stdout",
     "output_type": "stream",
     "text": [
      "<_sre.SRE_Match object; span=(0, 4), match='Crow'>\n"
     ]
    }
   ],
   "source": [
    "p = re.compile('Crow|Servo')\n",
    "m = p.match('CrowHello')\n",
    "print(m)"
   ]
  },
  {
   "cell_type": "markdown",
   "metadata": {},
   "source": [
    "#### ^\n",
    "문자열의 맨 처음과 일치함을 의미. \n",
    "\n",
    "re.MULTILINE 사용할 경우, 여러줄의 문자열에서 각 라인의 처음과 일치하게됨."
   ]
  },
  {
   "cell_type": "code",
   "execution_count": 67,
   "metadata": {},
   "outputs": [
    {
     "name": "stdout",
     "output_type": "stream",
     "text": [
      "<_sre.SRE_Match object; span=(0, 4), match='Life'>\n"
     ]
    }
   ],
   "source": [
    "print(re.search(\"^Life\", \"Life is too short\"))"
   ]
  },
  {
   "cell_type": "code",
   "execution_count": 68,
   "metadata": {},
   "outputs": [
    {
     "name": "stdout",
     "output_type": "stream",
     "text": [
      "None\n"
     ]
    }
   ],
   "source": [
    "print(re.search(\"^Life\", \"My Life\"))"
   ]
  },
  {
   "cell_type": "markdown",
   "metadata": {},
   "source": [
    "#### $\n",
    "문자열의 끝과 매치함"
   ]
  },
  {
   "cell_type": "code",
   "execution_count": 69,
   "metadata": {},
   "outputs": [
    {
     "name": "stdout",
     "output_type": "stream",
     "text": [
      "<_sre.SRE_Match object; span=(12, 17), match='short'>\n"
     ]
    }
   ],
   "source": [
    "print(re.search('short$', 'Life is too short'))"
   ]
  },
  {
   "cell_type": "code",
   "execution_count": 70,
   "metadata": {},
   "outputs": [
    {
     "name": "stdout",
     "output_type": "stream",
     "text": [
      "None\n"
     ]
    }
   ],
   "source": [
    "print(re.search('short$', 'Life is too short, you need python'))"
   ]
  },
  {
   "cell_type": "markdown",
   "metadata": {},
   "source": [
    "'^','$'를 메타문자가 아닌 문자 그대로 매치하고 싶은 경우, [^], [$] 또는 \\^, \\$"
   ]
  },
  {
   "cell_type": "markdown",
   "metadata": {
    "collapsed": true
   },
   "source": [
    "#### \\A\n",
    "문자열의 처음과 매치됨, ^와 동일한 의미지만, \n",
    "\n",
    "re.MULTILINE 옵션을 사용할 경우, 라인과 상관없이 전체 문자열의 처음하고만 매치됨"
   ]
  },
  {
   "cell_type": "markdown",
   "metadata": {},
   "source": [
    "#### \\Z\n",
    "문자열의 끝과 매치됨\n",
    "\n",
    "re.MULTILINE 옵션을 사용할 경우, $와 달리 전체 문자열의 끝과 매치됨"
   ]
  },
  {
   "cell_type": "markdown",
   "metadata": {},
   "source": [
    "#### \\b\n",
    "단어 구분자(Word boundary)이다. 보통 단어는 whitespace에 의해 구분됨"
   ]
  },
  {
   "cell_type": "code",
   "execution_count": 2,
   "metadata": {},
   "outputs": [
    {
     "name": "stdout",
     "output_type": "stream",
     "text": [
      "<_sre.SRE_Match object; span=(3, 8), match='class'>\n"
     ]
    }
   ],
   "source": [
    "import re\n",
    "p = re.compile(r'\\bclass\\b') # \" class \"와 매치됨.\n",
    "print(p.search('no class at all'))"
   ]
  },
  {
   "cell_type": "code",
   "execution_count": 3,
   "metadata": {},
   "outputs": [
    {
     "name": "stdout",
     "output_type": "stream",
     "text": [
      "None\n"
     ]
    }
   ],
   "source": [
    "print(p.search('one subclass is'))"
   ]
  },
  {
   "cell_type": "markdown",
   "metadata": {},
   "source": [
    "주의: \\b 메타 문자는 파이썬 리터럴 규칙에 의해 백스페이스 (Back Space)를 의미하므로 raw string을 사용해야함\n",
    "    \n",
    "```\n",
    "r'\\bclass\\b'\n",
    "```"
   ]
  },
  {
   "cell_type": "markdown",
   "metadata": {},
   "source": [
    "#### \\B \n",
    "\\b 의 반대. whitespace로 구분된 단어가 아닌 경우"
   ]
  },
  {
   "cell_type": "code",
   "execution_count": 9,
   "metadata": {},
   "outputs": [
    {
     "name": "stdout",
     "output_type": "stream",
     "text": [
      "None\n"
     ]
    }
   ],
   "source": [
    "p = re.compile(r'\\Bclass\\B') # \"...class...\" 와 매치 \n",
    "print(p.search('no class at all'))"
   ]
  },
  {
   "cell_type": "code",
   "execution_count": 7,
   "metadata": {},
   "outputs": [
    {
     "name": "stdout",
     "output_type": "stream",
     "text": [
      "<_sre.SRE_Match object; span=(6, 11), match='class'>\n"
     ]
    }
   ],
   "source": [
    "print(p.search('the declassififed algorith'))"
   ]
  },
  {
   "cell_type": "code",
   "execution_count": 8,
   "metadata": {},
   "outputs": [
    {
     "name": "stdout",
     "output_type": "stream",
     "text": [
      "None\n"
     ]
    }
   ],
   "source": [
    "print(p.search('one sublcass is'))"
   ]
  },
  {
   "cell_type": "markdown",
   "metadata": {},
   "source": [
    "### 그룹핑\n",
    "정규식 안에 매칭되는 그룹을 만들 수 있다!!!! ( )"
   ]
  },
  {
   "cell_type": "code",
   "execution_count": 36,
   "metadata": {},
   "outputs": [
    {
     "name": "stdout",
     "output_type": "stream",
     "text": [
      "<_sre.SRE_Match object; span=(0, 9), match='ABCABCABC'>\n"
     ]
    }
   ],
   "source": [
    "p = re.compile('(ABC)+')\n",
    "m = p.search('ABCABCABC OK?')\n",
    "print(m)"
   ]
  },
  {
   "cell_type": "code",
   "execution_count": 41,
   "metadata": {},
   "outputs": [
    {
     "name": "stdout",
     "output_type": "stream",
     "text": [
      "ABCABCABC\n"
     ]
    }
   ],
   "source": [
    "print(m.group(0))"
   ]
  },
  {
   "cell_type": "code",
   "execution_count": 42,
   "metadata": {},
   "outputs": [
    {
     "name": "stdout",
     "output_type": "stream",
     "text": [
      "ABC\n"
     ]
    }
   ],
   "source": [
    "print(m.group(1))"
   ]
  },
  {
   "cell_type": "code",
   "execution_count": 16,
   "metadata": {},
   "outputs": [
    {
     "name": "stdout",
     "output_type": "stream",
     "text": [
      "park 010-1234-1234\n"
     ]
    }
   ],
   "source": [
    "p = re.compile(r'\\w+\\s+\\d+[-]\\d+[-]\\d+') # 이름 + \" \" + 전화번호\n",
    "m = p.search(\"park 010-1234-1234\")\n",
    "print(m.group())"
   ]
  },
  {
   "cell_type": "code",
   "execution_count": 20,
   "metadata": {},
   "outputs": [
    {
     "name": "stdout",
     "output_type": "stream",
     "text": [
      "park\n"
     ]
    }
   ],
   "source": [
    "p = re.compile(r'(\\w+)\\s+\\d+[-]\\d+[-]\\d+') # group(index) 메서드를 이용하여 그룹핑된 부분의 문자열만 뽑아낼 수 있다. \n",
    "m = p.search(\"park 010-1234-1234\")\n",
    "print(m.group(1))"
   ]
  },
  {
   "cell_type": "markdown",
   "metadata": {},
   "source": [
    "* group(0): 매치된 전체 문자열\n",
    "* group(1): 첫번째 그룹에 해당되는 문자열\n",
    "* group(n): n번째 그룹에 해당되는 문자열"
   ]
  },
  {
   "cell_type": "code",
   "execution_count": 24,
   "metadata": {},
   "outputs": [
    {
     "name": "stdout",
     "output_type": "stream",
     "text": [
      "park\n"
     ]
    }
   ],
   "source": [
    "p = re.compile(r'(\\w+)\\s+(\\d+[-]\\d+[-]\\d+)')\n",
    "m = p.search(\"park 010-1234-1234\")\n",
    "print(m.group(1))"
   ]
  },
  {
   "cell_type": "code",
   "execution_count": 25,
   "metadata": {},
   "outputs": [
    {
     "name": "stdout",
     "output_type": "stream",
     "text": [
      "010-1234-1234\n"
     ]
    }
   ],
   "source": [
    "print(m.group(2))"
   ]
  },
  {
   "cell_type": "code",
   "execution_count": 33,
   "metadata": {},
   "outputs": [
    {
     "name": "stdout",
     "output_type": "stream",
     "text": [
      "park\n"
     ]
    }
   ],
   "source": [
    "p = re.compile(r'(\\w+)\\s+((\\d+)[-]\\d+[-]\\d+)') \n",
    "# 그룹이 중첩되는 경우 바깥쪽부터 안쪽으로 인덱스 증가\n",
    "m = p.search(\"park 010-1234-1234\")\n",
    "print(m.group(1))"
   ]
  },
  {
   "cell_type": "code",
   "execution_count": 34,
   "metadata": {},
   "outputs": [
    {
     "name": "stdout",
     "output_type": "stream",
     "text": [
      "010-1234-1234\n"
     ]
    }
   ],
   "source": [
    "print(m.group(2))"
   ]
  },
  {
   "cell_type": "code",
   "execution_count": 35,
   "metadata": {},
   "outputs": [
    {
     "name": "stdout",
     "output_type": "stream",
     "text": [
      "010\n"
     ]
    }
   ],
   "source": [
    "print(m.group(3))"
   ]
  },
  {
   "cell_type": "markdown",
   "metadata": {},
   "source": [
    "**그룹핑된 문자열 재참조하기(Backreferences)**\n",
    "\n",
    "재참조 문자\n",
    "\n",
    "\\1 : 그룹1의 단어 재참조\n",
    "\n",
    "\\2 : 그룹2의 단어 재참조"
   ]
  },
  {
   "cell_type": "code",
   "execution_count": 45,
   "metadata": {},
   "outputs": [
    {
     "data": {
      "text/plain": [
       "'the the'"
      ]
     },
     "execution_count": 45,
     "metadata": {},
     "output_type": "execute_result"
    }
   ],
   "source": [
    "p = re.compile(r'(\\b\\w+)\\s+\\1')  # (그룹1) + \" \" + 그룹1과 동일한 단어\n",
    "p.search('Paris in the the spring').group()"
   ]
  },
  {
   "cell_type": "markdown",
   "metadata": {},
   "source": [
    "#### 그룹핑된 문자열에 이름 붙이기, Named Groups\n",
    "그룹을 인덱스가 아닌 이름으로 참조하게 하기\n",
    "```\n",
    "(?P<name>\\w+)\\s+((\\d+)[-]\\d+[-]\\d+)\n",
    "```"
   ]
  },
  {
   "cell_type": "markdown",
   "metadata": {},
   "source": [
    "(\\w+) 라는 그룹에 \"name\"이라는 이름을 붙였다. (?...)은 정규표현식의 확장구문. ... 은 anything을 의미"
   ]
  },
  {
   "cell_type": "markdown",
   "metadata": {},
   "source": [
    "```\n",
    "(?P<그룹명>...)\n",
    "```"
   ]
  },
  {
   "cell_type": "code",
   "execution_count": 47,
   "metadata": {},
   "outputs": [
    {
     "name": "stdout",
     "output_type": "stream",
     "text": [
      "park\n"
     ]
    }
   ],
   "source": [
    "p = re.compile(r\"(?P<name>\\w+)\\s+((\\d+)[-]\\d+[-]\\d+)\")\n",
    "m = p.search(\"park 010-1234-1234\")\n",
    "print(m.group(\"name\"))"
   ]
  },
  {
   "cell_type": "code",
   "execution_count": 49,
   "metadata": {},
   "outputs": [
    {
     "data": {
      "text/plain": [
       "'the the'"
      ]
     },
     "execution_count": 49,
     "metadata": {},
     "output_type": "execute_result"
    }
   ],
   "source": [
    "p = re.compile(r'(?P<word>\\b\\w+)\\s+(?P=word)')  # 그룹명 word를 이용하여 재참조, (?P=그룹명)\n",
    "p.search('Paris in the the sping').group()"
   ]
  },
  {
   "cell_type": "markdown",
   "metadata": {},
   "source": [
    "### 전방 탐색, Lookahead Assertions\n",
    "전방탐색 확장구문이 어려워보이지만, 매우 유용!"
   ]
  },
  {
   "cell_type": "code",
   "execution_count": 51,
   "metadata": {},
   "outputs": [
    {
     "name": "stdout",
     "output_type": "stream",
     "text": [
      "http:\n"
     ]
    }
   ],
   "source": [
    "p = re.compile(\".+:\")\n",
    "m = p.search(\"http://google.com\")\n",
    "print(m.group())"
   ]
  },
  {
   "cell_type": "markdown",
   "metadata": {},
   "source": [
    "정규식 ```.+:```과 일치하는 문자열 'http:'가 리턴.\n",
    "\n",
    "':'를 출력하려면? 그룹핑 추가로 하지않고 한다면??"
   ]
  },
  {
   "cell_type": "markdown",
   "metadata": {},
   "source": [
    "* 긍정형(positive) 전방 탐색 ```(?...)```: ...에 해당된 정규식과 매치되어야 하며 조건이 통과되어도 문자열이 소모되지 않는다. \n",
    "* 부정형(negative) 전방 탐색 ```(?!...)```: ...에 해당된 정규식과 매치되지 않아야 하며 조건이 통과되어도 문자열이 소모되지 않는다."
   ]
  },
  {
   "cell_type": "markdown",
   "metadata": {},
   "source": [
    "**긍정형 전방 탐색**"
   ]
  },
  {
   "cell_type": "code",
   "execution_count": 56,
   "metadata": {},
   "outputs": [
    {
     "name": "stdout",
     "output_type": "stream",
     "text": [
      "http\n"
     ]
    }
   ],
   "source": [
    "p = re.compile(\".+(?=:)\") # : >> (?=:)\n",
    "m = p.search(\"http://google.com\")\n",
    "print(m.group())"
   ]
  },
  {
   "cell_type": "markdown",
   "metadata": {},
   "source": [
    "기존 정규식과 검색에서 동일한 효과를 발휘하지만, \n",
    "\n",
    ": 에 해당되는 문자열이 정규식 엔진에 의해 소모되지 않아 (검색에는 포함되지만 검색결과에 제외됨) 검색 결과에서는 :이 제거된 후 리턴)"
   ]
  },
  {
   "cell_type": "markdown",
   "metadata": {},
   "source": [
    "```\n",
    ".*[.].*$   # 파일명 + '.' + 확장자 를 나타내는 정규식\n",
    "```"
   ]
  },
  {
   "cell_type": "markdown",
   "metadata": {},
   "source": [
    "정규식에 \"확장자가 bat 인 파일은 제외해야 한다\" 라는 조건 추가해보자\n",
    "```\n",
    ".*[.][^b].*$ \n",
    "```\n",
    "확장자가 b라는 문자로 시작하면 안됨"
   ]
  },
  {
   "cell_type": "markdown",
   "metadata": {},
   "source": [
    "```\n",
    "*[.]([^b]..|.[^a].|...[^t])$\n",
    "```\n",
    "\"|\" 문자를 사용하여 확장자의 첫번째가 b가 아니거나, 두번째 문자가 a가 아니거나 세번째 문자가 t가 아닌 경우\n",
    "\n",
    "하지만 이는 확장자의 문자 개수가 2개이 케이스를 포함하지 않음."
   ]
  },
  {
   "cell_type": "markdown",
   "metadata": {},
   "source": [
    "```\n",
    ".+[.]([^b].?.?|.[^a]?.?|..?[^t]?)$\n",
    "```\n",
    "확장자의 문자 개수가 2개여도 통과되는 정규식"
   ]
  },
  {
   "cell_type": "markdown",
   "metadata": {},
   "source": [
    "**부정형 전방 탐색**\n",
    "\n",
    "계속해 늘어나는 긍정형 전방탐색 정규식을 구원해준다. \n",
    "```\n",
    ".*[.](?!bat$).*$\n",
    "```\n",
    "확장자가 bat이 아닌 경우만 통과, bat라는 문자열이 있는 조사하는 과정에서 문자열이 소모되지 않으므로 bat가 아니라고 판단되면 그 이후 정규식 매칭이 진행\n",
    "```\n",
    ".*[.](?!bat$|exe$).*$\n",
    "```\n",
    "exe 역시 제외하라는 조건 추가"
   ]
  },
  {
   "cell_type": "markdown",
   "metadata": {},
   "source": [
    "### 문자열\n",
    "sub 메서드를 이용하면 정규식과 매치되는 부분을 다른 문자로 쉽게 바꿀 수 있음"
   ]
  },
  {
   "cell_type": "code",
   "execution_count": 58,
   "metadata": {},
   "outputs": [
    {
     "data": {
      "text/plain": [
       "'colour socks and colour shoes'"
      ]
     },
     "execution_count": 58,
     "metadata": {},
     "output_type": "execute_result"
    }
   ],
   "source": [
    "p = re.compile('(blue|white|red)')\n",
    "p.sub('colour', 'blue socks and red shoes') # 첫번째 입력인수: 바꿀 문자열(replacement)\n",
    "# 두번째 입력 인수: 대상 문자열"
   ]
  },
  {
   "cell_type": "markdown",
   "metadata": {},
   "source": [
    "**sub 메서드와 유사한 subn 메서드**\n",
    "\n",
    "sub과 동일한 기능을 하지만 리턴되는 결과를 tuple로 리턴. \n",
    "\n",
    "리턴된 tuple의 첫번째 요소는 변경된 문자열, 두번째 요소는 바꾸기가 발생한 횟수"
   ]
  },
  {
   "cell_type": "code",
   "execution_count": 59,
   "metadata": {},
   "outputs": [
    {
     "data": {
      "text/plain": [
       "('colour socks and colour shoes', 2)"
      ]
     },
     "execution_count": 59,
     "metadata": {},
     "output_type": "execute_result"
    }
   ],
   "source": [
    "p = re.compile('(blue|white|red)')\n",
    "p.subn('colour', 'blue socks and red shoes')"
   ]
  },
  {
   "cell_type": "markdown",
   "metadata": {},
   "source": [
    "**sub 메서드 사용시 참조 구문 사용하기**"
   ]
  },
  {
   "cell_type": "code",
   "execution_count": 63,
   "metadata": {},
   "outputs": [
    {
     "name": "stdout",
     "output_type": "stream",
     "text": [
      "010-1234-1234 park\n"
     ]
    }
   ],
   "source": [
    "p = re.compile(r\"(?P<name>\\w+)\\s+(?P<phone>(\\d+)[-]\\d+[-]\\d+)\")\n",
    "print(p.sub(\"\\g<phone> \\g<name>\", \"park 010-1234-1234\")) # sub의 바꿀 문자열과 부분에 \\g<그룹명>을 이용하면 정규식의 그룹명을 참조할수 있다. "
   ]
  },
  {
   "cell_type": "markdown",
   "metadata": {},
   "source": [
    "이름 + 전화번호 의 문자열을 전화번호 + 이름 으로 바꾸는 예."
   ]
  },
  {
   "cell_type": "code",
   "execution_count": 66,
   "metadata": {},
   "outputs": [
    {
     "name": "stdout",
     "output_type": "stream",
     "text": [
      "010-1234-1234 park\n"
     ]
    }
   ],
   "source": [
    "p = re.compile(r\"(?P<name>\\w+)\\s+(?P<phone>(\\d+)[-]\\d+[-]\\d+)\")\n",
    "print(p.sub(\"\\g<2> \\g<1>\", \"park 010-1234-1234\")) # sub의 바꿀 문자열과 부분에 \\g<그룹명>을 이용하면 정규식의 그룹명을 참조할수 있다. "
   ]
  },
  {
   "cell_type": "markdown",
   "metadata": {},
   "source": [
    "**sub 메서드의 입력 이수로 함수 넣기**"
   ]
  },
  {
   "cell_type": "code",
   "execution_count": 69,
   "metadata": {},
   "outputs": [
    {
     "data": {
      "text/plain": [
       "'Call 0xffd2 for printing, 0xc000 for user code.'"
      ]
     },
     "execution_count": 69,
     "metadata": {},
     "output_type": "execute_result"
    }
   ],
   "source": [
    "def hexrepl(match):\n",
    "    \"Return the hex string for a decimal number\"\n",
    "    value = int(match.group())\n",
    "    return hex(value)\n",
    "\n",
    "p = re.compile(r'\\d+')\n",
    "p.sub(hexrepl, 'Call 65490 for printing, 49152 for user code.')"
   ]
  },
  {
   "cell_type": "markdown",
   "metadata": {},
   "source": [
    "### Greedy vs Non-Gready"
   ]
  },
  {
   "cell_type": "code",
   "execution_count": 70,
   "metadata": {},
   "outputs": [
    {
     "name": "stdout",
     "output_type": "stream",
     "text": [
      "(0, 32)\n"
     ]
    }
   ],
   "source": [
    "s = '<html><heed><title>Title</title>'\n",
    "len(s)\n",
    "print(re.match('<.*>', s).span())"
   ]
  },
  {
   "cell_type": "code",
   "execution_count": 71,
   "metadata": {},
   "outputs": [
    {
     "name": "stdout",
     "output_type": "stream",
     "text": [
      "<html><heed><title>Title</title>\n"
     ]
    }
   ],
   "source": [
    "print(re.match('<.*>', s).group())"
   ]
  },
  {
   "cell_type": "markdown",
   "metadata": {},
   "source": [
    "메타 문자 *는 매우 greedy 하여 매치할 수 있는 최대 문자열인 ```<html><head><title>Title</title>``` 문자열 모두를 소모시킨다\n",
    "\n",
    "어떻게 하면 ```<thml>```만 소모되도록 막을 수 있을까?"
   ]
  },
  {
   "cell_type": "code",
   "execution_count": 73,
   "metadata": {},
   "outputs": [
    {
     "name": "stdout",
     "output_type": "stream",
     "text": [
      "<html>\n"
     ]
    }
   ],
   "source": [
    "print(re.match('<.*?>', s).group())"
   ]
  },
  {
   "cell_type": "markdown",
   "metadata": {},
   "source": [
    "non-greedy 문자인 ?은 *?, +?, ??, {m,n}?과 같이 사용하여 가능한 한 가장 최소한의 반복을 수행하도록 도와준다"
   ]
  },
  {
   "cell_type": "markdown",
   "metadata": {},
   "source": [
    "## 07-4 파이썬으로 XML 처리하기\n",
    "XML 처리를 위한 파이썬 라이브러리는 아주 많으며 다음 사이트 참조\n",
    "\n",
    "http://wiki.python.org/moin/PythonXml\n",
    "\n",
    "이 쳅터는 생략."
   ]
  }
 ],
 "metadata": {
  "kernelspec": {
   "display_name": "Python 3",
   "language": "python",
   "name": "python3"
  },
  "language_info": {
   "codemirror_mode": {
    "name": "ipython",
    "version": 3
   },
   "file_extension": ".py",
   "mimetype": "text/x-python",
   "name": "python",
   "nbconvert_exporter": "python",
   "pygments_lexer": "ipython3",
   "version": "3.6.1"
  }
 },
 "nbformat": 4,
 "nbformat_minor": 2
}
